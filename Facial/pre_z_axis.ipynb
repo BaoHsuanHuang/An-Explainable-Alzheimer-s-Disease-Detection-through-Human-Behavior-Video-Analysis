{
 "cells": [
  {
   "cell_type": "markdown",
   "metadata": {},
   "source": [
    "# Import"
   ]
  },
  {
   "cell_type": "code",
   "execution_count": 1,
   "metadata": {},
   "outputs": [],
   "source": [
    "import os\n",
    "import cv2\n",
    "import csv\n",
    "import math\n",
    "import numpy as np\n",
    "import pandas as pd\n",
    "import mediapipe as mp\n",
    "import matplotlib.pyplot as plt\n",
    "\n",
    "from tqdm import tqdm\n",
    "from scipy.signal import savgol_filter"
   ]
  },
  {
   "cell_type": "markdown",
   "metadata": {},
   "source": [
    "# Global Variables"
   ]
  },
  {
   "cell_type": "code",
   "execution_count": 13,
   "metadata": {},
   "outputs": [],
   "source": [
    "KeypointsROOT = \"data/\"\n",
    "VIDEOROOT = \"data/\"\n",
    "\n",
    "TIMESTAMP_PATH = \"_timeStamp_0916.csv\" ### [update] 2023/09/16\n",
    "VIDEOTYPE_PATH = \"_videoType.csv\"\n",
    "\n",
    "invalidList = ['60', '61', '85']"
   ]
  },
  {
   "cell_type": "code",
   "execution_count": 3,
   "metadata": {},
   "outputs": [],
   "source": [
    "LEFT_EYE = [362, 382, 381, 380, 374, 373, 390, 249, 263, 466, 388, 387, 386, 385,384, 398]\n",
    "RIGHT_EYE = [33, 7, 163, 144, 145, 153, 154, 155, 133, 173, 157, 158, 159, 160, 161 , 246]\n",
    "\n",
    "LEFT_IRIS = [474, 475, 476, 477] ### 右, 上, 左, 下\n",
    "RIGHT_IRIS = [469, 470, 471, 472] ### 右, 上, 左, 下\n",
    "\n",
    "LEFT_EYEBROW =[336, 296, 334, 293, 300, 276, 283, 282, 295, 285]\n",
    "RIGHT_EYEBROW = [70, 63, 105, 66, 107, 55, 65, 52, 53, 46]\n",
    "\n",
    "COLOR_BLACK = (0, 0, 0)\n",
    "COLOR_WHITE = (255, 255, 255)\n",
    "COLOR_RED = (0, 0, 255)\n",
    "COLOR_GREEN = (0, 255, 0)\n",
    "COLOR_BLUE = (255, 0, 0)\n",
    "COLOR_PINK = (147,20,255)\n",
    "COLOR_YELLOW = (0,255,255)\n",
    "COLOR_CYAN = (255,255,0)\n",
    "COLOR_MAGENTA = (255,0,255)\n",
    "COLOR_GRAY = (128,128,128)\n",
    "COLOR_PURPLE = (128,0,128)\n",
    "COLOR_ORANGE = (0,165,255)"
   ]
  },
  {
   "cell_type": "markdown",
   "metadata": {},
   "source": [
    "# GPU Setting"
   ]
  },
  {
   "cell_type": "code",
   "execution_count": 4,
   "metadata": {},
   "outputs": [
    {
     "name": "stdout",
     "output_type": "stream",
     "text": [
      "2.5.0\n",
      "[PhysicalDevice(name='/physical_device:CPU:0', device_type='CPU'), PhysicalDevice(name='/physical_device:GPU:0', device_type='GPU')]\n"
     ]
    }
   ],
   "source": [
    "import tensorflow as tf\n",
    "\n",
    "print(tf.__version__)\n",
    "print(tf.config.list_physical_devices())"
   ]
  },
  {
   "cell_type": "code",
   "execution_count": 5,
   "metadata": {},
   "outputs": [
    {
     "name": "stdout",
     "output_type": "stream",
     "text": [
      "1 Physical GPUs, 1 Logical GPUs\n"
     ]
    }
   ],
   "source": [
    "gpus = tf.config.experimental.list_physical_devices('GPU')\n",
    "if gpus:\n",
    "    try:\n",
    "    # Currently, memory growth needs to be the same across GPUs\n",
    "        tf.config.experimental.set_visible_devices(gpus[0], 'GPU')\n",
    "      #  for gpu in gpus:\n",
    "        tf.config.experimental.set_memory_growth(gpus[0], True)\n",
    "        logical_gpus = tf.config.experimental.list_logical_devices('GPU')\n",
    "        print(len(gpus), \"Physical GPUs,\", len(logical_gpus), \"Logical GPUs\")\n",
    "    except RuntimeError as e:\n",
    "    # Memory growth must be set before GPUs have been initialized\n",
    "        print(e)"
   ]
  },
  {
   "cell_type": "markdown",
   "metadata": {},
   "source": [
    "# Load Timestamp"
   ]
  },
  {
   "cell_type": "code",
   "execution_count": 6,
   "metadata": {},
   "outputs": [],
   "source": [
    "timeStamp_dict = {}\n",
    "\n",
    "def load_timestamp():\n",
    "    if not os.path.exists(TIMESTAMP_PATH):\n",
    "        print(f'[Timestamp] CSV does not exit.')\n",
    "    else:\n",
    "        df = pd.read_csv(TIMESTAMP_PATH)\n",
    "        df = df.fillna(0)\n",
    "        n_row, n_col = df.shape[0], df.shape[1]\n",
    "        \n",
    "        data_dict = {}\n",
    "        for idx in range(n_row):\n",
    "            pid = int(df.iloc[idx, 0])\n",
    "            start1 = int(float(df.iloc[idx, 1]))\n",
    "            end1 = int(float(df.iloc[idx, 2]))\n",
    "            \n",
    "            if start1==0 and end1==0:\n",
    "                continue\n",
    "            else:\n",
    "                data_dict[pid] = {}\n",
    "                data_dict[pid][\"1-start\"] = start1\n",
    "                data_dict[pid][\"1-end\"] = end1\n",
    "    return data_dict\n",
    "\n",
    "\n",
    "timeStamp_dict = load_timestamp()"
   ]
  },
  {
   "cell_type": "code",
   "execution_count": 7,
   "metadata": {},
   "outputs": [
    {
     "name": "stdout",
     "output_type": "stream",
     "text": [
      "=== number of pid in timeStamp CSV file: 99 ===\n",
      "\n",
      "Without pid: 41\n",
      "\n",
      "key:1, {'1-start': 67, '1-end': 119}\n",
      "key:2, {'1-start': 111, '1-end': 149}\n",
      "key:3, {'1-start': 62, '1-end': 96}\n",
      "key:4, {'1-start': 111, '1-end': 150}\n",
      "key:5, {'1-start': 119, '1-end': 168}\n",
      "key:6, {'1-start': 57, '1-end': 79}\n",
      "key:7, {'1-start': 62, '1-end': 84}\n",
      "key:8, {'1-start': 93, '1-end': 110}\n",
      "key:9, {'1-start': 61, '1-end': 75}\n",
      "key:10, {'1-start': 106, '1-end': 128}\n",
      "key:11, {'1-start': 145, '1-end': 160}\n",
      "key:12, {'1-start': 73, '1-end': 109}\n",
      "key:13, {'1-start': 71, '1-end': 193}\n",
      "key:14, {'1-start': 59, '1-end': 79}\n",
      "key:15, {'1-start': 66, '1-end': 108}\n",
      "key:16, {'1-start': 91, '1-end': 139}\n",
      "key:17, {'1-start': 85, '1-end': 137}\n",
      "key:18, {'1-start': 90, '1-end': 118}\n",
      "key:19, {'1-start': 84, '1-end': 148}\n",
      "key:20, {'1-start': 71, '1-end': 101}\n",
      "key:21, {'1-start': 64, '1-end': 95}\n",
      "key:22, {'1-start': 87, '1-end': 118}\n",
      "key:23, {'1-start': 82, '1-end': 118}\n",
      "key:24, {'1-start': 80, '1-end': 231}\n",
      "key:25, {'1-start': 71, '1-end': 99}\n",
      "key:26, {'1-start': 72, '1-end': 115}\n",
      "key:27, {'1-start': 67, '1-end': 107}\n",
      "key:28, {'1-start': 66, '1-end': 91}\n",
      "key:29, {'1-start': 66, '1-end': 92}\n",
      "key:30, {'1-start': 64, '1-end': 108}\n",
      "key:31, {'1-start': 76, '1-end': 138}\n",
      "key:32, {'1-start': 63, '1-end': 118}\n",
      "key:33, {'1-start': 61, '1-end': 168}\n",
      "key:34, {'1-start': 56, '1-end': 81}\n",
      "key:35, {'1-start': 150, '1-end': 195}\n",
      "key:36, {'1-start': 82, '1-end': 100}\n",
      "key:37, {'1-start': 76, '1-end': 106}\n",
      "key:38, {'1-start': 82, '1-end': 106}\n",
      "key:39, {'1-start': 83, '1-end': 98}\n",
      "key:40, {'1-start': 104, '1-end': 127}\n",
      "key:42, {'1-start': 78, '1-end': 104}\n",
      "key:43, {'1-start': 60, '1-end': 96}\n",
      "key:44, {'1-start': 56, '1-end': 94}\n",
      "key:45, {'1-start': 94, '1-end': 170}\n",
      "key:46, {'1-start': 73, '1-end': 103}\n",
      "key:47, {'1-start': 89, '1-end': 101}\n",
      "key:48, {'1-start': 107, '1-end': 148}\n",
      "key:49, {'1-start': 79, '1-end': 109}\n",
      "key:50, {'1-start': 66, '1-end': 91}\n",
      "key:51, {'1-start': 80, '1-end': 180}\n",
      "key:52, {'1-start': 77, '1-end': 101}\n",
      "key:53, {'1-start': 74, '1-end': 103}\n",
      "key:54, {'1-start': 71, '1-end': 107}\n",
      "key:55, {'1-start': 71, '1-end': 102}\n",
      "key:56, {'1-start': 63, '1-end': 96}\n",
      "key:57, {'1-start': 76, '1-end': 103}\n",
      "key:58, {'1-start': 65, '1-end': 132}\n",
      "key:59, {'1-start': 81, '1-end': 105}\n",
      "key:60, {'1-start': 77, '1-end': 178}\n",
      "key:61, {'1-start': 75, '1-end': 110}\n",
      "key:62, {'1-start': 159, '1-end': 223}\n",
      "key:63, {'1-start': 83, '1-end': 213}\n",
      "key:64, {'1-start': 63, '1-end': 114}\n",
      "key:65, {'1-start': 67, '1-end': 127}\n",
      "key:66, {'1-start': 66, '1-end': 150}\n",
      "key:67, {'1-start': 134, '1-end': 172}\n",
      "key:68, {'1-start': 137, '1-end': 154}\n",
      "key:69, {'1-start': 114, '1-end': 129}\n",
      "key:70, {'1-start': 58, '1-end': 86}\n",
      "key:71, {'1-start': 74, '1-end': 85}\n",
      "key:72, {'1-start': 54, '1-end': 74}\n",
      "key:73, {'1-start': 55, '1-end': 130}\n",
      "key:74, {'1-start': 70, '1-end': 94}\n",
      "key:75, {'1-start': 54, '1-end': 85}\n",
      "key:76, {'1-start': 66, '1-end': 94}\n",
      "key:77, {'1-start': 71, '1-end': 102}\n",
      "key:78, {'1-start': 84, '1-end': 139}\n",
      "key:79, {'1-start': 66, '1-end': 108}\n",
      "key:80, {'1-start': 73, '1-end': 97}\n",
      "key:81, {'1-start': 67, '1-end': 101}\n",
      "key:82, {'1-start': 59, '1-end': 93}\n",
      "key:83, {'1-start': 68, '1-end': 103}\n",
      "key:84, {'1-start': 63, '1-end': 176}\n",
      "key:85, {'1-start': 73, '1-end': 99}\n",
      "key:86, {'1-start': 85, '1-end': 132}\n",
      "key:87, {'1-start': 80, '1-end': 110}\n",
      "key:88, {'1-start': 115, '1-end': 180}\n",
      "key:89, {'1-start': 76, '1-end': 117}\n",
      "key:90, {'1-start': 71, '1-end': 94}\n",
      "key:91, {'1-start': 56, '1-end': 78}\n",
      "key:92, {'1-start': 58, '1-end': 82}\n",
      "key:93, {'1-start': 64, '1-end': 95}\n",
      "key:94, {'1-start': 55, '1-end': 73}\n",
      "key:95, {'1-start': 62, '1-end': 90}\n",
      "key:96, {'1-start': 91, '1-end': 124}\n",
      "key:97, {'1-start': 64, '1-end': 125}\n",
      "key:98, {'1-start': 66, '1-end': 144}\n",
      "key:99, {'1-start': 76, '1-end': 161}\n",
      "key:100, {'1-start': 55, '1-end': 105}\n"
     ]
    }
   ],
   "source": [
    "print(f'=== number of pid in timeStamp CSV file: {len(timeStamp_dict)} ===\\n')\n",
    "# print(f'Without pid: 41, 96, 97, 98, 99, 100\\n')\n",
    "print(f'Without pid: 41\\n') ### [update] 2023/09/16\n",
    "\n",
    "for key in timeStamp_dict:\n",
    "    print(f'key:{key}, {timeStamp_dict[key]}')"
   ]
  },
  {
   "cell_type": "markdown",
   "metadata": {},
   "source": [
    "# Load ID"
   ]
  },
  {
   "cell_type": "code",
   "execution_count": 8,
   "metadata": {},
   "outputs": [],
   "source": [
    "def loadID(KeypointsROOT):\n",
    "    tmp_id = []\n",
    "    for pid in list(os.listdir(KeypointsROOT)):\n",
    "        if int(pid) in timeStamp_dict:\n",
    "            tmp_id.append(pid)\n",
    "        if (int(pid) in timeStamp_dict)==False:\n",
    "            print(f'pid [{int(pid)}] not in timeStamp_dict.')\n",
    "    return tmp_id\n",
    "    \n",
    "allID_list = loadID(KeypointsROOT)"
   ]
  },
  {
   "cell_type": "code",
   "execution_count": 9,
   "metadata": {},
   "outputs": [
    {
     "name": "stdout",
     "output_type": "stream",
     "text": [
      "=== number of valid pid: 99 subjects. ===\n",
      "\n",
      "['01', '02', '03', '04', '05', '06', '07', '08', '09', '10', '100', '11', '12', '13', '14', '15', '16', '17', '18', '19', '20', '21', '22', '23', '24', '25', '26', '27', '28', '29', '30', '31', '32', '33', '34', '35', '36', '37', '38', '39', '40', '42', '43', '44', '45', '46', '47', '48', '49', '50', '51', '52', '53', '54', '55', '56', '57', '58', '59', '60', '61', '62', '63', '64', '65', '66', '67', '68', '69', '70', '71', '72', '73', '74', '75', '76', '77', '78', '79', '80', '81', '82', '83', '84', '85', '86', '87', '88', '89', '90', '91', '92', '93', '94', '95', '96', '97', '98', '99']\n"
     ]
    }
   ],
   "source": [
    "print(f'=== number of valid pid: {len(allID_list)} subjects. ===\\n')\n",
    "\n",
    "print(allID_list)"
   ]
  },
  {
   "cell_type": "markdown",
   "metadata": {},
   "source": [
    "# Load Video Type"
   ]
  },
  {
   "cell_type": "code",
   "execution_count": 10,
   "metadata": {},
   "outputs": [],
   "source": [
    "videoType_dict = {}\n",
    "\n",
    "def load_videotype():\n",
    "    if not os.path.exists(VIDEOTYPE_PATH):\n",
    "        print(f'[VideoType] CSV does not exit.')\n",
    "    else:\n",
    "        df = pd.read_csv(VIDEOTYPE_PATH)\n",
    "        n_row, n_col = df.shape[0], df.shape[1]\n",
    "        \n",
    "        data_dict = {}\n",
    "        for idx in range(n_row):\n",
    "            pid = int(df.iloc[idx, 0])\n",
    "            videotype = int(df.iloc[idx, 1])\n",
    "            \n",
    "            data_dict[pid] = {}\n",
    "            data_dict[pid][\"type\"] = videotype\n",
    "    return data_dict\n",
    "\n",
    "    \n",
    "videoType_dict = load_videotype()"
   ]
  },
  {
   "cell_type": "code",
   "execution_count": 11,
   "metadata": {},
   "outputs": [
    {
     "name": "stdout",
     "output_type": "stream",
     "text": [
      "Number of subjects in videoType_dict: 99 subjects.\n",
      "\n",
      "{1: {'type': 1}, 2: {'type': 1}, 3: {'type': 1}, 4: {'type': 1}, 5: {'type': 1}, 6: {'type': 1}, 7: {'type': 1}, 8: {'type': 1}, 9: {'type': 1}, 10: {'type': 1}, 100: {'type': 2}, 11: {'type': 1}, 12: {'type': 1}, 13: {'type': 1}, 14: {'type': 1}, 15: {'type': 1}, 16: {'type': 1}, 17: {'type': 1}, 18: {'type': 1}, 19: {'type': 1}, 20: {'type': 1}, 21: {'type': 1}, 22: {'type': 1}, 23: {'type': 1}, 24: {'type': 1}, 25: {'type': 1}, 26: {'type': 1}, 27: {'type': 1}, 28: {'type': 1}, 29: {'type': 1}, 30: {'type': 1}, 31: {'type': 1}, 32: {'type': 1}, 33: {'type': 1}, 34: {'type': 1}, 35: {'type': 1}, 36: {'type': 1}, 37: {'type': 1}, 38: {'type': 1}, 39: {'type': 1}, 40: {'type': 1}, 42: {'type': 1}, 43: {'type': 1}, 44: {'type': 1}, 45: {'type': 1}, 46: {'type': 1}, 47: {'type': 1}, 48: {'type': 1}, 49: {'type': 1}, 50: {'type': 1}, 51: {'type': 1}, 52: {'type': 1}, 53: {'type': 2}, 54: {'type': 2}, 55: {'type': 2}, 56: {'type': 2}, 57: {'type': 2}, 58: {'type': 2}, 59: {'type': 2}, 60: {'type': 2}, 61: {'type': 2}, 62: {'type': 2}, 63: {'type': 2}, 64: {'type': 2}, 65: {'type': 2}, 66: {'type': 2}, 67: {'type': 2}, 68: {'type': 2}, 69: {'type': 2}, 70: {'type': 2}, 71: {'type': 2}, 72: {'type': 2}, 73: {'type': 2}, 74: {'type': 2}, 75: {'type': 2}, 76: {'type': 2}, 77: {'type': 2}, 78: {'type': 2}, 79: {'type': 2}, 80: {'type': 2}, 81: {'type': 2}, 82: {'type': 2}, 83: {'type': 2}, 84: {'type': 2}, 85: {'type': 2}, 86: {'type': 2}, 87: {'type': 2}, 88: {'type': 2}, 89: {'type': 2}, 90: {'type': 2}, 91: {'type': 2}, 92: {'type': 2}, 93: {'type': 2}, 94: {'type': 2}, 95: {'type': 2}, 96: {'type': 2}, 97: {'type': 2}, 98: {'type': 2}, 99: {'type': 2}}\n"
     ]
    }
   ],
   "source": [
    "print(f'Number of subjects in videoType_dict: {len(videoType_dict)} subjects.\\n')\n",
    "\n",
    "print(videoType_dict)"
   ]
  },
  {
   "cell_type": "markdown",
   "metadata": {},
   "source": [
    "# Z-axis data\n",
    "* Pid: 27, 20, 9"
   ]
  },
  {
   "cell_type": "code",
   "execution_count": 26,
   "metadata": {},
   "outputs": [
    {
     "name": "stdout",
     "output_type": "stream",
     "text": [
      "[Pid 01] data/01/Description1/clip1.mp4, data/01/Description1_20240705/z_axis_data.csv\n"
     ]
    },
    {
     "name": "stderr",
     "output_type": "stream",
     "text": [
      "100%|██████████| 1590/1590 [00:18<00:00, 84.31it/s]\n"
     ]
    },
    {
     "name": "stdout",
     "output_type": "stream",
     "text": [
      "[Pid 02] data/02/Description1/clip1.mp4, data/02/Description1_20240705/z_axis_data.csv\n"
     ]
    },
    {
     "name": "stderr",
     "output_type": "stream",
     "text": [
      "100%|██████████| 1170/1170 [00:13<00:00, 84.30it/s]\n"
     ]
    },
    {
     "name": "stdout",
     "output_type": "stream",
     "text": [
      "[Pid 03] data/03/Description1/clip1.mp4, data/03/Description1_20240705/z_axis_data.csv\n"
     ]
    },
    {
     "name": "stderr",
     "output_type": "stream",
     "text": [
      "100%|██████████| 1050/1050 [00:12<00:00, 84.56it/s]\n"
     ]
    },
    {
     "name": "stdout",
     "output_type": "stream",
     "text": [
      "[Pid 04] data/04/Description1/clip1.mp4, data/04/Description1_20240705/z_axis_data.csv\n"
     ]
    },
    {
     "name": "stderr",
     "output_type": "stream",
     "text": [
      "100%|██████████| 1200/1200 [00:14<00:00, 84.98it/s]\n"
     ]
    },
    {
     "name": "stdout",
     "output_type": "stream",
     "text": [
      "[Pid 05] data/05/Description1/clip1.mp4, data/05/Description1_20240705/z_axis_data.csv\n"
     ]
    },
    {
     "name": "stderr",
     "output_type": "stream",
     "text": [
      "100%|██████████| 1500/1500 [00:17<00:00, 85.11it/s]\n"
     ]
    },
    {
     "name": "stdout",
     "output_type": "stream",
     "text": [
      "[Pid 06] data/06/Description1/clip1.mp4, data/06/Description1_20240705/z_axis_data.csv\n"
     ]
    },
    {
     "name": "stderr",
     "output_type": "stream",
     "text": [
      "100%|██████████| 690/690 [00:08<00:00, 84.74it/s]\n"
     ]
    },
    {
     "name": "stdout",
     "output_type": "stream",
     "text": [
      "[Pid 07] data/07/Description1/clip1.mp4, data/07/Description1_20240705/z_axis_data.csv\n"
     ]
    },
    {
     "name": "stderr",
     "output_type": "stream",
     "text": [
      "100%|██████████| 690/690 [00:08<00:00, 85.97it/s]\n"
     ]
    },
    {
     "name": "stdout",
     "output_type": "stream",
     "text": [
      "[Pid 08] data/08/Description1/clip1.mp4, data/08/Description1_20240705/z_axis_data.csv\n"
     ]
    },
    {
     "name": "stderr",
     "output_type": "stream",
     "text": [
      "100%|██████████| 540/540 [00:06<00:00, 84.62it/s]\n"
     ]
    },
    {
     "name": "stdout",
     "output_type": "stream",
     "text": [
      "[Pid 09] data/09/Description1/clip1.mp4, data/09/Description1_20240705/z_axis_data.csv\n"
     ]
    },
    {
     "name": "stderr",
     "output_type": "stream",
     "text": [
      "100%|██████████| 450/450 [00:05<00:00, 86.03it/s]\n"
     ]
    },
    {
     "name": "stdout",
     "output_type": "stream",
     "text": [
      "[Pid 10] data/10/Description1/clip1.mp4, data/10/Description1_20240705/z_axis_data.csv\n"
     ]
    },
    {
     "name": "stderr",
     "output_type": "stream",
     "text": [
      "100%|██████████| 690/690 [00:08<00:00, 85.05it/s]\n"
     ]
    },
    {
     "name": "stdout",
     "output_type": "stream",
     "text": [
      "[Pid 100] data/100/Description1/clip1.mp4, data/100/Description1_20240705/z_axis_data.csv\n"
     ]
    },
    {
     "name": "stderr",
     "output_type": "stream",
     "text": [
      "100%|██████████| 1530/1530 [00:20<00:00, 73.08it/s]\n"
     ]
    },
    {
     "name": "stdout",
     "output_type": "stream",
     "text": [
      "[Pid 11] data/11/Description1/clip1.mp4, data/11/Description1_20240705/z_axis_data.csv\n"
     ]
    },
    {
     "name": "stderr",
     "output_type": "stream",
     "text": [
      "100%|██████████| 480/480 [00:05<00:00, 84.64it/s]\n"
     ]
    },
    {
     "name": "stdout",
     "output_type": "stream",
     "text": [
      "[Pid 12] data/12/Description1/clip1.mp4, data/12/Description1_20240705/z_axis_data.csv\n"
     ]
    },
    {
     "name": "stderr",
     "output_type": "stream",
     "text": [
      "100%|██████████| 1110/1110 [00:12<00:00, 85.45it/s]\n"
     ]
    },
    {
     "name": "stdout",
     "output_type": "stream",
     "text": [
      "[Pid 13] data/13/Description1/clip1.mp4, data/13/Description1_20240705/z_axis_data.csv\n"
     ]
    },
    {
     "name": "stderr",
     "output_type": "stream",
     "text": [
      "100%|██████████| 3690/3690 [00:43<00:00, 84.83it/s]\n"
     ]
    },
    {
     "name": "stdout",
     "output_type": "stream",
     "text": [
      "[Pid 14] data/14/Description1/clip1.mp4, data/14/Description1_20240705/z_axis_data.csv\n"
     ]
    },
    {
     "name": "stderr",
     "output_type": "stream",
     "text": [
      "100%|██████████| 630/630 [00:07<00:00, 85.29it/s]\n"
     ]
    },
    {
     "name": "stdout",
     "output_type": "stream",
     "text": [
      "[Pid 15] data/15/Description1/clip1.mp4, data/15/Description1_20240705/z_axis_data.csv\n"
     ]
    },
    {
     "name": "stderr",
     "output_type": "stream",
     "text": [
      "100%|██████████| 1290/1290 [00:15<00:00, 85.03it/s]\n"
     ]
    },
    {
     "name": "stdout",
     "output_type": "stream",
     "text": [
      "[Pid 16] data/16/Description1/clip1.mp4, data/16/Description1_20240705/z_axis_data.csv\n"
     ]
    },
    {
     "name": "stderr",
     "output_type": "stream",
     "text": [
      "100%|██████████| 1470/1470 [00:15<00:00, 92.00it/s]\n"
     ]
    },
    {
     "name": "stdout",
     "output_type": "stream",
     "text": [
      "[Pid 17] data/17/Description1/clip1.mp4, data/17/Description1_20240705/z_axis_data.csv\n"
     ]
    },
    {
     "name": "stderr",
     "output_type": "stream",
     "text": [
      "100%|██████████| 1590/1590 [00:18<00:00, 85.02it/s]\n"
     ]
    },
    {
     "name": "stdout",
     "output_type": "stream",
     "text": [
      "[Pid 18] data/18/Description1/clip1.mp4, data/18/Description1_20240705/z_axis_data.csv\n"
     ]
    },
    {
     "name": "stderr",
     "output_type": "stream",
     "text": [
      "100%|██████████| 870/870 [00:10<00:00, 86.17it/s]\n"
     ]
    },
    {
     "name": "stdout",
     "output_type": "stream",
     "text": [
      "[Pid 19] data/19/Description1/clip1.mp4, data/19/Description1_20240705/z_axis_data.csv\n"
     ]
    },
    {
     "name": "stderr",
     "output_type": "stream",
     "text": [
      "100%|██████████| 1950/1950 [00:22<00:00, 85.46it/s]\n"
     ]
    },
    {
     "name": "stdout",
     "output_type": "stream",
     "text": [
      "[Pid 20] data/20/Description1/clip1.mp4, data/20/Description1_20240705/z_axis_data.csv\n"
     ]
    },
    {
     "name": "stderr",
     "output_type": "stream",
     "text": [
      "100%|██████████| 930/930 [00:10<00:00, 85.85it/s]\n"
     ]
    },
    {
     "name": "stdout",
     "output_type": "stream",
     "text": [
      "[Pid 21] data/21/Description1/clip1.mp4, data/21/Description1_20240705/z_axis_data.csv\n"
     ]
    },
    {
     "name": "stderr",
     "output_type": "stream",
     "text": [
      "100%|██████████| 960/960 [00:11<00:00, 85.07it/s]\n"
     ]
    },
    {
     "name": "stdout",
     "output_type": "stream",
     "text": [
      "[Pid 22] data/22/Description1/clip1.mp4, data/22/Description1_20240705/z_axis_data.csv\n"
     ]
    },
    {
     "name": "stderr",
     "output_type": "stream",
     "text": [
      "100%|██████████| 960/960 [00:11<00:00, 86.04it/s]\n"
     ]
    },
    {
     "name": "stdout",
     "output_type": "stream",
     "text": [
      "[Pid 23] data/23/Description1/clip1.mp4, data/23/Description1_20240705/z_axis_data.csv\n"
     ]
    },
    {
     "name": "stderr",
     "output_type": "stream",
     "text": [
      "100%|██████████| 1110/1110 [00:12<00:00, 85.41it/s]\n"
     ]
    },
    {
     "name": "stdout",
     "output_type": "stream",
     "text": [
      "[Pid 24] data/24/Description1/clip1.mp4, data/24/Description1_20240705/z_axis_data.csv\n"
     ]
    },
    {
     "name": "stderr",
     "output_type": "stream",
     "text": [
      "100%|██████████| 4560/4560 [00:53<00:00, 85.13it/s]\n"
     ]
    },
    {
     "name": "stdout",
     "output_type": "stream",
     "text": [
      "[Pid 25] data/25/Description1/clip1.mp4, data/25/Description1_20240705/z_axis_data.csv\n"
     ]
    },
    {
     "name": "stderr",
     "output_type": "stream",
     "text": [
      "100%|██████████| 870/870 [00:10<00:00, 86.02it/s] \n"
     ]
    },
    {
     "name": "stdout",
     "output_type": "stream",
     "text": [
      "[Pid 26] data/26/Description1/clip1.mp4, data/26/Description1_20240705/z_axis_data.csv\n"
     ]
    },
    {
     "name": "stderr",
     "output_type": "stream",
     "text": [
      "100%|██████████| 1320/1320 [00:15<00:00, 85.26it/s]\n"
     ]
    },
    {
     "name": "stdout",
     "output_type": "stream",
     "text": [
      "[Pid 27] data/27/Description1/clip1.mp4, data/27/Description1_20240705/z_axis_data.csv\n"
     ]
    },
    {
     "name": "stderr",
     "output_type": "stream",
     "text": [
      "100%|██████████| 1230/1230 [00:14<00:00, 85.41it/s]\n"
     ]
    },
    {
     "name": "stdout",
     "output_type": "stream",
     "text": [
      "[Pid 28] data/28/Description1/clip1.mp4, data/28/Description1_20240705/z_axis_data.csv\n"
     ]
    },
    {
     "name": "stderr",
     "output_type": "stream",
     "text": [
      "100%|██████████| 780/780 [00:09<00:00, 85.27it/s]\n"
     ]
    },
    {
     "name": "stdout",
     "output_type": "stream",
     "text": [
      "[Pid 29] data/29/Description1/clip1.mp4, data/29/Description1_20240705/z_axis_data.csv\n"
     ]
    },
    {
     "name": "stderr",
     "output_type": "stream",
     "text": [
      "100%|██████████| 810/810 [00:09<00:00, 86.04it/s]\n"
     ]
    },
    {
     "name": "stdout",
     "output_type": "stream",
     "text": [
      "[Pid 30] data/30/Description1/clip1.mp4, data/30/Description1_20240705/z_axis_data.csv\n"
     ]
    },
    {
     "name": "stderr",
     "output_type": "stream",
     "text": [
      "100%|██████████| 1350/1350 [00:15<00:00, 84.64it/s]\n"
     ]
    },
    {
     "name": "stdout",
     "output_type": "stream",
     "text": [
      "[Pid 31] data/31/Description1/clip1.mp4, data/31/Description1_20240705/z_axis_data.csv\n"
     ]
    },
    {
     "name": "stderr",
     "output_type": "stream",
     "text": [
      "100%|██████████| 1890/1890 [00:22<00:00, 85.49it/s]\n"
     ]
    },
    {
     "name": "stdout",
     "output_type": "stream",
     "text": [
      "[Pid 32] data/32/Description1/clip1.mp4, data/32/Description1_20240705/z_axis_data.csv\n"
     ]
    },
    {
     "name": "stderr",
     "output_type": "stream",
     "text": [
      "100%|██████████| 1680/1680 [00:19<00:00, 84.99it/s]\n"
     ]
    },
    {
     "name": "stdout",
     "output_type": "stream",
     "text": [
      "[Pid 33] data/33/Description1/clip1.mp4, data/33/Description1_20240705/z_axis_data.csv\n"
     ]
    },
    {
     "name": "stderr",
     "output_type": "stream",
     "text": [
      "100%|██████████| 3240/3240 [00:37<00:00, 85.30it/s]\n"
     ]
    },
    {
     "name": "stdout",
     "output_type": "stream",
     "text": [
      "[Pid 34] data/34/Description1/clip1.mp4, data/34/Description1_20240705/z_axis_data.csv\n"
     ]
    },
    {
     "name": "stderr",
     "output_type": "stream",
     "text": [
      "100%|██████████| 780/780 [00:09<00:00, 85.17it/s]\n"
     ]
    },
    {
     "name": "stdout",
     "output_type": "stream",
     "text": [
      "[Pid 35] data/35/Description1/clip1.mp4, data/35/Description1_20240705/z_axis_data.csv\n"
     ]
    },
    {
     "name": "stderr",
     "output_type": "stream",
     "text": [
      "100%|██████████| 1380/1380 [00:16<00:00, 85.03it/s]\n"
     ]
    },
    {
     "name": "stdout",
     "output_type": "stream",
     "text": [
      "[Pid 36] data/36/Description1/clip1.mp4, data/36/Description1_20240705/z_axis_data.csv\n"
     ]
    },
    {
     "name": "stderr",
     "output_type": "stream",
     "text": [
      "100%|██████████| 570/570 [00:06<00:00, 85.71it/s]\n"
     ]
    },
    {
     "name": "stdout",
     "output_type": "stream",
     "text": [
      "[Pid 37] data/37/Description1/clip1.mp4, data/37/Description1_20240705/z_axis_data.csv\n"
     ]
    },
    {
     "name": "stderr",
     "output_type": "stream",
     "text": [
      "100%|██████████| 930/930 [00:10<00:00, 85.53it/s]\n"
     ]
    },
    {
     "name": "stdout",
     "output_type": "stream",
     "text": [
      "[Pid 38] data/38/Description1/clip1.mp4, data/38/Description1_20240705/z_axis_data.csv\n"
     ]
    },
    {
     "name": "stderr",
     "output_type": "stream",
     "text": [
      "100%|██████████| 750/750 [00:08<00:00, 85.02it/s]\n"
     ]
    },
    {
     "name": "stdout",
     "output_type": "stream",
     "text": [
      "[Pid 39] data/39/Description1/clip1.mp4, data/39/Description1_20240705/z_axis_data.csv\n"
     ]
    },
    {
     "name": "stderr",
     "output_type": "stream",
     "text": [
      "100%|██████████| 480/480 [00:05<00:00, 87.80it/s] \n"
     ]
    },
    {
     "name": "stdout",
     "output_type": "stream",
     "text": [
      "[Pid 40] data/40/Description1/clip1.mp4, data/40/Description1_20240705/z_axis_data.csv\n"
     ]
    },
    {
     "name": "stderr",
     "output_type": "stream",
     "text": [
      "100%|██████████| 720/720 [00:08<00:00, 85.65it/s]\n"
     ]
    },
    {
     "name": "stdout",
     "output_type": "stream",
     "text": [
      "[Pid 42] data/42/Description1/clip1.mp4, data/42/Description1_20240705/z_axis_data.csv\n"
     ]
    },
    {
     "name": "stderr",
     "output_type": "stream",
     "text": [
      "100%|██████████| 810/810 [00:09<00:00, 84.85it/s]\n"
     ]
    },
    {
     "name": "stdout",
     "output_type": "stream",
     "text": [
      "[Pid 43] data/43/Description1/clip1.mp4, data/43/Description1_20240705/z_axis_data.csv\n"
     ]
    },
    {
     "name": "stderr",
     "output_type": "stream",
     "text": [
      "100%|██████████| 1110/1110 [00:12<00:00, 86.01it/s]\n"
     ]
    },
    {
     "name": "stdout",
     "output_type": "stream",
     "text": [
      "[Pid 44] data/44/Description1/clip1.mp4, data/44/Description1_20240705/z_axis_data.csv\n"
     ]
    },
    {
     "name": "stderr",
     "output_type": "stream",
     "text": [
      "100%|██████████| 1170/1170 [00:13<00:00, 85.04it/s]\n"
     ]
    },
    {
     "name": "stdout",
     "output_type": "stream",
     "text": [
      "[Pid 45] data/45/Description1/clip1.mp4, data/45/Description1_20240705/z_axis_data.csv\n"
     ]
    },
    {
     "name": "stderr",
     "output_type": "stream",
     "text": [
      "100%|██████████| 2310/2310 [00:27<00:00, 85.55it/s]\n"
     ]
    },
    {
     "name": "stdout",
     "output_type": "stream",
     "text": [
      "[Pid 46] data/46/Description1/clip1.mp4, data/46/Description1_20240705/z_axis_data.csv\n"
     ]
    },
    {
     "name": "stderr",
     "output_type": "stream",
     "text": [
      "100%|██████████| 930/930 [00:10<00:00, 85.05it/s]\n"
     ]
    },
    {
     "name": "stdout",
     "output_type": "stream",
     "text": [
      "[Pid 47] data/47/Description1/clip1.mp4, data/47/Description1_20240705/z_axis_data.csv\n"
     ]
    },
    {
     "name": "stderr",
     "output_type": "stream",
     "text": [
      "100%|██████████| 390/390 [00:04<00:00, 84.33it/s]\n"
     ]
    },
    {
     "name": "stdout",
     "output_type": "stream",
     "text": [
      "[Pid 48] data/48/Description1/clip1.mp4, data/48/Description1_20240705/z_axis_data.csv\n"
     ]
    },
    {
     "name": "stderr",
     "output_type": "stream",
     "text": [
      "100%|██████████| 1260/1260 [00:14<00:00, 84.54it/s]\n"
     ]
    },
    {
     "name": "stdout",
     "output_type": "stream",
     "text": [
      "[Pid 49] data/49/Description1/clip1.mp4, data/49/Description1_20240705/z_axis_data.csv\n"
     ]
    },
    {
     "name": "stderr",
     "output_type": "stream",
     "text": [
      "100%|██████████| 930/930 [00:10<00:00, 86.34it/s]\n"
     ]
    },
    {
     "name": "stdout",
     "output_type": "stream",
     "text": [
      "[Pid 50] data/50/Description1/clip1.mp4, data/50/Description1_20240705/z_axis_data.csv\n"
     ]
    },
    {
     "name": "stderr",
     "output_type": "stream",
     "text": [
      "100%|██████████| 780/780 [00:09<00:00, 85.36it/s]\n"
     ]
    },
    {
     "name": "stdout",
     "output_type": "stream",
     "text": [
      "[Pid 51] data/51/Description1/clip1.mp4, data/51/Description1_20240705/z_axis_data.csv\n"
     ]
    },
    {
     "name": "stderr",
     "output_type": "stream",
     "text": [
      "100%|██████████| 3030/3030 [00:35<00:00, 85.08it/s]\n"
     ]
    },
    {
     "name": "stdout",
     "output_type": "stream",
     "text": [
      "[Pid 52] data/52/Description1/clip1.mp4, data/52/Description1_20240705/z_axis_data.csv\n"
     ]
    },
    {
     "name": "stderr",
     "output_type": "stream",
     "text": [
      "100%|██████████| 750/750 [00:08<00:00, 85.62it/s]\n"
     ]
    },
    {
     "name": "stdout",
     "output_type": "stream",
     "text": [
      "[Pid 53] data/53/Description1/clip1.mp4, data/53/Description1_20240705/z_axis_data.csv\n"
     ]
    },
    {
     "name": "stderr",
     "output_type": "stream",
     "text": [
      "100%|██████████| 900/900 [00:12<00:00, 72.09it/s]\n"
     ]
    },
    {
     "name": "stdout",
     "output_type": "stream",
     "text": [
      "[Pid 54] data/54/Description1/clip1.mp4, data/54/Description1_20240705/z_axis_data.csv\n"
     ]
    },
    {
     "name": "stderr",
     "output_type": "stream",
     "text": [
      "100%|██████████| 1110/1110 [00:15<00:00, 71.98it/s]\n"
     ]
    },
    {
     "name": "stdout",
     "output_type": "stream",
     "text": [
      "[Pid 55] data/55/Description1/clip1.mp4, data/55/Description1_20240705/z_axis_data.csv\n"
     ]
    },
    {
     "name": "stderr",
     "output_type": "stream",
     "text": [
      "100%|██████████| 960/960 [00:13<00:00, 72.44it/s]\n"
     ]
    },
    {
     "name": "stdout",
     "output_type": "stream",
     "text": [
      "[Pid 56] data/56/Description1/clip1.mp4, data/56/Description1_20240705/z_axis_data.csv\n"
     ]
    },
    {
     "name": "stderr",
     "output_type": "stream",
     "text": [
      "100%|██████████| 1020/1020 [00:13<00:00, 73.56it/s] \n"
     ]
    },
    {
     "name": "stdout",
     "output_type": "stream",
     "text": [
      "[Pid 57] data/57/Description1/clip1.mp4, data/57/Description1_20240705/z_axis_data.csv\n"
     ]
    },
    {
     "name": "stderr",
     "output_type": "stream",
     "text": [
      "100%|██████████| 840/840 [00:11<00:00, 72.18it/s]\n"
     ]
    },
    {
     "name": "stdout",
     "output_type": "stream",
     "text": [
      "[Pid 58] data/58/Description1/clip1.mp4, data/58/Description1_20240705/z_axis_data.csv\n"
     ]
    },
    {
     "name": "stderr",
     "output_type": "stream",
     "text": [
      "100%|██████████| 2040/2040 [00:27<00:00, 73.60it/s] \n"
     ]
    },
    {
     "name": "stdout",
     "output_type": "stream",
     "text": [
      "[Pid 59] data/59/Description1/clip1.mp4, data/59/Description1_20240705/z_axis_data.csv\n"
     ]
    },
    {
     "name": "stderr",
     "output_type": "stream",
     "text": [
      "100%|██████████| 750/750 [00:09<00:00, 81.08it/s] \n"
     ]
    },
    {
     "name": "stdout",
     "output_type": "stream",
     "text": [
      "[Pid 60] data/60/Description1/clip1.mp4, data/60/Description1_20240705/z_axis_data.csv\n"
     ]
    },
    {
     "name": "stderr",
     "output_type": "stream",
     "text": [
      " 10%|▉         | 300/3060 [00:01<00:14, 196.77it/s]\n"
     ]
    },
    {
     "name": "stdout",
     "output_type": "stream",
     "text": [
      "[Info] pid 60 - no face detected.\n",
      "[Pid 61] data/61/Description1/clip1.mp4, data/61/Description1_20240705/z_axis_data.csv\n"
     ]
    },
    {
     "name": "stderr",
     "output_type": "stream",
     "text": [
      " 28%|██▊       | 300/1080 [00:01<00:04, 180.22it/s]\n"
     ]
    },
    {
     "name": "stdout",
     "output_type": "stream",
     "text": [
      "[Info] pid 61 - no face detected.\n",
      "[Pid 62] data/62/Description1/clip1.mp4, data/62/Description1_20240705/z_axis_data.csv\n"
     ]
    },
    {
     "name": "stderr",
     "output_type": "stream",
     "text": [
      "100%|██████████| 1950/1950 [00:27<00:00, 72.22it/s]\n"
     ]
    },
    {
     "name": "stdout",
     "output_type": "stream",
     "text": [
      "[Pid 63] data/63/Description1/clip1.mp4, data/63/Description1_20240705/z_axis_data.csv\n"
     ]
    },
    {
     "name": "stderr",
     "output_type": "stream",
     "text": [
      "100%|██████████| 3930/3930 [00:54<00:00, 72.05it/s]\n"
     ]
    },
    {
     "name": "stdout",
     "output_type": "stream",
     "text": [
      "[Pid 64] data/64/Description1/clip1.mp4, data/64/Description1_20240705/z_axis_data.csv\n"
     ]
    },
    {
     "name": "stderr",
     "output_type": "stream",
     "text": [
      "100%|██████████| 1560/1560 [00:21<00:00, 73.41it/s]\n"
     ]
    },
    {
     "name": "stdout",
     "output_type": "stream",
     "text": [
      "[Pid 65] data/65/Description1/clip1.mp4, data/65/Description1_20240705/z_axis_data.csv\n"
     ]
    },
    {
     "name": "stderr",
     "output_type": "stream",
     "text": [
      "100%|██████████| 1830/1830 [00:24<00:00, 75.20it/s]\n"
     ]
    },
    {
     "name": "stdout",
     "output_type": "stream",
     "text": [
      "[Pid 66] data/66/Description1/clip1.mp4, data/66/Description1_20240705/z_axis_data.csv\n"
     ]
    },
    {
     "name": "stderr",
     "output_type": "stream",
     "text": [
      "100%|██████████| 2550/2550 [00:34<00:00, 74.74it/s]\n"
     ]
    },
    {
     "name": "stdout",
     "output_type": "stream",
     "text": [
      "[Pid 67] data/67/Description1/clip1.mp4, data/67/Description1_20240705/z_axis_data.csv\n"
     ]
    },
    {
     "name": "stderr",
     "output_type": "stream",
     "text": [
      "100%|██████████| 1170/1170 [00:15<00:00, 74.52it/s]\n"
     ]
    },
    {
     "name": "stdout",
     "output_type": "stream",
     "text": [
      "[Pid 68] data/68/Description1/clip1.mp4, data/68/Description1_20240705/z_axis_data.csv\n"
     ]
    },
    {
     "name": "stderr",
     "output_type": "stream",
     "text": [
      "100%|██████████| 540/540 [00:07<00:00, 75.52it/s]\n"
     ]
    },
    {
     "name": "stdout",
     "output_type": "stream",
     "text": [
      "[Pid 69] data/69/Description1/clip1.mp4, data/69/Description1_20240705/z_axis_data.csv\n"
     ]
    },
    {
     "name": "stderr",
     "output_type": "stream",
     "text": [
      "100%|██████████| 480/480 [00:06<00:00, 74.42it/s]\n"
     ]
    },
    {
     "name": "stdout",
     "output_type": "stream",
     "text": [
      "[Pid 70] data/70/Description1/clip1.mp4, data/70/Description1_20240705/z_axis_data.csv\n"
     ]
    },
    {
     "name": "stderr",
     "output_type": "stream",
     "text": [
      "100%|██████████| 870/870 [00:11<00:00, 74.90it/s]\n"
     ]
    },
    {
     "name": "stdout",
     "output_type": "stream",
     "text": [
      "[Pid 71] data/71/Description1/clip1.mp4, data/71/Description1_20240705/z_axis_data.csv\n"
     ]
    },
    {
     "name": "stderr",
     "output_type": "stream",
     "text": [
      "100%|██████████| 360/360 [00:04<00:00, 73.75it/s]\n"
     ]
    },
    {
     "name": "stdout",
     "output_type": "stream",
     "text": [
      "[Pid 72] data/72/Description1/clip1.mp4, data/72/Description1_20240705/z_axis_data.csv\n"
     ]
    },
    {
     "name": "stderr",
     "output_type": "stream",
     "text": [
      "100%|██████████| 630/630 [00:08<00:00, 75.73it/s]\n"
     ]
    },
    {
     "name": "stdout",
     "output_type": "stream",
     "text": [
      "[Pid 73] data/73/Description1/clip1.mp4, data/73/Description1_20240705/z_axis_data.csv\n"
     ]
    },
    {
     "name": "stderr",
     "output_type": "stream",
     "text": [
      "100%|██████████| 2280/2280 [00:30<00:00, 74.39it/s]\n"
     ]
    },
    {
     "name": "stdout",
     "output_type": "stream",
     "text": [
      "[Pid 74] data/74/Description1/clip1.mp4, data/74/Description1_20240705/z_axis_data.csv\n"
     ]
    },
    {
     "name": "stderr",
     "output_type": "stream",
     "text": [
      "100%|██████████| 750/750 [00:10<00:00, 74.98it/s]\n"
     ]
    },
    {
     "name": "stdout",
     "output_type": "stream",
     "text": [
      "[Pid 75] data/75/Description1/clip1.mp4, data/75/Description1_20240705/z_axis_data.csv\n"
     ]
    },
    {
     "name": "stderr",
     "output_type": "stream",
     "text": [
      "100%|██████████| 960/960 [00:12<00:00, 74.34it/s]\n"
     ]
    },
    {
     "name": "stdout",
     "output_type": "stream",
     "text": [
      "[Pid 76] data/76/Description1/clip1.mp4, data/76/Description1_20240705/z_axis_data.csv\n"
     ]
    },
    {
     "name": "stderr",
     "output_type": "stream",
     "text": [
      "100%|██████████| 870/870 [00:11<00:00, 75.02it/s]\n"
     ]
    },
    {
     "name": "stdout",
     "output_type": "stream",
     "text": [
      "[Pid 77] data/77/Description1/clip1.mp4, data/77/Description1_20240705/z_axis_data.csv\n"
     ]
    },
    {
     "name": "stderr",
     "output_type": "stream",
     "text": [
      "100%|██████████| 960/960 [00:12<00:00, 74.42it/s]\n"
     ]
    },
    {
     "name": "stdout",
     "output_type": "stream",
     "text": [
      "[Pid 78] data/78/Description1/clip1.mp4, data/78/Description1_20240705/z_axis_data.csv\n"
     ]
    },
    {
     "name": "stderr",
     "output_type": "stream",
     "text": [
      "100%|██████████| 1680/1680 [00:22<00:00, 75.62it/s]\n"
     ]
    },
    {
     "name": "stdout",
     "output_type": "stream",
     "text": [
      "[Pid 79] data/79/Description1/clip1.mp4, data/79/Description1_20240705/z_axis_data.csv\n"
     ]
    },
    {
     "name": "stderr",
     "output_type": "stream",
     "text": [
      "100%|██████████| 1290/1290 [00:17<00:00, 74.71it/s]\n"
     ]
    },
    {
     "name": "stdout",
     "output_type": "stream",
     "text": [
      "[Pid 80] data/80/Description1/clip1.mp4, data/80/Description1_20240705/z_axis_data.csv\n"
     ]
    },
    {
     "name": "stderr",
     "output_type": "stream",
     "text": [
      "100%|██████████| 750/750 [00:10<00:00, 74.38it/s]\n"
     ]
    },
    {
     "name": "stdout",
     "output_type": "stream",
     "text": [
      "[Pid 81] data/81/Description1/clip1.mp4, data/81/Description1_20240705/z_axis_data.csv\n"
     ]
    },
    {
     "name": "stderr",
     "output_type": "stream",
     "text": [
      "100%|██████████| 1050/1050 [00:14<00:00, 74.47it/s]\n"
     ]
    },
    {
     "name": "stdout",
     "output_type": "stream",
     "text": [
      "[Pid 82] data/82/Description1/clip1.mp4, data/82/Description1_20240705/z_axis_data.csv\n"
     ]
    },
    {
     "name": "stderr",
     "output_type": "stream",
     "text": [
      "100%|██████████| 1050/1050 [00:14<00:00, 74.83it/s]\n"
     ]
    },
    {
     "name": "stdout",
     "output_type": "stream",
     "text": [
      "[Pid 83] data/83/Description1/clip1.mp4, data/83/Description1_20240705/z_axis_data.csv\n"
     ]
    },
    {
     "name": "stderr",
     "output_type": "stream",
     "text": [
      "100%|██████████| 1080/1080 [00:14<00:00, 74.67it/s]\n"
     ]
    },
    {
     "name": "stdout",
     "output_type": "stream",
     "text": [
      "[Pid 84] data/84/Description1/clip1.mp4, data/84/Description1_20240705/z_axis_data.csv\n"
     ]
    },
    {
     "name": "stderr",
     "output_type": "stream",
     "text": [
      "100%|██████████| 3420/3420 [00:45<00:00, 74.64it/s]\n"
     ]
    },
    {
     "name": "stdout",
     "output_type": "stream",
     "text": [
      "[Pid 85] data/85/Description1/clip1.mp4, data/85/Description1_20240705/z_axis_data.csv\n"
     ]
    },
    {
     "name": "stderr",
     "output_type": "stream",
     "text": [
      " 47%|████▋     | 378/810 [00:03<00:04, 105.85it/s]\n"
     ]
    },
    {
     "name": "stdout",
     "output_type": "stream",
     "text": [
      "[Info] pid 85 - no face detected.\n",
      "[Pid 86] data/86/Description1/clip1.mp4, data/86/Description1_20240705/z_axis_data.csv\n"
     ]
    },
    {
     "name": "stderr",
     "output_type": "stream",
     "text": [
      "100%|██████████| 1440/1440 [00:19<00:00, 74.34it/s]\n"
     ]
    },
    {
     "name": "stdout",
     "output_type": "stream",
     "text": [
      "[Pid 87] data/87/Description1/clip1.mp4, data/87/Description1_20240705/z_axis_data.csv\n"
     ]
    },
    {
     "name": "stderr",
     "output_type": "stream",
     "text": [
      "100%|██████████| 930/930 [00:12<00:00, 74.80it/s]\n"
     ]
    },
    {
     "name": "stdout",
     "output_type": "stream",
     "text": [
      "[Pid 88] data/88/Description1/clip1.mp4, data/88/Description1_20240705/z_axis_data.csv\n"
     ]
    },
    {
     "name": "stderr",
     "output_type": "stream",
     "text": [
      "100%|██████████| 1980/1980 [00:26<00:00, 74.30it/s]\n"
     ]
    },
    {
     "name": "stdout",
     "output_type": "stream",
     "text": [
      "[Pid 89] data/89/Description1/clip1.mp4, data/89/Description1_20240705/z_axis_data.csv\n"
     ]
    },
    {
     "name": "stderr",
     "output_type": "stream",
     "text": [
      "100%|██████████| 1260/1260 [00:16<00:00, 74.79it/s]\n"
     ]
    },
    {
     "name": "stdout",
     "output_type": "stream",
     "text": [
      "[Pid 90] data/90/Description1/clip1.mp4, data/90/Description1_20240705/z_axis_data.csv\n"
     ]
    },
    {
     "name": "stderr",
     "output_type": "stream",
     "text": [
      "100%|██████████| 720/720 [00:09<00:00, 74.87it/s]\n"
     ]
    },
    {
     "name": "stdout",
     "output_type": "stream",
     "text": [
      "[Pid 91] data/91/Description1/clip1.mp4, data/91/Description1_20240705/z_axis_data.csv\n"
     ]
    },
    {
     "name": "stderr",
     "output_type": "stream",
     "text": [
      "100%|██████████| 690/690 [00:09<00:00, 74.18it/s]\n"
     ]
    },
    {
     "name": "stdout",
     "output_type": "stream",
     "text": [
      "[Pid 92] data/92/Description1/clip1.mp4, data/92/Description1_20240705/z_axis_data.csv\n"
     ]
    },
    {
     "name": "stderr",
     "output_type": "stream",
     "text": [
      "100%|██████████| 750/750 [00:09<00:00, 75.13it/s]\n"
     ]
    },
    {
     "name": "stdout",
     "output_type": "stream",
     "text": [
      "[Pid 93] data/93/Description1/clip1.mp4, data/93/Description1_20240705/z_axis_data.csv\n"
     ]
    },
    {
     "name": "stderr",
     "output_type": "stream",
     "text": [
      "100%|██████████| 960/960 [00:12<00:00, 74.04it/s]\n"
     ]
    },
    {
     "name": "stdout",
     "output_type": "stream",
     "text": [
      "[Pid 94] data/94/Description1/clip1.mp4, data/94/Description1_20240705/z_axis_data.csv\n"
     ]
    },
    {
     "name": "stderr",
     "output_type": "stream",
     "text": [
      "100%|██████████| 570/570 [00:07<00:00, 74.99it/s]\n"
     ]
    },
    {
     "name": "stdout",
     "output_type": "stream",
     "text": [
      "[Pid 95] data/95/Description1/clip1.mp4, data/95/Description1_20240705/z_axis_data.csv\n"
     ]
    },
    {
     "name": "stderr",
     "output_type": "stream",
     "text": [
      "100%|██████████| 870/870 [00:11<00:00, 74.66it/s]\n"
     ]
    },
    {
     "name": "stdout",
     "output_type": "stream",
     "text": [
      "[Pid 96] data/96/Description1/clip1.mp4, data/96/Description1_20240705/z_axis_data.csv\n"
     ]
    },
    {
     "name": "stderr",
     "output_type": "stream",
     "text": [
      "100%|██████████| 1020/1020 [00:13<00:00, 74.83it/s]\n"
     ]
    },
    {
     "name": "stdout",
     "output_type": "stream",
     "text": [
      "[Pid 97] data/97/Description1/clip1.mp4, data/97/Description1_20240705/z_axis_data.csv\n"
     ]
    },
    {
     "name": "stderr",
     "output_type": "stream",
     "text": [
      "100%|██████████| 1860/1860 [00:25<00:00, 74.20it/s]\n"
     ]
    },
    {
     "name": "stdout",
     "output_type": "stream",
     "text": [
      "[Pid 98] data/98/Description1/clip1.mp4, data/98/Description1_20240705/z_axis_data.csv\n"
     ]
    },
    {
     "name": "stderr",
     "output_type": "stream",
     "text": [
      "100%|██████████| 2370/2370 [00:31<00:00, 74.72it/s]\n"
     ]
    },
    {
     "name": "stdout",
     "output_type": "stream",
     "text": [
      "[Pid 99] data/99/Description1/clip1.mp4, data/99/Description1_20240705/z_axis_data.csv\n"
     ]
    },
    {
     "name": "stderr",
     "output_type": "stream",
     "text": [
      "100%|██████████| 2580/2580 [00:34<00:00, 74.32it/s]\n"
     ]
    }
   ],
   "source": [
    "invalidID_list = []\n",
    "\n",
    "def landmarks_detection_z_axis(image, results, isDraw=False):\n",
    "    imgHeight, imgWidth= image.shape[:2]\n",
    "    # list[(x,y), (x,y)....]: the list of tuples for each landmarks \n",
    "    mesh_coord = [(int(point.x * imgWidth), int(point.y * imgHeight), point.z) for point in results.multi_face_landmarks[0].landmark]\n",
    "    if isDraw:\n",
    "        [cv2.circle(image, p, 2, COLOR_GREEN, -1) for p in mesh_coord]\n",
    "    return mesh_coord\n",
    "\n",
    "def get_z_value(coords, img_width):\n",
    "    n_landmarks = len(coords)\n",
    "    ### [Left] Eye = [362, 382, 381, 380, 374, 373, 390, 249, 263, 466, 388, 387, 386, 385, 384, 398]\n",
    "    pt1_z = coords[398][2]*img_width\n",
    "    pt2_z = coords[362][2]*img_width\n",
    "    pt3_z = coords[382][2]*img_width\n",
    "    pt4_z = coords[374][2]*img_width\n",
    "    pt5_z = coords[249][2]*img_width\n",
    "    pt6_z = coords[263][2]*img_width\n",
    "    pt7_z = coords[466][2]*img_width\n",
    "    pt8_z = coords[386][2]*img_width\n",
    "    \n",
    "    ### [Right] Eye = [33, 7, 163, 144, 145, 153, 154, 155, 133, 173, 157, 158, 159, 160, 161 , 246]\n",
    "    pt9_z = coords[173][2]*img_width\n",
    "    pt10_z = coords[133][2]*img_width\n",
    "    pt11_z = coords[155][2]*img_width\n",
    "    pt12_z = coords[145][2]*img_width\n",
    "    pt13_z = coords[7][2]*img_width\n",
    "    pt14_z = coords[33][2]*img_width\n",
    "    pt15_z = coords[246][2]*img_width\n",
    "    pt16_z = coords[159][2]*img_width\n",
    "    \n",
    "    data = [pt1_z, pt2_z, pt3_z, pt4_z, pt5_z, pt6_z, pt7_z, pt8_z, pt9_z, pt10_z, pt11_z, pt12_z, pt13_z, pt14_z, pt15_z, pt16_z]\n",
    "    return data\n",
    "\n",
    "def get_z_axis_data(pidList):\n",
    "    mp_face_mesh = mp.solutions.face_mesh\n",
    "    with mp_face_mesh.FaceMesh(max_num_faces=1, refine_landmarks=True, min_detection_confidence=0.5, min_tracking_confidence=0.5) as face_mesh:\n",
    "        for pid in pidList:\n",
    "            video_path = VIDEOROOT + pid + '/Description1/clip1.mp4'\n",
    "            csv_output_path = VIDEOROOT + pid + '/Description1_20240705/z_axis_data.csv'\n",
    "\n",
    "            if os.path.exists(VIDEOROOT + pid + '/Description1_20240705/')==False:\n",
    "                os.mkdir(VIDEOROOT + pid + '/Description1_20240705/')\n",
    "\n",
    "            if not os.path.exists(video_path):\n",
    "                print(f'====== Pid [{pid}] clip1 does NOT exist. ======')\n",
    "            else:\n",
    "                print(f'[Pid {pid}] {video_path}, {csv_output_path}')\n",
    "\n",
    "                ### Load Video [Description 1] ------------------------------------------------------\n",
    "                cap = cv2.VideoCapture(video_path)\n",
    "                n_frames = int(cap.get(cv2.CAP_PROP_FRAME_COUNT))\n",
    "                frameWidth, frameHeight = int(cap.get(cv2.CAP_PROP_FRAME_WIDTH)), int(cap.get(cv2.CAP_PROP_FRAME_HEIGHT))\n",
    "                FPS = cap.get(cv2.CAP_PROP_FPS)\n",
    "\n",
    "                cnt_no_face = 0\n",
    "                canWriteCSV = True\n",
    "                dataList = []\n",
    "                for frame in tqdm(range(n_frames), total=n_frames):\n",
    "                    ret, image = cap.read()\n",
    "                    if ret == False:\n",
    "                        break\n",
    "                    results = face_mesh.process(image)\n",
    "                    if results.multi_face_landmarks:\n",
    "                        meshCoord = landmarks_detection_z_axis(image, results, False)\n",
    "                        # data = get_coordinate_data(meshCoord)\n",
    "                        img_height, img_width= image.shape[:2]\n",
    "                        data = get_z_value(meshCoord, img_width)\n",
    "                        dataList.append(data)\n",
    "                    else:\n",
    "                        cnt_no_face += 1\n",
    "                        if cnt_no_face > 10*30 and canWriteCSV==True: ### 10 seconds\n",
    "                            invalidID_list.append(pid)\n",
    "                            print(f'[Info] pid {pid} - no face detected.')\n",
    "                            canWriteCSV = False\n",
    "                            break\n",
    "                cap.release()\n",
    "                cv2.destroyAllWindows()\n",
    "                if canWriteCSV == True:\n",
    "                    with open(csv_output_path, 'w', newline='') as outfile:\n",
    "                        csv_writer = csv.writer(outfile)\n",
    "                        csv_writer.writerows(dataList)\n",
    "\n",
    "\n",
    "# subject_id_list = ['09', '20', '27'] ### AD\n",
    "# subject_id_list = ['90', '05', '43'] ### Non-AD\n",
    "subject_id_list = allID_list ### Run all subjects\n",
    "get_z_axis_data(subject_id_list)"
   ]
  },
  {
   "cell_type": "markdown",
   "metadata": {},
   "source": [
    "## Smooth"
   ]
  },
  {
   "cell_type": "code",
   "execution_count": 27,
   "metadata": {},
   "outputs": [
    {
     "name": "stdout",
     "output_type": "stream",
     "text": [
      "[Pid 01] data/01/Description1_20240705/z_axis_data_smooth.csv\n",
      "[Pid 02] data/02/Description1_20240705/z_axis_data_smooth.csv\n",
      "[Pid 03] data/03/Description1_20240705/z_axis_data_smooth.csv\n",
      "[Pid 04] data/04/Description1_20240705/z_axis_data_smooth.csv\n",
      "[Pid 05] data/05/Description1_20240705/z_axis_data_smooth.csv\n",
      "[Pid 06] data/06/Description1_20240705/z_axis_data_smooth.csv\n",
      "[Pid 07] data/07/Description1_20240705/z_axis_data_smooth.csv\n",
      "[Pid 08] data/08/Description1_20240705/z_axis_data_smooth.csv\n",
      "[Pid 09] data/09/Description1_20240705/z_axis_data_smooth.csv\n",
      "[Pid 10] data/10/Description1_20240705/z_axis_data_smooth.csv\n",
      "[Pid 100] data/100/Description1_20240705/z_axis_data_smooth.csv\n",
      "[Pid 11] data/11/Description1_20240705/z_axis_data_smooth.csv\n",
      "[Pid 12] data/12/Description1_20240705/z_axis_data_smooth.csv\n",
      "[Pid 13] data/13/Description1_20240705/z_axis_data_smooth.csv\n",
      "[Pid 14] data/14/Description1_20240705/z_axis_data_smooth.csv\n",
      "[Pid 15] data/15/Description1_20240705/z_axis_data_smooth.csv\n",
      "[Pid 16] data/16/Description1_20240705/z_axis_data_smooth.csv\n",
      "[Pid 17] data/17/Description1_20240705/z_axis_data_smooth.csv\n",
      "[Pid 18] data/18/Description1_20240705/z_axis_data_smooth.csv\n",
      "[Pid 19] data/19/Description1_20240705/z_axis_data_smooth.csv\n",
      "[Pid 20] data/20/Description1_20240705/z_axis_data_smooth.csv\n",
      "[Pid 21] data/21/Description1_20240705/z_axis_data_smooth.csv\n",
      "[Pid 22] data/22/Description1_20240705/z_axis_data_smooth.csv\n",
      "[Pid 23] data/23/Description1_20240705/z_axis_data_smooth.csv\n",
      "[Pid 24] data/24/Description1_20240705/z_axis_data_smooth.csv\n",
      "[Pid 25] data/25/Description1_20240705/z_axis_data_smooth.csv\n",
      "[Pid 26] data/26/Description1_20240705/z_axis_data_smooth.csv\n",
      "[Pid 27] data/27/Description1_20240705/z_axis_data_smooth.csv\n",
      "[Pid 28] data/28/Description1_20240705/z_axis_data_smooth.csv\n",
      "[Pid 29] data/29/Description1_20240705/z_axis_data_smooth.csv\n",
      "[Pid 30] data/30/Description1_20240705/z_axis_data_smooth.csv\n",
      "[Pid 31] data/31/Description1_20240705/z_axis_data_smooth.csv\n",
      "[Pid 32] data/32/Description1_20240705/z_axis_data_smooth.csv\n",
      "[Pid 33] data/33/Description1_20240705/z_axis_data_smooth.csv\n",
      "[Pid 34] data/34/Description1_20240705/z_axis_data_smooth.csv\n",
      "[Pid 35] data/35/Description1_20240705/z_axis_data_smooth.csv\n",
      "[Pid 36] data/36/Description1_20240705/z_axis_data_smooth.csv\n",
      "[Pid 37] data/37/Description1_20240705/z_axis_data_smooth.csv\n",
      "[Pid 38] data/38/Description1_20240705/z_axis_data_smooth.csv\n",
      "[Pid 39] data/39/Description1_20240705/z_axis_data_smooth.csv\n",
      "[Pid 40] data/40/Description1_20240705/z_axis_data_smooth.csv\n",
      "[Pid 42] data/42/Description1_20240705/z_axis_data_smooth.csv\n",
      "[Pid 43] data/43/Description1_20240705/z_axis_data_smooth.csv\n",
      "[Pid 44] data/44/Description1_20240705/z_axis_data_smooth.csv\n",
      "[Pid 45] data/45/Description1_20240705/z_axis_data_smooth.csv\n",
      "[Pid 46] data/46/Description1_20240705/z_axis_data_smooth.csv\n",
      "[Pid 47] data/47/Description1_20240705/z_axis_data_smooth.csv\n",
      "[Pid 48] data/48/Description1_20240705/z_axis_data_smooth.csv\n",
      "[Pid 49] data/49/Description1_20240705/z_axis_data_smooth.csv\n",
      "[Pid 50] data/50/Description1_20240705/z_axis_data_smooth.csv\n",
      "[Pid 51] data/51/Description1_20240705/z_axis_data_smooth.csv\n",
      "[Pid 52] data/52/Description1_20240705/z_axis_data_smooth.csv\n",
      "[Pid 53] data/53/Description1_20240705/z_axis_data_smooth.csv\n",
      "[Pid 54] data/54/Description1_20240705/z_axis_data_smooth.csv\n",
      "[Pid 55] data/55/Description1_20240705/z_axis_data_smooth.csv\n",
      "[Pid 56] data/56/Description1_20240705/z_axis_data_smooth.csv\n",
      "[Pid 57] data/57/Description1_20240705/z_axis_data_smooth.csv\n",
      "[Pid 58] data/58/Description1_20240705/z_axis_data_smooth.csv\n",
      "[Pid 59] data/59/Description1_20240705/z_axis_data_smooth.csv\n",
      "[Pid 62] data/62/Description1_20240705/z_axis_data_smooth.csv\n",
      "[Pid 63] data/63/Description1_20240705/z_axis_data_smooth.csv\n",
      "[Pid 64] data/64/Description1_20240705/z_axis_data_smooth.csv\n",
      "[Pid 65] data/65/Description1_20240705/z_axis_data_smooth.csv\n",
      "[Pid 66] data/66/Description1_20240705/z_axis_data_smooth.csv\n",
      "[Pid 67] data/67/Description1_20240705/z_axis_data_smooth.csv\n",
      "[Pid 68] data/68/Description1_20240705/z_axis_data_smooth.csv\n",
      "[Pid 69] data/69/Description1_20240705/z_axis_data_smooth.csv\n",
      "[Pid 70] data/70/Description1_20240705/z_axis_data_smooth.csv\n",
      "[Pid 71] data/71/Description1_20240705/z_axis_data_smooth.csv\n",
      "[Pid 72] data/72/Description1_20240705/z_axis_data_smooth.csv\n",
      "[Pid 73] data/73/Description1_20240705/z_axis_data_smooth.csv\n",
      "[Pid 74] data/74/Description1_20240705/z_axis_data_smooth.csv\n",
      "[Pid 75] data/75/Description1_20240705/z_axis_data_smooth.csv\n",
      "[Pid 76] data/76/Description1_20240705/z_axis_data_smooth.csv\n",
      "[Pid 77] data/77/Description1_20240705/z_axis_data_smooth.csv\n",
      "[Pid 78] data/78/Description1_20240705/z_axis_data_smooth.csv\n",
      "[Pid 79] data/79/Description1_20240705/z_axis_data_smooth.csv\n",
      "[Pid 80] data/80/Description1_20240705/z_axis_data_smooth.csv\n",
      "[Pid 81] data/81/Description1_20240705/z_axis_data_smooth.csv\n",
      "[Pid 82] data/82/Description1_20240705/z_axis_data_smooth.csv\n",
      "[Pid 83] data/83/Description1_20240705/z_axis_data_smooth.csv\n",
      "[Pid 84] data/84/Description1_20240705/z_axis_data_smooth.csv\n",
      "[Pid 86] data/86/Description1_20240705/z_axis_data_smooth.csv\n",
      "[Pid 87] data/87/Description1_20240705/z_axis_data_smooth.csv\n",
      "[Pid 88] data/88/Description1_20240705/z_axis_data_smooth.csv\n",
      "[Pid 89] data/89/Description1_20240705/z_axis_data_smooth.csv\n",
      "[Pid 90] data/90/Description1_20240705/z_axis_data_smooth.csv\n",
      "[Pid 91] data/91/Description1_20240705/z_axis_data_smooth.csv\n",
      "[Pid 92] data/92/Description1_20240705/z_axis_data_smooth.csv\n",
      "[Pid 93] data/93/Description1_20240705/z_axis_data_smooth.csv\n",
      "[Pid 94] data/94/Description1_20240705/z_axis_data_smooth.csv\n",
      "[Pid 95] data/95/Description1_20240705/z_axis_data_smooth.csv\n",
      "[Pid 96] data/96/Description1_20240705/z_axis_data_smooth.csv\n",
      "[Pid 97] data/97/Description1_20240705/z_axis_data_smooth.csv\n",
      "[Pid 98] data/98/Description1_20240705/z_axis_data_smooth.csv\n",
      "[Pid 99] data/99/Description1_20240705/z_axis_data_smooth.csv\n"
     ]
    }
   ],
   "source": [
    "def smooth_z_axis_data(pidList):\n",
    "    for pid in pidList:\n",
    "        if pid not in invalidList:\n",
    "            # if pid=='27':\n",
    "            if pid >= '01':\n",
    "                csv_file = VIDEOROOT + pid + '/Description1_20240705/z_axis_data.csv'\n",
    "                csv_file_output = VIDEOROOT + pid + '/Description1_20240705/z_axis_data_smooth.csv'\n",
    "    \n",
    "                if not os.path.exists(csv_file):\n",
    "                    print(f'[{pid}] csv file does not exist.')\n",
    "                else:\n",
    "                    df = pd.read_csv(csv_file, header=None)\n",
    "                    n_row, n_col = df.shape[0], df.shape[1]\n",
    "\n",
    "                    resultArray_smooth = []\n",
    "                    for i in range(n_col):\n",
    "                        x = df.iloc[:, i].values\n",
    "                        x_smooth = savgol_filter(x, window_length=21, polyorder=15)\n",
    "                        x_smooth = np.round(x_smooth, 2)\n",
    "                        resultArray_smooth.append(x_smooth)\n",
    "\n",
    "                        # plt.figure(figsize=(15, 5))\n",
    "                        # plt.plot(x, 'r')\n",
    "                        # plt.plot(x_smooth, 'b')\n",
    "                        # plt.show()\n",
    "\n",
    "                    smooth_data = []\n",
    "                    resultArray = np.array(resultArray_smooth)\n",
    "                    nFrames = resultArray.shape[1]\n",
    "                    for i in range(nFrames):\n",
    "                        smooth_data.append([resultArray[0][i], resultArray[1][i], resultArray[2][i], resultArray[3][i],\n",
    "                                            resultArray[4][i], resultArray[5][i], resultArray[6][i], resultArray[7][i],\n",
    "                                            resultArray[8][i], resultArray[9][i], resultArray[10][i], resultArray[11][i], \n",
    "                                            resultArray[12][i], resultArray[13][i], resultArray[14][i], resultArray[15][i]\n",
    "                                            ])\n",
    "                    smooth_data = np.array(smooth_data)\n",
    "                    df_smooth = pd.DataFrame(smooth_data)\n",
    "                    print(f'[Pid {pid}] {csv_file_output}')\n",
    "                    df_smooth.to_csv(csv_file_output, index=False, header=False)\n",
    "\n",
    "\n",
    "# subject_id_list = ['09', '20', '27'] ### AD\n",
    "# subject_id_list = ['90', '05', '43'] ### Non-AD\n",
    "subject_id_list = allID_list ### Run all subjects\n",
    "smooth_z_axis_data(subject_id_list)"
   ]
  },
  {
   "cell_type": "markdown",
   "metadata": {},
   "source": [
    "# New Time Series data"
   ]
  },
  {
   "cell_type": "code",
   "execution_count": 28,
   "metadata": {},
   "outputs": [
    {
     "name": "stdout",
     "output_type": "stream",
     "text": [
      "[Pid 01] output: data/01/Description1_20240705/timeSeries_zaxis.csv\n",
      "[Pid 02] output: data/02/Description1_20240705/timeSeries_zaxis.csv\n",
      "[Pid 03] output: data/03/Description1_20240705/timeSeries_zaxis.csv\n",
      "[Pid 04] output: data/04/Description1_20240705/timeSeries_zaxis.csv\n",
      "[Pid 05] output: data/05/Description1_20240705/timeSeries_zaxis.csv\n",
      "[Pid 06] output: data/06/Description1_20240705/timeSeries_zaxis.csv\n",
      "[Pid 07] output: data/07/Description1_20240705/timeSeries_zaxis.csv\n",
      "[Pid 08] output: data/08/Description1_20240705/timeSeries_zaxis.csv\n",
      "[Pid 09] output: data/09/Description1_20240705/timeSeries_zaxis.csv\n",
      "[Pid 10] output: data/10/Description1_20240705/timeSeries_zaxis.csv\n",
      "[Pid 100] output: data/100/Description1_20240705/timeSeries_zaxis.csv\n",
      "[Pid 11] output: data/11/Description1_20240705/timeSeries_zaxis.csv\n",
      "[Pid 12] output: data/12/Description1_20240705/timeSeries_zaxis.csv\n",
      "[Pid 13] output: data/13/Description1_20240705/timeSeries_zaxis.csv\n",
      "[Pid 14] output: data/14/Description1_20240705/timeSeries_zaxis.csv\n",
      "[Pid 15] output: data/15/Description1_20240705/timeSeries_zaxis.csv\n",
      "[Pid 16] output: data/16/Description1_20240705/timeSeries_zaxis.csv\n",
      "[Pid 17] output: data/17/Description1_20240705/timeSeries_zaxis.csv\n",
      "[Pid 18] output: data/18/Description1_20240705/timeSeries_zaxis.csv\n",
      "[Pid 19] output: data/19/Description1_20240705/timeSeries_zaxis.csv\n",
      "[Pid 20] output: data/20/Description1_20240705/timeSeries_zaxis.csv\n",
      "[Pid 21] output: data/21/Description1_20240705/timeSeries_zaxis.csv\n",
      "[Pid 22] output: data/22/Description1_20240705/timeSeries_zaxis.csv\n",
      "[Pid 23] output: data/23/Description1_20240705/timeSeries_zaxis.csv\n",
      "[Pid 24] output: data/24/Description1_20240705/timeSeries_zaxis.csv\n",
      "[Pid 25] output: data/25/Description1_20240705/timeSeries_zaxis.csv\n",
      "[Pid 26] output: data/26/Description1_20240705/timeSeries_zaxis.csv\n",
      "[Pid 27] output: data/27/Description1_20240705/timeSeries_zaxis.csv\n",
      "[Pid 28] output: data/28/Description1_20240705/timeSeries_zaxis.csv\n",
      "[Pid 29] output: data/29/Description1_20240705/timeSeries_zaxis.csv\n",
      "[Pid 30] output: data/30/Description1_20240705/timeSeries_zaxis.csv\n",
      "[Pid 31] output: data/31/Description1_20240705/timeSeries_zaxis.csv\n",
      "[Pid 32] output: data/32/Description1_20240705/timeSeries_zaxis.csv\n",
      "[Pid 33] output: data/33/Description1_20240705/timeSeries_zaxis.csv\n",
      "[Pid 34] output: data/34/Description1_20240705/timeSeries_zaxis.csv\n",
      "[Pid 35] output: data/35/Description1_20240705/timeSeries_zaxis.csv\n",
      "[Pid 36] output: data/36/Description1_20240705/timeSeries_zaxis.csv\n",
      "[Pid 37] output: data/37/Description1_20240705/timeSeries_zaxis.csv\n",
      "[Pid 38] output: data/38/Description1_20240705/timeSeries_zaxis.csv\n",
      "[Pid 39] output: data/39/Description1_20240705/timeSeries_zaxis.csv\n",
      "[Pid 40] output: data/40/Description1_20240705/timeSeries_zaxis.csv\n",
      "[Pid 42] output: data/42/Description1_20240705/timeSeries_zaxis.csv\n",
      "[Pid 43] output: data/43/Description1_20240705/timeSeries_zaxis.csv\n",
      "[Pid 44] output: data/44/Description1_20240705/timeSeries_zaxis.csv\n",
      "[Pid 45] output: data/45/Description1_20240705/timeSeries_zaxis.csv\n",
      "[Pid 46] output: data/46/Description1_20240705/timeSeries_zaxis.csv\n",
      "[Pid 47] output: data/47/Description1_20240705/timeSeries_zaxis.csv\n",
      "[Pid 48] output: data/48/Description1_20240705/timeSeries_zaxis.csv\n",
      "[Pid 49] output: data/49/Description1_20240705/timeSeries_zaxis.csv\n",
      "[Pid 50] output: data/50/Description1_20240705/timeSeries_zaxis.csv\n",
      "[Pid 51] output: data/51/Description1_20240705/timeSeries_zaxis.csv\n",
      "[Pid 52] output: data/52/Description1_20240705/timeSeries_zaxis.csv\n",
      "[Pid 53] output: data/53/Description1_20240705/timeSeries_zaxis.csv\n",
      "[Pid 54] output: data/54/Description1_20240705/timeSeries_zaxis.csv\n",
      "[Pid 55] output: data/55/Description1_20240705/timeSeries_zaxis.csv\n",
      "[Pid 56] output: data/56/Description1_20240705/timeSeries_zaxis.csv\n",
      "[Pid 57] output: data/57/Description1_20240705/timeSeries_zaxis.csv\n",
      "[Pid 58] output: data/58/Description1_20240705/timeSeries_zaxis.csv\n",
      "[Pid 59] output: data/59/Description1_20240705/timeSeries_zaxis.csv\n",
      "[Pid 62] output: data/62/Description1_20240705/timeSeries_zaxis.csv\n",
      "[Pid 63] output: data/63/Description1_20240705/timeSeries_zaxis.csv\n",
      "[Pid 64] output: data/64/Description1_20240705/timeSeries_zaxis.csv\n",
      "[Pid 65] output: data/65/Description1_20240705/timeSeries_zaxis.csv\n",
      "[Pid 66] output: data/66/Description1_20240705/timeSeries_zaxis.csv\n",
      "[Pid 67] output: data/67/Description1_20240705/timeSeries_zaxis.csv\n",
      "[Pid 68] output: data/68/Description1_20240705/timeSeries_zaxis.csv\n",
      "[Pid 69] output: data/69/Description1_20240705/timeSeries_zaxis.csv\n",
      "[Pid 70] output: data/70/Description1_20240705/timeSeries_zaxis.csv\n",
      "[Pid 71] output: data/71/Description1_20240705/timeSeries_zaxis.csv\n",
      "[Pid 72] output: data/72/Description1_20240705/timeSeries_zaxis.csv\n",
      "[Pid 73] output: data/73/Description1_20240705/timeSeries_zaxis.csv\n",
      "[Pid 74] output: data/74/Description1_20240705/timeSeries_zaxis.csv\n",
      "[Pid 75] output: data/75/Description1_20240705/timeSeries_zaxis.csv\n",
      "[Pid 76] output: data/76/Description1_20240705/timeSeries_zaxis.csv\n",
      "[Pid 77] output: data/77/Description1_20240705/timeSeries_zaxis.csv\n",
      "[Pid 78] output: data/78/Description1_20240705/timeSeries_zaxis.csv\n",
      "[Pid 79] output: data/79/Description1_20240705/timeSeries_zaxis.csv\n",
      "[Pid 80] output: data/80/Description1_20240705/timeSeries_zaxis.csv\n",
      "[Pid 81] output: data/81/Description1_20240705/timeSeries_zaxis.csv\n",
      "[Pid 82] output: data/82/Description1_20240705/timeSeries_zaxis.csv\n",
      "[Pid 83] output: data/83/Description1_20240705/timeSeries_zaxis.csv\n",
      "[Pid 84] output: data/84/Description1_20240705/timeSeries_zaxis.csv\n",
      "[Pid 86] output: data/86/Description1_20240705/timeSeries_zaxis.csv\n",
      "[Pid 87] output: data/87/Description1_20240705/timeSeries_zaxis.csv\n",
      "[Pid 88] output: data/88/Description1_20240705/timeSeries_zaxis.csv\n",
      "[Pid 89] output: data/89/Description1_20240705/timeSeries_zaxis.csv\n",
      "[Pid 90] output: data/90/Description1_20240705/timeSeries_zaxis.csv\n",
      "[Pid 91] output: data/91/Description1_20240705/timeSeries_zaxis.csv\n",
      "[Pid 92] output: data/92/Description1_20240705/timeSeries_zaxis.csv\n",
      "[Pid 93] output: data/93/Description1_20240705/timeSeries_zaxis.csv\n",
      "[Pid 94] output: data/94/Description1_20240705/timeSeries_zaxis.csv\n",
      "[Pid 95] output: data/95/Description1_20240705/timeSeries_zaxis.csv\n",
      "[Pid 96] output: data/96/Description1_20240705/timeSeries_zaxis.csv\n",
      "[Pid 97] output: data/97/Description1_20240705/timeSeries_zaxis.csv\n",
      "[Pid 98] output: data/98/Description1_20240705/timeSeries_zaxis.csv\n",
      "[Pid 99] output: data/99/Description1_20240705/timeSeries_zaxis.csv\n"
     ]
    }
   ],
   "source": [
    "def get_timeseries_data_with_zaxis(pidList):\n",
    "    for pid in pidList:\n",
    "        if pid not in invalidList:\n",
    "            # if pid=='27':\n",
    "            if pid >= '01':\n",
    "                csv_file_xy = VIDEOROOT + pid + '/Description1_20240314/3_timeSeries_smooth.csv'\n",
    "                csv_file_z = VIDEOROOT + pid + '/Description1_20240705/z_axis_data_smooth.csv'\n",
    "                csv_file_output = VIDEOROOT + pid + '/Description1_20240705/timeSeries_zaxis.csv'\n",
    "    \n",
    "                if not os.path.exists(csv_file_xy) or not os.path.exists(csv_file_z):\n",
    "                    print(f'[{pid}] csv file does not exist.')\n",
    "                    break\n",
    "                else:\n",
    "                    df = pd.read_csv(csv_file_xy, header=None)\n",
    "                    df_z = pd.read_csv(csv_file_z, header=None)\n",
    "                    \n",
    "                    lEye_pt1_x, lEye_pt2_x, lEye_pt3_x = [], [], []\n",
    "                    lEye_pt1_y, lEye_pt2_y, lEye_pt3_y = [], [], []\n",
    "                    lEye_pt1_z, lEye_pt2_z, lEye_pt3_z = [], [], []\n",
    "                    rEye_pt1_x, rEye_pt2_x, rEye_pt3_x = [], [], []\n",
    "                    rEye_pt1_y, rEye_pt2_y, rEye_pt3_y = [], [], []\n",
    "                    rEye_pt1_z, rEye_pt2_z, rEye_pt3_z = [], [], []\n",
    "\n",
    "                    for index, row in df_z.iterrows():\n",
    "                        left_inside = (row[0]+row[1]+row[2])/3\n",
    "                        left_middle = (row[3]+row[7])/2\n",
    "                        left_outside = (row[4]+row[5]+row[6])/3\n",
    "                        right_inside = (row[8]+row[9]+row[10])/3\n",
    "                        right_middle = (row[11]+row[15])/2\n",
    "                        right_outside = (row[12]+row[13]+row[14])/3\n",
    "                        lEye_pt1_z.append(round(left_inside, 2))\n",
    "                        lEye_pt2_z.append(round(left_middle, 2))\n",
    "                        lEye_pt3_z.append(round(left_outside, 2))\n",
    "                        rEye_pt1_z.append(round(right_inside, 2))\n",
    "                        rEye_pt2_z.append(round(right_middle, 2))\n",
    "                        rEye_pt3_z.append(round(right_outside, 2))\n",
    "\n",
    "                    n_row, n_col = df.shape[0], df.shape[1]\n",
    "                    for i in range(n_row):\n",
    "                        left_inside_x, left_inside_y = df.iloc[[i], [0]].values[0][0], df.iloc[[i], [1]].values[0][0]\n",
    "                        left_middle_x, left_middle_y = df.iloc[[i], [2]].values[0][0], df.iloc[[i], [3]].values[0][0]\n",
    "                        left_outside_x, left_outside_y = df.iloc[[i], [4]].values[0][0], df.iloc[[i], [5]].values[0][0]\n",
    "                        right_inside_x, right_inside_y = df.iloc[[i], [6]].values[0][0], df.iloc[[i], [7]].values[0][0]\n",
    "                        right_middle_x, right_middle_y = df.iloc[[i], [7]].values[0][0], df.iloc[[i], [9]].values[0][0]\n",
    "                        right_outside_x, right_outside_y = df.iloc[[i], [10]].values[0][0], df.iloc[[i], [11]].values[0][0]\n",
    "\n",
    "                        lEye_pt1_x.append(round(left_inside_x, 2))\n",
    "                        lEye_pt2_x.append(round(left_middle_x, 2))\n",
    "                        lEye_pt3_x.append(round(left_outside_x, 2))\n",
    "                        lEye_pt1_y.append(round(left_inside_y, 2))\n",
    "                        lEye_pt2_y.append(round(left_middle_y, 2))\n",
    "                        lEye_pt3_y.append(round(left_outside_y, 2))\n",
    "\n",
    "                        rEye_pt1_x.append(round(right_inside_x, 2))\n",
    "                        rEye_pt2_x.append(round(right_middle_x, 2))\n",
    "                        rEye_pt3_x.append(round(right_outside_x, 2))\n",
    "                        rEye_pt1_y.append(round(right_inside_y, 2))\n",
    "                        rEye_pt2_y.append(round(right_middle_y, 2))\n",
    "                        rEye_pt3_y.append(round(right_outside_y, 2))\n",
    "\n",
    "\n",
    "                    feature_name_list = ['lEye_pt1_x', 'lEye_pt1_y', 'lEye_pt1_z',\n",
    "                                         'lEye_pt2_x', 'lEye_pt2_y', 'lEye_pt2_z', \n",
    "                                         'lEye_pt3_x', 'lEye_pt3_y', 'lEye_pt3_z', \n",
    "                                         'rEye_pt1_x', 'rEye_pt1_y', 'rEye_pt1_z', \n",
    "                                         'rEye_pt2_x', 'rEye_pt2_y', 'rEye_pt2_z', \n",
    "                                         'rEye_pt3_x', 'rEye_pt3_y', 'rEye_pt3_z']\n",
    "                    coord_value_list = [lEye_pt1_x, lEye_pt1_y, lEye_pt1_z,\n",
    "                                        lEye_pt2_x, lEye_pt2_y, lEye_pt2_z, \n",
    "                                        lEye_pt3_x, lEye_pt3_y, lEye_pt3_z, \n",
    "                                        rEye_pt1_x, rEye_pt1_y, rEye_pt1_z, \n",
    "                                        rEye_pt2_x, rEye_pt2_y, rEye_pt2_z, \n",
    "                                        rEye_pt3_x, rEye_pt3_y, rEye_pt3_z]\n",
    "                    \n",
    "                    df_new = pd.DataFrame()\n",
    "                    for featureIdx, feature in enumerate(feature_name_list):\n",
    "                        df_new.insert(featureIdx, feature, coord_value_list[featureIdx])\n",
    "                    print(f'[Pid {pid}] output: {csv_file_output}')\n",
    "                    df_new.to_csv(csv_file_output, index=None, header=None)\n",
    "\n",
    "\n",
    "\n",
    "# subject_id_list = ['09', '20', '27'] ### AD\n",
    "# subject_id_list = ['90', '05', '43'] ### Non-AD\n",
    "subject_id_list = allID_list ### Run all subjects\n",
    "get_timeseries_data_with_zaxis(subject_id_list)"
   ]
  },
  {
   "cell_type": "code",
   "execution_count": null,
   "metadata": {},
   "outputs": [],
   "source": []
  },
  {
   "cell_type": "code",
   "execution_count": null,
   "metadata": {},
   "outputs": [],
   "source": []
  },
  {
   "cell_type": "code",
   "execution_count": null,
   "metadata": {},
   "outputs": [],
   "source": []
  },
  {
   "cell_type": "code",
   "execution_count": null,
   "metadata": {},
   "outputs": [],
   "source": []
  },
  {
   "cell_type": "code",
   "execution_count": null,
   "metadata": {},
   "outputs": [],
   "source": []
  },
  {
   "cell_type": "markdown",
   "metadata": {},
   "source": [
    "# Show Z-axis on the video\n",
    "* https://github.com/google-ai-edge/mediapipe/blob/master/docs/solutions/face_mesh.md"
   ]
  },
  {
   "cell_type": "code",
   "execution_count": 47,
   "metadata": {},
   "outputs": [
    {
     "name": "stdout",
     "output_type": "stream",
     "text": [
      "[pid: 27], data/27/Description1_20240705/z_axis_data.csv, videoType: 1\n"
     ]
    },
    {
     "name": "stderr",
     "output_type": "stream",
     "text": [
      "100%|██████████| 1230/1230 [00:02<00:00, 457.37it/s]\n"
     ]
    }
   ],
   "source": [
    "def show_z_axis_on_video(pidList):\n",
    "    for pid_str in pidList:\n",
    "        pid = int(pid_str)\n",
    "        vtype = videoType_dict[pid]['type']\n",
    "        if vtype==1:\n",
    "            IMG_HEIGHT = 480\n",
    "            IMG_WIDTH = 640\n",
    "        elif vtype==2:\n",
    "            IMG_HEIGHT = 720\n",
    "            IMG_WIDTH = 1280\n",
    "\n",
    "        my_FPS = 10\n",
    "        z_axis_csv_file = \"data/\" + pid_str + \"/Description1_20240705/z_axis_data.csv\"\n",
    "        video_input = \"data/\" + pid_str + \"/Description1/clip1.mp4\"\n",
    "        video_output = \"data/\" + pid_str + \"/Description1_20240705/clip1_with_z_axis_FPS\" + str(my_FPS) + \".mp4\"\n",
    "\n",
    "        ### Read z-axis data from CSV file\n",
    "        df = pd.read_csv(z_axis_csv_file, header=None)\n",
    "        print(f'[pid: {pid}], {z_axis_csv_file}, videoType: {vtype}')\n",
    "        n_row, n_col = df.shape[0], df.shape[1]\n",
    "        sum_z = df.sum(axis = 1).tolist()\n",
    "        avg_z = [x/16 for x in sum_z]\n",
    "        scaled_z = [x*IMG_WIDTH for x in avg_z]\n",
    "        # print(len(scaled_z))\n",
    "\n",
    "        ### Get video info\n",
    "        cap = cv2.VideoCapture(video_input)\n",
    "        FPS = cap.get(cv2.CAP_PROP_FPS)\n",
    "\n",
    "        ### Define video writer\n",
    "        VIDEO_CODEC = \"mp4v\"\n",
    "        OUT_WIDTH, OUT_HEIGHT = IMG_WIDTH, IMG_HEIGHT\n",
    "        # video_writer = cv2.VideoWriter(video_output, cv2.VideoWriter_fourcc(*VIDEO_CODEC), FPS, (IMG_WIDTH, IMG_HEIGHT))\n",
    "        video_writer = cv2.VideoWriter(video_output, cv2.VideoWriter_fourcc(*VIDEO_CODEC), my_FPS, (IMG_WIDTH, IMG_HEIGHT))\n",
    "\n",
    "        n_video_frames = int(cap.get(cv2.CAP_PROP_FRAME_COUNT))\n",
    "        for frameIdx, frame in enumerate(tqdm(range(n_video_frames), total=n_video_frames)):\n",
    "            if frameIdx < len(scaled_z):\n",
    "                ret, img = cap.read()\n",
    "                if ret==False: break\n",
    "                img = cv2.resize(img, (IMG_WIDTH, IMG_HEIGHT), interpolation=cv2.INTER_NEAREST)\n",
    "                dist_z = round(scaled_z[frameIdx], 2)\n",
    "\n",
    "                img = cv2.putText(img, 'frameIdx: '+str(frameIdx), org=(50,100), color=(0,0,0), thickness=2, fontScale=1, fontFace=cv2.FONT_HERSHEY_SIMPLEX, lineType=cv2.LINE_AA)\n",
    "                img = cv2.putText(img, 'depth: '+str(dist_z), org=(50,150), color=(0,0,0), thickness=2, fontScale=1, fontFace=cv2.FONT_HERSHEY_SIMPLEX, lineType=cv2.LINE_AA)\n",
    "                video_writer.write(img)\n",
    "    video_writer.release()\n",
    "    cap.release()\n",
    "\n",
    "# subject_id_list = ['09', '20', '27'] ### AD\n",
    "# subject_id_list = ['90', '05', '43'] ### Non-AD\n",
    "# subject_id_list = ['05']\n",
    "subject_id_list = ['27']\n",
    "show_z_axis_on_video(subject_id_list)"
   ]
  },
  {
   "cell_type": "code",
   "execution_count": null,
   "metadata": {},
   "outputs": [],
   "source": []
  }
 ],
 "metadata": {
  "kernelspec": {
   "display_name": "tf-gpu",
   "language": "python",
   "name": "python3"
  },
  "language_info": {
   "codemirror_mode": {
    "name": "ipython",
    "version": 3
   },
   "file_extension": ".py",
   "mimetype": "text/x-python",
   "name": "python",
   "nbconvert_exporter": "python",
   "pygments_lexer": "ipython3",
   "version": "3.7.16"
  }
 },
 "nbformat": 4,
 "nbformat_minor": 2
}
