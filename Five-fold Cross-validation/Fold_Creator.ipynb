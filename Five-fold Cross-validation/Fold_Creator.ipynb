{
 "cells": [
  {
   "cell_type": "markdown",
   "id": "1f908c04-dd6e-43fa-b938-c19e8efe2ced",
   "metadata": {},
   "source": [
    "# Import"
   ]
  },
  {
   "cell_type": "code",
   "execution_count": 1,
   "id": "6d197869-7c6a-422b-8898-4257d371fbd0",
   "metadata": {},
   "outputs": [],
   "source": [
    "import os\n",
    "import cv2\n",
    "import csv\n",
    "import math\n",
    "import time\n",
    "import random\n",
    "import numpy as np\n",
    "import pandas as pd\n",
    "import matplotlib.pyplot as plt\n",
    "from sklearn.model_selection import KFold, StratifiedKFold"
   ]
  },
  {
   "cell_type": "markdown",
   "id": "3159feb7-1c55-4447-8bf2-e494c9772ae9",
   "metadata": {},
   "source": [
    "# Global variable"
   ]
  },
  {
   "cell_type": "code",
   "execution_count": 2,
   "id": "b450cc91-85b4-47c1-bafd-abbd03a4749d",
   "metadata": {},
   "outputs": [],
   "source": [
    "# PIDROOT_WALK = \"../1_GaitAnalysis_ver1/data/\"\n",
    "# PIDROOT_SIT = \"../1_GaitAnalysis_ver1/data/\"\n",
    "\n",
    "PIDROOT_GAIT = \"../4_Cut_Video/data/\" ### [update] 2023/08/26\n",
    "PIDROOT_EYES = \"../2_EyeTrackingAnalysis/data/\"\n",
    "\n",
    "Turn_remove_list = []\n",
    "Eyes_remove_list = []\n",
    "\n",
    "n_FOLD = 5"
   ]
  },
  {
   "cell_type": "markdown",
   "id": "4431c57d-9295-45c9-a165-dd2f51ee7862",
   "metadata": {},
   "source": [
    "# Load Label"
   ]
  },
  {
   "cell_type": "code",
   "execution_count": 3,
   "id": "e0f6cc70-06be-43fe-a0da-c26bafc453c1",
   "metadata": {},
   "outputs": [
    {
     "name": "stdout",
     "output_type": "stream",
     "text": [
      "len(Label_dict): 100\n",
      "\n",
      "{1: 0, 2: 0, 3: 0, 4: 1, 5: 0, 6: 0, 7: 0, 8: 0, 9: 1, 10: 1, 11: 1, 12: 1, 13: 0, 14: 0, 15: 0, 16: 1, 17: 1, 18: 1, 19: 0, 20: 1, 21: 0, 22: 0, 23: 1, 24: 1, 25: 1, 26: 1, 27: 1, 28: 1, 29: 0, 30: 0, 31: 1, 32: 1, 33: 0, 34: 0, 35: 1, 36: 1, 37: 1, 38: 1, 39: 1, 40: 1, 41: 0, 42: 0, 43: 0, 44: 0, 45: 1, 46: 1, 47: 0, 48: 1, 49: 0, 50: 0, 51: 0, 52: 0, 53: 0, 54: 0, 55: 0, 56: 0, 57: 0, 58: 0, 59: 1, 60: 1, 61: 1, 62: 1, 63: 0, 64: 0, 65: 1, 66: 0, 67: 0, 68: 0, 69: 0, 70: 0, 71: 0, 72: 0, 73: 0, 74: 0, 75: 0, 76: 0, 77: 0, 78: 0, 79: 0, 80: 0, 81: 0, 82: 0, 83: 0, 84: 0, 85: 0, 86: 0, 87: 0, 88: 0, 89: 0, 90: 0, 91: 0, 92: 0, 93: 0, 94: 0, 95: 0, 96: 0, 97: 0, 98: 0, 99: 0, 100: 0}\n"
     ]
    }
   ],
   "source": [
    "# excel_path = '步態收案名單_0617.xlsx' # [update] 2023/06/17\n",
    "excel_path = '步態收案名單_0816.xlsx' # [update] 2023/08/26\n",
    "\n",
    "df_label = pd.read_excel(excel_path, usecols=['編號', 'Age', 'Gender', '_Label']) # [update] 2023/06/17\n",
    "df_label = df_label.fillna(0)\n",
    "df_label = df_label.astype({\"_Label\": int})\n",
    "\n",
    "Label_arr = np.array(df_label['_Label'])\n",
    "Label_dict = dict(zip(df_label.編號, df_label._Label))\n",
    "\n",
    "print(f'len(Label_dict): {len(Label_dict)}\\n')\n",
    "print(Label_dict)"
   ]
  },
  {
   "cell_type": "markdown",
   "id": "23dfafde-39ef-4cc2-bc5e-59197a36c362",
   "metadata": {},
   "source": [
    "# Load Id"
   ]
  },
  {
   "cell_type": "markdown",
   "id": "0781a33c-5d94-4596-a832-e544489f98da",
   "metadata": {},
   "source": [
    "## Walk & Sit-and-Stand"
   ]
  },
  {
   "cell_type": "code",
   "execution_count": 4,
   "id": "c3ff6173-b64f-4394-b3e0-19827231415b",
   "metadata": {},
   "outputs": [
    {
     "name": "stdout",
     "output_type": "stream",
     "text": [
      "[Info] Load pid for Walking Subtask & Sit-Stand Subtask ...\n",
      "- number of subjects: 88\n"
     ]
    }
   ],
   "source": [
    "pid_walk = []\n",
    "pid_sitstand = []\n",
    "\n",
    "def load_base_pid(dataPath): ### Walking & Sit-Stand Subtask (88 subjects)\n",
    "    tmp_list = []\n",
    "    \n",
    "    print(f'[Info] Load pid for Walking Subtask & Sit-Stand Subtask ...')\n",
    "    for pid in list(os.listdir(dataPath)):\n",
    "        tmp_list.append(pid)\n",
    "    print(f'- number of subjects: {len(tmp_list)}')\n",
    "    \n",
    "    return tmp_list, tmp_list\n",
    "    \n",
    "pid_walk, pid_sitstand = load_base_pid(PIDROOT_GAIT)"
   ]
  },
  {
   "cell_type": "code",
   "execution_count": 5,
   "id": "636334b5-afa9-423d-8de1-3b5ea8936218",
   "metadata": {},
   "outputs": [
    {
     "name": "stdout",
     "output_type": "stream",
     "text": [
      "Walking Subtask pid: 88 subjects.\n",
      " ['01', '02', '03', '04', '05', '06', '07', '09', '10', '100', '11', '12', '13', '16', '17', '18', '19', '20', '21', '22', '24', '25', '26', '27', '28', '29', '30', '31', '32', '33', '34', '35', '36', '37', '38', '39', '40', '43', '44', '45', '46', '48', '49', '51', '52', '57', '58', '59', '60', '61', '62', '63', '64', '65', '66', '67', '68', '69', '70', '71', '72', '73', '74', '75', '76', '77', '78', '79', '80', '81', '82', '83', '84', '85', '86', '87', '88', '89', '90', '91', '92', '93', '94', '95', '96', '97', '98', '99']\n",
      "\n",
      "Sit-Stand Subtask pid: 88 subjects.\n",
      " ['01', '02', '03', '04', '05', '06', '07', '09', '10', '100', '11', '12', '13', '16', '17', '18', '19', '20', '21', '22', '24', '25', '26', '27', '28', '29', '30', '31', '32', '33', '34', '35', '36', '37', '38', '39', '40', '43', '44', '45', '46', '48', '49', '51', '52', '57', '58', '59', '60', '61', '62', '63', '64', '65', '66', '67', '68', '69', '70', '71', '72', '73', '74', '75', '76', '77', '78', '79', '80', '81', '82', '83', '84', '85', '86', '87', '88', '89', '90', '91', '92', '93', '94', '95', '96', '97', '98', '99']\n"
     ]
    }
   ],
   "source": [
    "print(f'Walking Subtask pid: {len(pid_walk)} subjects.\\n {pid_walk}\\n')\n",
    "print(f'Sit-Stand Subtask pid: {len(pid_sitstand)} subjects.\\n {pid_sitstand}')"
   ]
  },
  {
   "cell_type": "markdown",
   "id": "a81acd80-b87c-42c5-bdad-840dff9405c2",
   "metadata": {},
   "source": [
    "## Turning"
   ]
  },
  {
   "cell_type": "code",
   "execution_count": 6,
   "id": "78a92272-ad82-4e83-8af7-dc2ac1c76fd5",
   "metadata": {},
   "outputs": [
    {
     "name": "stdout",
     "output_type": "stream",
     "text": [
      "[Info] Load pid for Turning Subtask ...\n",
      "- number of subjects: 83\n",
      "\n",
      "Turning Subtask pid: 83 subjects.\n",
      " ['01', '02', '03', '05', '06', '10', '100', '11', '12', '13', '16', '17', '18', '19', '20', '21', '22', '24', '25', '26', '27', '28', '29', '30', '31', '33', '34', '35', '36', '37', '38', '39', '40', '43', '44', '45', '46', '48', '49', '51', '52', '57', '58', '59', '61', '62', '63', '64', '65', '66', '67', '68', '69', '70', '71', '72', '73', '74', '75', '76', '77', '78', '79', '80', '81', '82', '83', '84', '85', '86', '87', '88', '89', '90', '91', '92', '93', '94', '95', '96', '97', '98', '99']\n"
     ]
    }
   ],
   "source": [
    "pid_turn = []\n",
    "Turn_remove_list = ['04', '07', '09', '32', '60']\n",
    "\n",
    "def load_turn_pid(walkList):\n",
    "    tmp_list = []\n",
    "    \n",
    "    print(f'[Info] Load pid for Turning Subtask ...')\n",
    "    for pid in walkList:\n",
    "        if pid not in Turn_remove_list:\n",
    "            tmp_list.append(pid)\n",
    "    print(f'- number of subjects: {len(tmp_list)}\\n')\n",
    "    return tmp_list\n",
    "\n",
    "pid_turn = load_turn_pid(pid_walk)\n",
    "print(f'Turning Subtask pid: {len(pid_turn)} subjects.\\n {pid_turn}')"
   ]
  },
  {
   "cell_type": "markdown",
   "id": "e6776577-e2cd-4f97-90fb-fe9ccc659dbc",
   "metadata": {},
   "source": [
    "## Facial"
   ]
  },
  {
   "cell_type": "code",
   "execution_count": 7,
   "id": "aa93ccac-00b1-4df5-8155-3a48073f2dc6",
   "metadata": {},
   "outputs": [
    {
     "name": "stdout",
     "output_type": "stream",
     "text": [
      "[Info] Load pid for Facial Subtask ...\n",
      "- number of subjects: 96\n",
      "- number of subjects (only Facial): 11\n",
      "   ['08', '14', '15', '23', '42', '47', '50', '53', '54', '55', '56']\n",
      "- number of subjects (no Facial): 3\n",
      "   ['60', '61', '85']\n"
     ]
    }
   ],
   "source": [
    "pid_eyes = []\n",
    "Eyes_noEyes_list = []\n",
    "Eyes_noWalk_list = []\n",
    "\n",
    "# Facial_remove_list = ['10', '11', '60', '61', '85']\n",
    "Facial_remove_list = ['60', '61', '85'] ### [update] 2023/08/31\n",
    "\n",
    "def load_eye_pid(dataPath): ### Facial Subtask\n",
    "    tmp_list = []\n",
    "    tmp_noWalk = []\n",
    "    tmp_noEyes = []\n",
    "    \n",
    "    print(f'[Info] Load pid for Facial Subtask ...')\n",
    "    for pid in list(os.listdir(dataPath)):\n",
    "        if (pid in Facial_remove_list)==False:\n",
    "            tmp_list.append(pid)\n",
    "            if pid not in pid_walk:\n",
    "                tmp_noWalk.append(pid)\n",
    "    print(f'- number of subjects: {len(tmp_list)}')\n",
    "    print(f'- number of subjects (only Facial): {len(tmp_noWalk)}')\n",
    "    print(f'   {tmp_noWalk}')\n",
    "    \n",
    "    for pid in pid_walk:\n",
    "        if pid not in tmp_list:\n",
    "            tmp_noEyes.append(pid)\n",
    "    print(f'- number of subjects (no Facial): {len(tmp_noEyes)}')\n",
    "    print(f'   {tmp_noEyes}')\n",
    "    \n",
    "    return tmp_list, tmp_noWalk, tmp_noEyes\n",
    "    \n",
    "pid_eyes, Eyes_noWalk_list, Eyes_noEyes_list = load_eye_pid(PIDROOT_EYES)"
   ]
  },
  {
   "cell_type": "code",
   "execution_count": 8,
   "id": "ee663d32-a63f-4d8f-9555-59ad3a6f2a0c",
   "metadata": {},
   "outputs": [
    {
     "name": "stdout",
     "output_type": "stream",
     "text": [
      "Facial Subtask pid: 96 subjects.\n",
      "\n",
      " ['01', '02', '03', '04', '05', '06', '07', '08', '09', '10', '100', '11', '12', '13', '14', '15', '16', '17', '18', '19', '20', '21', '22', '23', '24', '25', '26', '27', '28', '29', '30', '31', '32', '33', '34', '35', '36', '37', '38', '39', '40', '42', '43', '44', '45', '46', '47', '48', '49', '50', '51', '52', '53', '54', '55', '56', '57', '58', '59', '62', '63', '64', '65', '66', '67', '68', '69', '70', '71', '72', '73', '74', '75', '76', '77', '78', '79', '80', '81', '82', '83', '84', '86', '87', '88', '89', '90', '91', '92', '93', '94', '95', '96', '97', '98', '99']\n",
      "\n",
      "Only Facial Data (no Gait): 11 subjects.\n",
      " ['08', '14', '15', '23', '42', '47', '50', '53', '54', '55', '56']\n",
      "\n",
      "Only Gait Data (no Facial): 3 subjects.\n",
      " ['60', '61', '85']\n"
     ]
    }
   ],
   "source": [
    "print(f'Facial Subtask pid: {len(pid_eyes)} subjects.\\n\\n {pid_eyes}\\n')\n",
    "print(f'Only Facial Data (no Gait): {len(Eyes_noWalk_list)} subjects.\\n {Eyes_noWalk_list}\\n')\n",
    "print(f'Only Gait Data (no Facial): {len(Eyes_noEyes_list)} subjects.\\n {Eyes_noEyes_list}')"
   ]
  },
  {
   "cell_type": "markdown",
   "id": "10a79846-1149-4023-8241-9da8ebcba132",
   "metadata": {},
   "source": [
    "# Split Id"
   ]
  },
  {
   "cell_type": "markdown",
   "id": "49f61965-61fb-42f6-bebc-096396424769",
   "metadata": {},
   "source": [
    "## Walking"
   ]
  },
  {
   "cell_type": "code",
   "execution_count": 9,
   "id": "c106bd4a-1216-4013-9a58-0289d1b971cb",
   "metadata": {},
   "outputs": [],
   "source": [
    "train_walk_5f, val_walk_5f, test_walk_5f = [], [], []\n",
    "train_turn_5f, val_turn_5f, test_turn_5f = [], [], []\n",
    "train_sitstand_5f, val_sitstand_5f, test_sitstand_5f = [], [], []\n",
    "train_eyes_5f, val_eyes_5f, test_eyes_5f = [], [], []\n",
    "\n",
    "def split_base_5fold(pidList): ### Walking & Sit-Stand Subtask\n",
    "    tmp_train_5f, tmp_val_5f, tmp_test_5f = [], [], []\n",
    "    tmp_all_target = []\n",
    "    \n",
    "    for pid in pidList:\n",
    "        pid_int = int(pid)\n",
    "        tmp_all_target.append(Label_dict[pid_int])\n",
    "\n",
    "    kf = StratifiedKFold(n_splits=n_FOLD, shuffle=True, random_state=42)\n",
    "\n",
    "    for train_index, test_index in kf.split(pidList, tmp_all_target):\n",
    "        realTrain_idx, realTest_idx = [], []\n",
    "        for idx in train_index:\n",
    "            realTrain_idx.append(pidList[idx])\n",
    "        for idx in test_index:\n",
    "            realTest_idx.append(pidList[idx])\n",
    "        \n",
    "        tmp_train_5f.append(realTrain_idx)\n",
    "        tmp_test_5f.append(realTest_idx)\n",
    "    \n",
    "    ### Split Validation Set from Training Set\n",
    "    tmp_train_5f_new = []\n",
    "    tmp_val_5f = []\n",
    "    for i in range(n_FOLD):\n",
    "        tmp_pidList_1f = tmp_train_5f[i]\n",
    "        tmp_label_1f = []\n",
    "        \n",
    "        for pid in tmp_pidList_1f:\n",
    "            tmp_label_1f.append(Label_dict[int(pid)])\n",
    "            \n",
    "        kf_validation = StratifiedKFold(n_splits=5)\n",
    "        cnt_split = 0\n",
    "        for train_index, val_index in kf_validation.split(tmp_pidList_1f, tmp_label_1f):\n",
    "            train_pid, val_pid = [], []\n",
    "            if cnt_split==0:\n",
    "                for idx in train_index:\n",
    "                    train_pid.append(tmp_pidList_1f[idx])\n",
    "                for idx in val_index:\n",
    "                    val_pid.append(tmp_pidList_1f[idx])\n",
    "\n",
    "                tmp_train_5f_new.append(train_pid)\n",
    "                tmp_val_5f.append(val_pid)\n",
    "            cnt_split += 1\n",
    "        \n",
    "    return tmp_train_5f_new, tmp_val_5f, tmp_test_5f\n",
    "    \n",
    "\n",
    "train_walk_5f, val_walk_5f, test_walk_5f = split_base_5fold(pid_walk)  "
   ]
  },
  {
   "cell_type": "code",
   "execution_count": 10,
   "id": "8c0b0303-824a-4fc0-8ed8-6cde34bdb1ed",
   "metadata": {},
   "outputs": [
    {
     "name": "stdout",
     "output_type": "stream",
     "text": [
      "[Info] Show Split result of Walking Subtask ...\n",
      "\n",
      "[Fold 1] Train: (num: 56)\n",
      "['17', '18', '20', '24', '25', '26', '27', '28', '31', '32', '33', '35', '38', '39', '40', '43', '46', '48', '51', '52', '57', '58', '60', '61', '62', '63', '64', '65', '66', '68', '69', '70', '71', '72', '73', '74', '76', '77', '78', '79', '80', '82', '84', '85', '86', '87', '88', '90', '91', '92', '93', '95', '96', '97', '98', '99']\n",
      "[Fold 1] Validate: (num: 14)\n",
      "['03', '05', '06', '07', '09', '10', '100', '12', '13', '16', '19', '21', '22', '30']\n",
      "[Fold 1] Test: (num: 18)\n",
      "['01', '02', '04', '11', '29', '34', '36', '37', '44', '45', '49', '59', '67', '75', '81', '83', '89', '94']\n",
      "\n",
      "[Fold 2] Train: (num: 56)\n",
      "['17', '18', '20', '24', '25', '26', '27', '28', '30', '31', '32', '33', '34', '36', '37', '38', '39', '40', '44', '45', '46', '48', '49', '51', '57', '58', '59', '60', '63', '64', '67', '68', '69', '71', '72', '73', '74', '75', '76', '77', '78', '79', '80', '81', '83', '84', '85', '86', '88', '89', '92', '94', '95', '97', '98', '99']\n",
      "[Fold 2] Validate: (num: 14)\n",
      "['01', '02', '03', '04', '06', '07', '09', '100', '11', '13', '16', '19', '22', '29']\n",
      "[Fold 2] Test: (num: 18)\n",
      "['05', '10', '12', '21', '35', '43', '52', '61', '62', '65', '66', '70', '82', '87', '90', '91', '93', '96']\n",
      "\n",
      "[Fold 3] Train: (num: 56)\n",
      "['12', '16', '17', '18', '24', '25', '26', '27', '30', '31', '32', '34', '35', '36', '37', '38', '39', '43', '44', '45', '49', '51', '52', '58', '59', '61', '62', '63', '64', '65', '66', '67', '70', '73', '74', '75', '77', '78', '80', '81', '82', '83', '84', '85', '87', '88', '89', '90', '91', '92', '93', '94', '95', '96', '98', '99']\n",
      "[Fold 3] Validate: (num: 14)\n",
      "['01', '02', '04', '05', '06', '07', '09', '10', '100', '11', '19', '21', '22', '29']\n",
      "[Fold 3] Test: (num: 18)\n",
      "['03', '13', '20', '28', '33', '40', '46', '48', '57', '60', '68', '69', '71', '72', '76', '79', '86', '97']\n",
      "\n",
      "[Fold 4] Train: (num: 56)\n",
      "['17', '18', '20', '24', '25', '28', '34', '35', '36', '37', '39', '40', '43', '44', '45', '46', '48', '49', '52', '57', '58', '59', '60', '61', '62', '63', '64', '65', '66', '67', '68', '69', '70', '71', '72', '73', '75', '76', '77', '79', '80', '81', '82', '83', '86', '87', '88', '89', '90', '91', '92', '93', '94', '96', '97', '98']\n",
      "[Fold 4] Validate: (num: 15)\n",
      "['01', '02', '03', '04', '05', '07', '09', '10', '11', '12', '13', '21', '22', '29', '33']\n",
      "[Fold 4] Test: (num: 17)\n",
      "['06', '100', '16', '19', '26', '27', '30', '31', '32', '38', '51', '74', '78', '84', '85', '95', '99']\n",
      "\n",
      "[Fold 5] Train: (num: 56)\n",
      "['20', '26', '27', '28', '30', '31', '32', '33', '34', '35', '36', '37', '38', '40', '43', '44', '45', '46', '48', '49', '51', '52', '57', '59', '60', '61', '62', '65', '66', '67', '68', '69', '70', '71', '72', '74', '75', '76', '78', '79', '81', '82', '83', '84', '85', '86', '87', '89', '90', '91', '93', '94', '95', '96', '97', '99']\n",
      "[Fold 5] Validate: (num: 15)\n",
      "['01', '02', '03', '04', '05', '06', '10', '100', '11', '12', '13', '16', '19', '21', '29']\n",
      "[Fold 5] Test: (num: 17)\n",
      "['07', '09', '17', '18', '22', '24', '25', '39', '58', '63', '64', '73', '77', '80', '88', '92', '98']\n",
      "\n"
     ]
    }
   ],
   "source": [
    "print(f'[Info] Show Split result of Walking Subtask ...\\n')\n",
    "for i in range(n_FOLD):\n",
    "    print(f'[Fold {i+1}] Train: (num: {len(train_walk_5f[i])})\\n{train_walk_5f[i]}')\n",
    "    print(f'[Fold {i+1}] Validate: (num: {len(val_walk_5f[i])})\\n{val_walk_5f[i]}')\n",
    "    print(f'[Fold {i+1}] Test: (num: {len(test_walk_5f[i])})\\n{test_walk_5f[i]}\\n')    "
   ]
  },
  {
   "cell_type": "code",
   "execution_count": 11,
   "id": "feb9559a-0709-4ca7-9119-1c7ee8c62b96",
   "metadata": {},
   "outputs": [
    {
     "name": "stdout",
     "output_type": "stream",
     "text": [
      "Number of pid in Test Set: 88 subjects.\n",
      "\n",
      "[Info] Check for each fold ...\n",
      " -fold 1: 88 subjects.\n",
      " -fold 2: 88 subjects.\n",
      " -fold 3: 88 subjects.\n",
      " -fold 4: 88 subjects.\n",
      " -fold 5: 88 subjects.\n"
     ]
    }
   ],
   "source": [
    "def check_walking_subtask_pid(train_5f, val_5f, test_5f):\n",
    "    ### check if all subjects are tested\n",
    "    tmp_set = set()\n",
    "    for i in range(n_FOLD):\n",
    "        test_1f = test_5f[i]\n",
    "        for j in range(len(test_1f)):\n",
    "            pid = test_1f[j]\n",
    "            tmp_set.add(pid)\n",
    "    print(f'Number of pid in Test Set: {len(tmp_set)} subjects.\\n')\n",
    "    \n",
    "    ### Check each fold (train + val + test)\n",
    "    print(f'[Info] Check for each fold ...')\n",
    "    for i in range(n_FOLD):\n",
    "        tmp_set = set()\n",
    "        for j in range(len(train_5f[i])):\n",
    "            tmp_set.add(train_5f[i][j])\n",
    "        for j in range(len(val_5f[i])):\n",
    "            tmp_set.add(val_5f[i][j])\n",
    "        for j in range(len(test_5f[i])):\n",
    "            tmp_set.add(test_5f[i][j])\n",
    "        print(f' -fold {i+1}: {len(tmp_set)} subjects.')\n",
    "    \n",
    "check_walking_subtask_pid(train_walk_5f, val_walk_5f, test_walk_5f)  "
   ]
  },
  {
   "cell_type": "markdown",
   "id": "fd3862ab-9aaf-4f2a-8ddb-7fa8b4c3c35a",
   "metadata": {},
   "source": [
    "## Sit-and-Stand"
   ]
  },
  {
   "cell_type": "code",
   "execution_count": 12,
   "id": "89910854-81da-4559-8b00-d5b1abc47fc2",
   "metadata": {},
   "outputs": [],
   "source": [
    "train_turn_5f, val_turn_5f, test_turn_5f = [], [], []\n",
    "train_sitstand_5f, val_sitstand_5f, test_sitstand_5f = [], [], []\n",
    "train_eyes_5f, val_eyes_5f, test_eyes_5f = [], [], []\n",
    "\n",
    "def split_5fold_sitstand():\n",
    "    tmp_train_5f, tmp_val_5f, tmp_test_5f = [], [], []\n",
    "    for i in range(n_FOLD):\n",
    "        tmp_train_1f = train_walk_5f[i]\n",
    "        tmp_val_1f = val_walk_5f[i]\n",
    "        tmp_test_1f = test_walk_5f[i]\n",
    "        \n",
    "        tmp_train_5f.append(tmp_train_1f)\n",
    "        tmp_val_5f.append(tmp_val_1f)\n",
    "        tmp_test_5f.append(tmp_test_1f)\n",
    "    return tmp_train_5f, tmp_val_5f, tmp_test_5f\n",
    "\n",
    "train_sitstand_5f, val_sitstand_5f, test_sitstand_5f = split_5fold_sitstand()"
   ]
  },
  {
   "cell_type": "code",
   "execution_count": 13,
   "id": "6f5912b0-945d-4a2b-a0ef-536b6a25b03f",
   "metadata": {},
   "outputs": [
    {
     "name": "stdout",
     "output_type": "stream",
     "text": [
      "[Info] Show Split result of Sit-and-Stand Subtask ...\n",
      "\n",
      "[Fold 1] Train: (num: 56)\n",
      "['17', '18', '20', '24', '25', '26', '27', '28', '31', '32', '33', '35', '38', '39', '40', '43', '46', '48', '51', '52', '57', '58', '60', '61', '62', '63', '64', '65', '66', '68', '69', '70', '71', '72', '73', '74', '76', '77', '78', '79', '80', '82', '84', '85', '86', '87', '88', '90', '91', '92', '93', '95', '96', '97', '98', '99']\n",
      "[Fold 1] Validate: (num: 14)\n",
      "['03', '05', '06', '07', '09', '10', '100', '12', '13', '16', '19', '21', '22', '30']\n",
      "[Fold 1] Test: (num: 18)\n",
      "['01', '02', '04', '11', '29', '34', '36', '37', '44', '45', '49', '59', '67', '75', '81', '83', '89', '94']\n",
      "[Fold 2] Train: (num: 56)\n",
      "['17', '18', '20', '24', '25', '26', '27', '28', '30', '31', '32', '33', '34', '36', '37', '38', '39', '40', '44', '45', '46', '48', '49', '51', '57', '58', '59', '60', '63', '64', '67', '68', '69', '71', '72', '73', '74', '75', '76', '77', '78', '79', '80', '81', '83', '84', '85', '86', '88', '89', '92', '94', '95', '97', '98', '99']\n",
      "[Fold 2] Validate: (num: 14)\n",
      "['01', '02', '03', '04', '06', '07', '09', '100', '11', '13', '16', '19', '22', '29']\n",
      "[Fold 2] Test: (num: 18)\n",
      "['05', '10', '12', '21', '35', '43', '52', '61', '62', '65', '66', '70', '82', '87', '90', '91', '93', '96']\n",
      "[Fold 3] Train: (num: 56)\n",
      "['12', '16', '17', '18', '24', '25', '26', '27', '30', '31', '32', '34', '35', '36', '37', '38', '39', '43', '44', '45', '49', '51', '52', '58', '59', '61', '62', '63', '64', '65', '66', '67', '70', '73', '74', '75', '77', '78', '80', '81', '82', '83', '84', '85', '87', '88', '89', '90', '91', '92', '93', '94', '95', '96', '98', '99']\n",
      "[Fold 3] Validate: (num: 14)\n",
      "['01', '02', '04', '05', '06', '07', '09', '10', '100', '11', '19', '21', '22', '29']\n",
      "[Fold 3] Test: (num: 18)\n",
      "['03', '13', '20', '28', '33', '40', '46', '48', '57', '60', '68', '69', '71', '72', '76', '79', '86', '97']\n",
      "[Fold 4] Train: (num: 56)\n",
      "['17', '18', '20', '24', '25', '28', '34', '35', '36', '37', '39', '40', '43', '44', '45', '46', '48', '49', '52', '57', '58', '59', '60', '61', '62', '63', '64', '65', '66', '67', '68', '69', '70', '71', '72', '73', '75', '76', '77', '79', '80', '81', '82', '83', '86', '87', '88', '89', '90', '91', '92', '93', '94', '96', '97', '98']\n",
      "[Fold 4] Validate: (num: 15)\n",
      "['01', '02', '03', '04', '05', '07', '09', '10', '11', '12', '13', '21', '22', '29', '33']\n",
      "[Fold 4] Test: (num: 17)\n",
      "['06', '100', '16', '19', '26', '27', '30', '31', '32', '38', '51', '74', '78', '84', '85', '95', '99']\n",
      "[Fold 5] Train: (num: 56)\n",
      "['20', '26', '27', '28', '30', '31', '32', '33', '34', '35', '36', '37', '38', '40', '43', '44', '45', '46', '48', '49', '51', '52', '57', '59', '60', '61', '62', '65', '66', '67', '68', '69', '70', '71', '72', '74', '75', '76', '78', '79', '81', '82', '83', '84', '85', '86', '87', '89', '90', '91', '93', '94', '95', '96', '97', '99']\n",
      "[Fold 5] Validate: (num: 15)\n",
      "['01', '02', '03', '04', '05', '06', '10', '100', '11', '12', '13', '16', '19', '21', '29']\n",
      "[Fold 5] Test: (num: 17)\n",
      "['07', '09', '17', '18', '22', '24', '25', '39', '58', '63', '64', '73', '77', '80', '88', '92', '98']\n"
     ]
    }
   ],
   "source": [
    "print(f'[Info] Show Split result of Sit-and-Stand Subtask ...\\n')\n",
    "for i in range(n_FOLD):\n",
    "    print(f'[Fold {i+1}] Train: (num: {len(train_sitstand_5f[i])})\\n{train_sitstand_5f[i]}')\n",
    "    print(f'[Fold {i+1}] Validate: (num: {len(val_sitstand_5f[i])})\\n{val_sitstand_5f[i]}')\n",
    "    print(f'[Fold {i+1}] Test: (num: {len(test_sitstand_5f[i])})\\n{test_sitstand_5f[i]}')    "
   ]
  },
  {
   "cell_type": "code",
   "execution_count": 14,
   "id": "1378e106-4b30-4a1d-87e5-32ed7143cdcd",
   "metadata": {},
   "outputs": [
    {
     "name": "stdout",
     "output_type": "stream",
     "text": [
      "Number of pid in Test Set: 88 subjects.\n",
      "\n",
      "[Info] Check for each fold ...\n",
      " -fold 1: 88 subjects.\n",
      " -fold 2: 88 subjects.\n",
      " -fold 3: 88 subjects.\n",
      " -fold 4: 88 subjects.\n",
      " -fold 5: 88 subjects.\n"
     ]
    }
   ],
   "source": [
    "def check_sitstand_subtask_pid(train_5f, val_5f, test_5f):\n",
    "    ### check if all subjects are tested\n",
    "    tmp_set = set()\n",
    "    for i in range(n_FOLD):\n",
    "        test_1f = test_5f[i]\n",
    "        for j in range(len(test_1f)):\n",
    "            pid = test_1f[j]\n",
    "            tmp_set.add(pid)\n",
    "    print(f'Number of pid in Test Set: {len(tmp_set)} subjects.\\n')\n",
    "    \n",
    "    ### Check each fold (train + val + test)\n",
    "    print(f'[Info] Check for each fold ...')\n",
    "    for i in range(n_FOLD):\n",
    "        tmp_set = set()\n",
    "        for j in range(len(train_5f[i])):\n",
    "            tmp_set.add(train_5f[i][j])\n",
    "        for j in range(len(val_5f[i])):\n",
    "            tmp_set.add(val_5f[i][j])\n",
    "        for j in range(len(test_5f[i])):\n",
    "            tmp_set.add(test_5f[i][j])\n",
    "        print(f' -fold {i+1}: {len(tmp_set)} subjects.')\n",
    "    \n",
    "check_sitstand_subtask_pid(train_sitstand_5f, val_sitstand_5f, test_sitstand_5f)  "
   ]
  },
  {
   "cell_type": "markdown",
   "id": "1106cb59-a907-4c7f-847b-7311c58ab472",
   "metadata": {},
   "source": [
    "## Turning"
   ]
  },
  {
   "cell_type": "code",
   "execution_count": 15,
   "id": "e403f062-3102-44e1-b5ef-aaa1b2dc7be3",
   "metadata": {},
   "outputs": [],
   "source": [
    "train_turn_5f, val_turn_5f, test_turn_5f = [], [], []\n",
    "\n",
    "def split_5fold_turn(problem_list):\n",
    "    tmp_train_5f, tmp_val_5f, tmp_test_5f = [], [], []\n",
    "    for i in range(n_FOLD):\n",
    "        tmp_train_1f, tmp_val_1f, tmp_test_1f = [], [], []\n",
    "        tmp_train_1f_new, tmp_val_1f_new, tmp_test_1f_new = [], [], []\n",
    "        \n",
    "        for j in range(len(train_walk_5f[i])):\n",
    "            tmp_train_1f.append(train_walk_5f[i][j])\n",
    "        for j in range(len(val_walk_5f[i])):\n",
    "            tmp_val_1f.append(val_walk_5f[i][j])\n",
    "        for j in range(len(test_walk_5f[i])):\n",
    "            tmp_test_1f.append(test_walk_5f[i][j])\n",
    "\n",
    "        for j in range(len(tmp_train_1f)):\n",
    "            pid = tmp_train_1f[j]\n",
    "            if (pid in problem_list)==False: tmp_train_1f_new.append(pid)\n",
    "        for j in range(len(tmp_val_1f)):\n",
    "            pid = tmp_val_1f[j]\n",
    "            if (pid in problem_list)==False: tmp_val_1f_new.append(pid)\n",
    "        for j in range(len(tmp_test_1f)):\n",
    "            pid = tmp_test_1f[j]\n",
    "            if (pid in problem_list)==False: tmp_test_1f_new.append(pid)\n",
    "                \n",
    "        tmp_train_5f.append(tmp_train_1f_new)\n",
    "        tmp_val_5f.append(tmp_val_1f_new)\n",
    "        tmp_test_5f.append(tmp_test_1f_new)\n",
    "    return tmp_train_5f, tmp_val_5f, tmp_test_5f\n",
    "\n",
    "train_turn_5f, val_turn_5f, test_turn_5f = split_5fold_turn(Turn_remove_list)"
   ]
  },
  {
   "cell_type": "code",
   "execution_count": 16,
   "id": "408b354e-0f3f-4097-a6ce-f017dcd98ac3",
   "metadata": {},
   "outputs": [
    {
     "name": "stdout",
     "output_type": "stream",
     "text": [
      "[Info] Show Split result of Turning Subtask ...\n",
      "\n",
      "[Fold 1] Train: (num: 54)\n",
      "['17', '18', '20', '24', '25', '26', '27', '28', '31', '33', '35', '38', '39', '40', '43', '46', '48', '51', '52', '57', '58', '61', '62', '63', '64', '65', '66', '68', '69', '70', '71', '72', '73', '74', '76', '77', '78', '79', '80', '82', '84', '85', '86', '87', '88', '90', '91', '92', '93', '95', '96', '97', '98', '99']\n",
      "[Fold 1] Validate: (num: 12)\n",
      "['03', '05', '06', '10', '100', '12', '13', '16', '19', '21', '22', '30']\n",
      "[Fold 1] Test: (num: 17)\n",
      "['01', '02', '11', '29', '34', '36', '37', '44', '45', '49', '59', '67', '75', '81', '83', '89', '94']\n",
      "\n",
      "[Fold 2] Train: (num: 54)\n",
      "['17', '18', '20', '24', '25', '26', '27', '28', '30', '31', '33', '34', '36', '37', '38', '39', '40', '44', '45', '46', '48', '49', '51', '57', '58', '59', '63', '64', '67', '68', '69', '71', '72', '73', '74', '75', '76', '77', '78', '79', '80', '81', '83', '84', '85', '86', '88', '89', '92', '94', '95', '97', '98', '99']\n",
      "[Fold 2] Validate: (num: 11)\n",
      "['01', '02', '03', '06', '100', '11', '13', '16', '19', '22', '29']\n",
      "[Fold 2] Test: (num: 18)\n",
      "['05', '10', '12', '21', '35', '43', '52', '61', '62', '65', '66', '70', '82', '87', '90', '91', '93', '96']\n",
      "\n",
      "[Fold 3] Train: (num: 55)\n",
      "['12', '16', '17', '18', '24', '25', '26', '27', '30', '31', '34', '35', '36', '37', '38', '39', '43', '44', '45', '49', '51', '52', '58', '59', '61', '62', '63', '64', '65', '66', '67', '70', '73', '74', '75', '77', '78', '80', '81', '82', '83', '84', '85', '87', '88', '89', '90', '91', '92', '93', '94', '95', '96', '98', '99']\n",
      "[Fold 3] Validate: (num: 11)\n",
      "['01', '02', '05', '06', '10', '100', '11', '19', '21', '22', '29']\n",
      "[Fold 3] Test: (num: 17)\n",
      "['03', '13', '20', '28', '33', '40', '46', '48', '57', '68', '69', '71', '72', '76', '79', '86', '97']\n",
      "\n",
      "[Fold 4] Train: (num: 55)\n",
      "['17', '18', '20', '24', '25', '28', '34', '35', '36', '37', '39', '40', '43', '44', '45', '46', '48', '49', '52', '57', '58', '59', '61', '62', '63', '64', '65', '66', '67', '68', '69', '70', '71', '72', '73', '75', '76', '77', '79', '80', '81', '82', '83', '86', '87', '88', '89', '90', '91', '92', '93', '94', '96', '97', '98']\n",
      "[Fold 4] Validate: (num: 12)\n",
      "['01', '02', '03', '05', '10', '11', '12', '13', '21', '22', '29', '33']\n",
      "[Fold 4] Test: (num: 16)\n",
      "['06', '100', '16', '19', '26', '27', '30', '31', '38', '51', '74', '78', '84', '85', '95', '99']\n",
      "\n",
      "[Fold 5] Train: (num: 54)\n",
      "['20', '26', '27', '28', '30', '31', '33', '34', '35', '36', '37', '38', '40', '43', '44', '45', '46', '48', '49', '51', '52', '57', '59', '61', '62', '65', '66', '67', '68', '69', '70', '71', '72', '74', '75', '76', '78', '79', '81', '82', '83', '84', '85', '86', '87', '89', '90', '91', '93', '94', '95', '96', '97', '99']\n",
      "[Fold 5] Validate: (num: 14)\n",
      "['01', '02', '03', '05', '06', '10', '100', '11', '12', '13', '16', '19', '21', '29']\n",
      "[Fold 5] Test: (num: 15)\n",
      "['17', '18', '22', '24', '25', '39', '58', '63', '64', '73', '77', '80', '88', '92', '98']\n",
      "\n"
     ]
    }
   ],
   "source": [
    "print(f'[Info] Show Split result of Turning Subtask ...\\n')\n",
    "for i in range(n_FOLD):\n",
    "    print(f'[Fold {i+1}] Train: (num: {len(train_turn_5f[i])})\\n{train_turn_5f[i]}')\n",
    "    print(f'[Fold {i+1}] Validate: (num: {len(val_turn_5f[i])})\\n{val_turn_5f[i]}')\n",
    "    print(f'[Fold {i+1}] Test: (num: {len(test_turn_5f[i])})\\n{test_turn_5f[i]}\\n')    "
   ]
  },
  {
   "cell_type": "code",
   "execution_count": 17,
   "id": "bc72cda6-d6ac-4eb8-bb0c-ded0fc73c295",
   "metadata": {},
   "outputs": [
    {
     "name": "stdout",
     "output_type": "stream",
     "text": [
      "Number of pid in Test Set: 83 subjects.\n",
      "\n",
      "[Info] Check for each fold ...\n",
      " -fold 1: 83 subjects.\n",
      " -fold 2: 83 subjects.\n",
      " -fold 3: 83 subjects.\n",
      " -fold 4: 83 subjects.\n",
      " -fold 5: 83 subjects.\n"
     ]
    }
   ],
   "source": [
    "def check_turning_subtask_pid(train_5f, val_5f, test_5f):\n",
    "    ### check if all subjects are tested\n",
    "    tmp_set = set()\n",
    "    for i in range(n_FOLD):\n",
    "        test_1f = test_5f[i]\n",
    "        for j in range(len(test_1f)):\n",
    "            pid = test_1f[j]\n",
    "            tmp_set.add(pid)\n",
    "    print(f'Number of pid in Test Set: {len(tmp_set)} subjects.\\n')\n",
    "    \n",
    "    ### Check each fold (train + val + test)\n",
    "    print(f'[Info] Check for each fold ...')\n",
    "    for i in range(n_FOLD):\n",
    "        tmp_set = set()\n",
    "        for j in range(len(train_5f[i])):\n",
    "            tmp_set.add(train_5f[i][j])\n",
    "        for j in range(len(val_5f[i])):\n",
    "            tmp_set.add(val_5f[i][j])\n",
    "        for j in range(len(test_5f[i])):\n",
    "            tmp_set.add(test_5f[i][j])\n",
    "        print(f' -fold {i+1}: {len(tmp_set)} subjects.')\n",
    "    \n",
    "check_turning_subtask_pid(train_turn_5f, val_turn_5f, test_turn_5f)  "
   ]
  },
  {
   "cell_type": "markdown",
   "id": "548ad7b7-2f43-4ddc-bb36-d33c994a9e42",
   "metadata": {},
   "source": [
    "## Facial"
   ]
  },
  {
   "cell_type": "code",
   "execution_count": 18,
   "id": "ee422e63-a37a-4eff-9bad-c2ea3496b2d9",
   "metadata": {},
   "outputs": [
    {
     "data": {
      "text/plain": [
       "[['08', '14'], ['15', '23'], ['42', '47'], ['50', '53'], ['54', '55', '56']]"
      ]
     },
     "execution_count": 18,
     "metadata": {},
     "output_type": "execute_result"
    }
   ],
   "source": [
    "facial_only_5f = []\n",
    "\n",
    "def split_facial_only_pid_into_5fold(facial_only_list):\n",
    "    tmp_5f = []\n",
    "    \n",
    "    for i in range(n_FOLD-1):\n",
    "        pid1 = facial_only_list[i*2]\n",
    "        pid2 = facial_only_list[i*2+1]\n",
    "        \n",
    "        tmp_5f.append([pid1, pid2])\n",
    "        \n",
    "    tmp_1f = []\n",
    "    for i in range(8, len(facial_only_list)):\n",
    "        pid = facial_only_list[i]\n",
    "        tmp_1f.append(pid)\n",
    "    tmp_5f.append(tmp_1f)\n",
    "    return tmp_5f\n",
    "    \n",
    "facial_only_5f = split_facial_only_pid_into_5fold(Eyes_noWalk_list)\n",
    "facial_only_5f"
   ]
  },
  {
   "cell_type": "code",
   "execution_count": 19,
   "id": "c3b98d12-9bfa-44af-9482-aac16f9c9030",
   "metadata": {},
   "outputs": [],
   "source": [
    "train_eyes_5f, val_eyes_5f, test_eyes_5f = [], [], []\n",
    "\n",
    "def split_5fold_eyes(onlyEyes, onlyGait, facial_test_5f):\n",
    "    tmp_train_5f, tmp_val_5f, tmp_test_5f = [], [], []\n",
    "    for i in range(n_FOLD):\n",
    "        tmp_train_1f, tmp_val_1f, tmp_test_1f = [], [], []\n",
    "        tmp_train_1f_new, tmp_val_1f_new, tmp_test_1f_new = [], [], []\n",
    "        \n",
    "        for j in range(len(train_walk_5f[i])):\n",
    "            tmp_train_1f.append(train_walk_5f[i][j])\n",
    "        for j in range(len(val_walk_5f[i])):\n",
    "            tmp_val_1f.append(val_walk_5f[i][j])\n",
    "        for j in range(len(test_walk_5f[i])):\n",
    "            tmp_test_1f.append(test_walk_5f[i][j])\n",
    "\n",
    "        ### Remove pid which does not have facial data\n",
    "        for j in range(len(tmp_train_1f)):\n",
    "            pid = tmp_train_1f[j]\n",
    "            if (pid in onlyGait)==False: tmp_train_1f_new.append(pid)\n",
    "        for j in range(len(tmp_val_1f)):\n",
    "            pid = tmp_val_1f[j]\n",
    "            if (pid in onlyGait)==False: tmp_val_1f_new.append(pid)\n",
    "        for j in range(len(tmp_test_1f)):\n",
    "            pid = tmp_test_1f[j]\n",
    "            if (pid in onlyGait)==False: tmp_test_1f_new.append(pid)\n",
    "        \n",
    "        ### Add pid which only has facial data\n",
    "        for j in range(len(facial_test_5f[i])):\n",
    "            pid = facial_test_5f[i][j]\n",
    "            tmp_test_1f_new.append(pid)\n",
    "            \n",
    "        tmp_list_1f = facial_test_5f[i]\n",
    "        for j in range(len(onlyEyes)):\n",
    "            pid = onlyEyes[j]\n",
    "            if pid not in tmp_list_1f:\n",
    "                tmp_train_1f_new.append(pid)\n",
    "        \n",
    "        tmp_train_1f_new.sort()\n",
    "        tmp_val_1f_new.sort()\n",
    "        tmp_test_1f_new.sort()\n",
    "        \n",
    "        tmp_train_5f.append(tmp_train_1f_new)\n",
    "        tmp_val_5f.append(tmp_val_1f_new)\n",
    "        tmp_test_5f.append(tmp_test_1f_new)\n",
    "    return tmp_train_5f, tmp_val_5f, tmp_test_5f\n",
    "\n",
    "train_eyes_5f, val_eyes_5f, test_eyes_5f = split_5fold_eyes(Eyes_noWalk_list, Eyes_noEyes_list, facial_only_5f)"
   ]
  },
  {
   "cell_type": "code",
   "execution_count": 20,
   "id": "40e5fd71-09ea-4365-9853-d5bb6afbad84",
   "metadata": {},
   "outputs": [
    {
     "name": "stdout",
     "output_type": "stream",
     "text": [
      "[Info] Show Split result of Facial Subtask ...\n",
      "\n",
      "[Fold 1] Train: (num: 62)\n",
      "['15', '17', '18', '20', '23', '24', '25', '26', '27', '28', '31', '32', '33', '35', '38', '39', '40', '42', '43', '46', '47', '48', '50', '51', '52', '53', '54', '55', '56', '57', '58', '62', '63', '64', '65', '66', '68', '69', '70', '71', '72', '73', '74', '76', '77', '78', '79', '80', '82', '84', '86', '87', '88', '90', '91', '92', '93', '95', '96', '97', '98', '99']\n",
      "[Fold 1] Validate: (num: 14)\n",
      "['03', '05', '06', '07', '09', '10', '100', '12', '13', '16', '19', '21', '22', '30']\n",
      "[Fold 1] Test: (num: 20)\n",
      "['01', '02', '04', '08', '11', '14', '29', '34', '36', '37', '44', '45', '49', '59', '67', '75', '81', '83', '89', '94']\n",
      "\n",
      "[Fold 2] Train: (num: 63)\n",
      "['08', '14', '17', '18', '20', '24', '25', '26', '27', '28', '30', '31', '32', '33', '34', '36', '37', '38', '39', '40', '42', '44', '45', '46', '47', '48', '49', '50', '51', '53', '54', '55', '56', '57', '58', '59', '63', '64', '67', '68', '69', '71', '72', '73', '74', '75', '76', '77', '78', '79', '80', '81', '83', '84', '86', '88', '89', '92', '94', '95', '97', '98', '99']\n",
      "[Fold 2] Validate: (num: 14)\n",
      "['01', '02', '03', '04', '06', '07', '09', '100', '11', '13', '16', '19', '22', '29']\n",
      "[Fold 2] Test: (num: 19)\n",
      "['05', '10', '12', '15', '21', '23', '35', '43', '52', '62', '65', '66', '70', '82', '87', '90', '91', '93', '96']\n",
      "\n",
      "[Fold 3] Train: (num: 63)\n",
      "['08', '12', '14', '15', '16', '17', '18', '23', '24', '25', '26', '27', '30', '31', '32', '34', '35', '36', '37', '38', '39', '43', '44', '45', '49', '50', '51', '52', '53', '54', '55', '56', '58', '59', '62', '63', '64', '65', '66', '67', '70', '73', '74', '75', '77', '78', '80', '81', '82', '83', '84', '87', '88', '89', '90', '91', '92', '93', '94', '95', '96', '98', '99']\n",
      "[Fold 3] Validate: (num: 14)\n",
      "['01', '02', '04', '05', '06', '07', '09', '10', '100', '11', '19', '21', '22', '29']\n",
      "[Fold 3] Test: (num: 19)\n",
      "['03', '13', '20', '28', '33', '40', '42', '46', '47', '48', '57', '68', '69', '71', '72', '76', '79', '86', '97']\n",
      "\n",
      "[Fold 4] Train: (num: 63)\n",
      "['08', '14', '15', '17', '18', '20', '23', '24', '25', '28', '34', '35', '36', '37', '39', '40', '42', '43', '44', '45', '46', '47', '48', '49', '52', '54', '55', '56', '57', '58', '59', '62', '63', '64', '65', '66', '67', '68', '69', '70', '71', '72', '73', '75', '76', '77', '79', '80', '81', '82', '83', '86', '87', '88', '89', '90', '91', '92', '93', '94', '96', '97', '98']\n",
      "[Fold 4] Validate: (num: 15)\n",
      "['01', '02', '03', '04', '05', '07', '09', '10', '11', '12', '13', '21', '22', '29', '33']\n",
      "[Fold 4] Test: (num: 18)\n",
      "['06', '100', '16', '19', '26', '27', '30', '31', '32', '38', '50', '51', '53', '74', '78', '84', '95', '99']\n",
      "\n",
      "[Fold 5] Train: (num: 61)\n",
      "['08', '14', '15', '20', '23', '26', '27', '28', '30', '31', '32', '33', '34', '35', '36', '37', '38', '40', '42', '43', '44', '45', '46', '47', '48', '49', '50', '51', '52', '53', '57', '59', '62', '65', '66', '67', '68', '69', '70', '71', '72', '74', '75', '76', '78', '79', '81', '82', '83', '84', '86', '87', '89', '90', '91', '93', '94', '95', '96', '97', '99']\n",
      "[Fold 5] Validate: (num: 15)\n",
      "['01', '02', '03', '04', '05', '06', '10', '100', '11', '12', '13', '16', '19', '21', '29']\n",
      "[Fold 5] Test: (num: 20)\n",
      "['07', '09', '17', '18', '22', '24', '25', '39', '54', '55', '56', '58', '63', '64', '73', '77', '80', '88', '92', '98']\n",
      "\n"
     ]
    }
   ],
   "source": [
    "print(f'[Info] Show Split result of Facial Subtask ...\\n')\n",
    "for i in range(n_FOLD):\n",
    "    print(f'[Fold {i+1}] Train: (num: {len(train_eyes_5f[i])})\\n{train_eyes_5f[i]}')\n",
    "    print(f'[Fold {i+1}] Validate: (num: {len(val_eyes_5f[i])})\\n{val_eyes_5f[i]}')\n",
    "    print(f'[Fold {i+1}] Test: (num: {len(test_eyes_5f[i])})\\n{test_eyes_5f[i]}\\n')    "
   ]
  },
  {
   "cell_type": "code",
   "execution_count": 21,
   "id": "0df1d102-1dff-4c8f-9e1c-be8f0364ee96",
   "metadata": {},
   "outputs": [
    {
     "name": "stdout",
     "output_type": "stream",
     "text": [
      "Number of pid in Test Set: 96 subjects.\n",
      "\n",
      "[Info] Check for each fold ...\n",
      " -fold 1: 96 subjects.\n",
      " -fold 2: 96 subjects.\n",
      " -fold 3: 96 subjects.\n",
      " -fold 4: 96 subjects.\n",
      " -fold 5: 96 subjects.\n"
     ]
    }
   ],
   "source": [
    "def check_facial_subtask_pid(train_5f, val_5f, test_5f):\n",
    "    ### check if all subjects are tested\n",
    "    tmp_set = set()\n",
    "    for i in range(n_FOLD):\n",
    "        test_1f = test_5f[i]\n",
    "        for j in range(len(test_1f)):\n",
    "            pid = test_1f[j]\n",
    "            tmp_set.add(pid)\n",
    "    print(f'Number of pid in Test Set: {len(tmp_set)} subjects.\\n')\n",
    "    \n",
    "    ### Check each fold (train + val + test)\n",
    "    print(f'[Info] Check for each fold ...')\n",
    "    for i in range(n_FOLD):\n",
    "        tmp_set = set()\n",
    "        for j in range(len(train_5f[i])):\n",
    "            tmp_set.add(train_5f[i][j])\n",
    "        for j in range(len(val_5f[i])):\n",
    "            tmp_set.add(val_5f[i][j])\n",
    "        for j in range(len(test_5f[i])):\n",
    "            tmp_set.add(test_5f[i][j])\n",
    "        print(f' -fold {i+1}: {len(tmp_set)} subjects.')\n",
    "    \n",
    "check_facial_subtask_pid(train_eyes_5f, val_eyes_5f, test_eyes_5f)  "
   ]
  },
  {
   "cell_type": "markdown",
   "id": "e6345b3a-796f-409b-9b98-d837aaccbdec",
   "metadata": {},
   "source": [
    "# Show Data Distribution"
   ]
  },
  {
   "cell_type": "code",
   "execution_count": 22,
   "id": "cef0c9be-2aa3-4aca-a9f1-a90697465b24",
   "metadata": {},
   "outputs": [
    {
     "name": "stdout",
     "output_type": "stream",
     "text": [
      "Data distribution for [Walking Subtask] ...\n",
      "\n",
      "[Fold 1] Total: 88 subjects.\n",
      " -(Train) AD: 20 subjects, (Val) AD: 4 subjects, (Test) AD: 6\n",
      " -(Train) NC: 36 subjects, (Val) NC: 10 subjects, (Test) AD: 12\n",
      "[Fold 2] Total: 88 subjects.\n",
      " -(Train) AD: 20 subjects, (Val) AD: 4 subjects, (Test) AD: 6\n",
      " -(Train) NC: 36 subjects, (Val) NC: 10 subjects, (Test) AD: 12\n",
      "[Fold 3] Total: 88 subjects.\n",
      " -(Train) AD: 20 subjects, (Val) AD: 4 subjects, (Test) AD: 6\n",
      " -(Train) NC: 36 subjects, (Val) NC: 10 subjects, (Test) AD: 12\n",
      "[Fold 4] Total: 88 subjects.\n",
      " -(Train) AD: 19 subjects, (Val) AD: 5 subjects, (Test) AD: 6\n",
      " -(Train) NC: 37 subjects, (Val) NC: 10 subjects, (Test) AD: 11\n",
      "[Fold 5] Total: 88 subjects.\n",
      " -(Train) AD: 19 subjects, (Val) AD: 5 subjects, (Test) AD: 6\n",
      " -(Train) NC: 37 subjects, (Val) NC: 10 subjects, (Test) AD: 11\n"
     ]
    }
   ],
   "source": [
    "def show_data_distribution(train_5f, val_5f, test_5f):\n",
    "    print(f'Data distribution for [Walking Subtask] ...\\n')\n",
    "    \n",
    "    for i in range(n_FOLD):\n",
    "        tmp_train_1f, tmp_val_1f, tmp_test_1f = [], [], []\n",
    "        \n",
    "        tmp_train_1f = train_5f[i]\n",
    "        tmp_val_1f = val_5f[i]\n",
    "        tmp_test_1f = test_5f[i]\n",
    "        \n",
    "        n_AD_train, n_NC_train = 0, 0\n",
    "        n_AD_val, n_NC_val = 0, 0\n",
    "        n_AD_test, n_NC_test = 0, 0\n",
    "        \n",
    "        for j in range(len(tmp_train_1f)):\n",
    "            pid = tmp_train_1f[j]\n",
    "            label = Label_dict[int(pid)]\n",
    "            if label==0: n_NC_train += 1\n",
    "            if label==1: n_AD_train += 1\n",
    "        for j in range(len(tmp_val_1f)):\n",
    "            pid = tmp_val_1f[j]\n",
    "            label = Label_dict[int(pid)]\n",
    "            if label==0: n_NC_val += 1\n",
    "            if label==1: n_AD_val += 1\n",
    "        for j in range(len(tmp_test_1f)):\n",
    "            pid = tmp_test_1f[j]\n",
    "            label = Label_dict[int(pid)]\n",
    "            if label==0: n_NC_test += 1\n",
    "            if label==1: n_AD_test += 1\n",
    "            \n",
    "        print(f'[Fold {i+1}] Total: {n_AD_train+n_AD_val+n_AD_test+n_NC_train+n_NC_val+n_NC_test} subjects.')\n",
    "        print(f' -(Train) AD: {n_AD_train} subjects, (Val) AD: {n_AD_val} subjects, (Test) AD: {n_AD_test}')\n",
    "        print(f' -(Train) NC: {n_NC_train} subjects, (Val) NC: {n_NC_val} subjects, (Test) AD: {n_NC_test}')\n",
    "    \n",
    "show_data_distribution(train_walk_5f, val_walk_5f, test_walk_5f)"
   ]
  },
  {
   "cell_type": "code",
   "execution_count": 23,
   "id": "6d960904-179b-44ed-9898-c947695c5360",
   "metadata": {},
   "outputs": [
    {
     "name": "stdout",
     "output_type": "stream",
     "text": [
      "Data distribution for [Sit-and-Stand Subtask] ...\n",
      "\n",
      "[Fold 1] Total: 88 subjects.\n",
      " -(Train) AD: 20 subjects, (Val) AD: 4 subjects, (Test) AD: 6\n",
      " -(Train) NC: 36 subjects, (Val) NC: 10 subjects, (Test) AD: 12\n",
      "[Fold 2] Total: 88 subjects.\n",
      " -(Train) AD: 20 subjects, (Val) AD: 4 subjects, (Test) AD: 6\n",
      " -(Train) NC: 36 subjects, (Val) NC: 10 subjects, (Test) AD: 12\n",
      "[Fold 3] Total: 88 subjects.\n",
      " -(Train) AD: 20 subjects, (Val) AD: 4 subjects, (Test) AD: 6\n",
      " -(Train) NC: 36 subjects, (Val) NC: 10 subjects, (Test) AD: 12\n",
      "[Fold 4] Total: 88 subjects.\n",
      " -(Train) AD: 19 subjects, (Val) AD: 5 subjects, (Test) AD: 6\n",
      " -(Train) NC: 37 subjects, (Val) NC: 10 subjects, (Test) AD: 11\n",
      "[Fold 5] Total: 88 subjects.\n",
      " -(Train) AD: 19 subjects, (Val) AD: 5 subjects, (Test) AD: 6\n",
      " -(Train) NC: 37 subjects, (Val) NC: 10 subjects, (Test) AD: 11\n"
     ]
    }
   ],
   "source": [
    "def show_data_distribution(train_5f, val_5f, test_5f):\n",
    "    print(f'Data distribution for [Sit-and-Stand Subtask] ...\\n')\n",
    "    \n",
    "    for i in range(n_FOLD):\n",
    "        tmp_train_1f, tmp_val_1f, tmp_test_1f = [], [], []\n",
    "        \n",
    "        tmp_train_1f = train_5f[i]\n",
    "        tmp_val_1f = val_5f[i]\n",
    "        tmp_test_1f = test_5f[i]\n",
    "        \n",
    "        n_AD_train, n_NC_train = 0, 0\n",
    "        n_AD_val, n_NC_val = 0, 0\n",
    "        n_AD_test, n_NC_test = 0, 0\n",
    "        \n",
    "        for j in range(len(tmp_train_1f)):\n",
    "            pid = tmp_train_1f[j]\n",
    "            label = Label_dict[int(pid)]\n",
    "            if label==0: n_NC_train += 1\n",
    "            if label==1: n_AD_train += 1\n",
    "        for j in range(len(tmp_val_1f)):\n",
    "            pid = tmp_val_1f[j]\n",
    "            label = Label_dict[int(pid)]\n",
    "            if label==0: n_NC_val += 1\n",
    "            if label==1: n_AD_val += 1\n",
    "        for j in range(len(tmp_test_1f)):\n",
    "            pid = tmp_test_1f[j]\n",
    "            label = Label_dict[int(pid)]\n",
    "            if label==0: n_NC_test += 1\n",
    "            if label==1: n_AD_test += 1\n",
    "            \n",
    "        print(f'[Fold {i+1}] Total: {n_AD_train+n_AD_val+n_AD_test+n_NC_train+n_NC_val+n_NC_test} subjects.')\n",
    "        print(f' -(Train) AD: {n_AD_train} subjects, (Val) AD: {n_AD_val} subjects, (Test) AD: {n_AD_test}')\n",
    "        print(f' -(Train) NC: {n_NC_train} subjects, (Val) NC: {n_NC_val} subjects, (Test) AD: {n_NC_test}')\n",
    "\n",
    "show_data_distribution(train_sitstand_5f, val_sitstand_5f, test_sitstand_5f)"
   ]
  },
  {
   "cell_type": "code",
   "execution_count": 24,
   "id": "abaaac6a-1f90-4ea8-a210-516a838c4c67",
   "metadata": {},
   "outputs": [
    {
     "name": "stdout",
     "output_type": "stream",
     "text": [
      "Data distribution for [Turning Subtask] ...\n",
      "\n",
      "[Fold 1] Total: 83 subjects.\n",
      " -(Train) AD: 18 subjects, (Val) AD: 3 subjects, (Test) AD: 5\n",
      " -(Train) NC: 36 subjects, (Val) NC: 9 subjects, (Test) AD: 12\n",
      "[Fold 2] Total: 83 subjects.\n",
      " -(Train) AD: 18 subjects, (Val) AD: 2 subjects, (Test) AD: 6\n",
      " -(Train) NC: 36 subjects, (Val) NC: 9 subjects, (Test) AD: 12\n",
      "[Fold 3] Total: 83 subjects.\n",
      " -(Train) AD: 19 subjects, (Val) AD: 2 subjects, (Test) AD: 5\n",
      " -(Train) NC: 36 subjects, (Val) NC: 9 subjects, (Test) AD: 12\n",
      "[Fold 4] Total: 83 subjects.\n",
      " -(Train) AD: 18 subjects, (Val) AD: 3 subjects, (Test) AD: 5\n",
      " -(Train) NC: 37 subjects, (Val) NC: 9 subjects, (Test) AD: 11\n",
      "[Fold 5] Total: 83 subjects.\n",
      " -(Train) AD: 17 subjects, (Val) AD: 4 subjects, (Test) AD: 5\n",
      " -(Train) NC: 37 subjects, (Val) NC: 10 subjects, (Test) AD: 10\n"
     ]
    }
   ],
   "source": [
    "def show_data_distribution(train_5f, val_5f, test_5f):\n",
    "    print(f'Data distribution for [Turning Subtask] ...\\n')\n",
    "    \n",
    "    for i in range(n_FOLD):\n",
    "        tmp_train_1f, tmp_val_1f, tmp_test_1f = [], [], []\n",
    "        \n",
    "        tmp_train_1f = train_5f[i]\n",
    "        tmp_val_1f = val_5f[i]\n",
    "        tmp_test_1f = test_5f[i]\n",
    "        \n",
    "        n_AD_train, n_NC_train = 0, 0\n",
    "        n_AD_val, n_NC_val = 0, 0\n",
    "        n_AD_test, n_NC_test = 0, 0\n",
    "        \n",
    "        for j in range(len(tmp_train_1f)):\n",
    "            pid = tmp_train_1f[j]\n",
    "            label = Label_dict[int(pid)]\n",
    "            if label==0: n_NC_train += 1\n",
    "            if label==1: n_AD_train += 1\n",
    "        for j in range(len(tmp_val_1f)):\n",
    "            pid = tmp_val_1f[j]\n",
    "            label = Label_dict[int(pid)]\n",
    "            if label==0: n_NC_val += 1\n",
    "            if label==1: n_AD_val += 1\n",
    "        for j in range(len(tmp_test_1f)):\n",
    "            pid = tmp_test_1f[j]\n",
    "            label = Label_dict[int(pid)]\n",
    "            if label==0: n_NC_test += 1\n",
    "            if label==1: n_AD_test += 1\n",
    "            \n",
    "        print(f'[Fold {i+1}] Total: {n_AD_train+n_AD_val+n_AD_test+n_NC_train+n_NC_val+n_NC_test} subjects.')\n",
    "        print(f' -(Train) AD: {n_AD_train} subjects, (Val) AD: {n_AD_val} subjects, (Test) AD: {n_AD_test}')\n",
    "        print(f' -(Train) NC: {n_NC_train} subjects, (Val) NC: {n_NC_val} subjects, (Test) AD: {n_NC_test}')\n",
    "    \n",
    "show_data_distribution(train_turn_5f, val_turn_5f, test_turn_5f)"
   ]
  },
  {
   "cell_type": "code",
   "execution_count": 25,
   "id": "7784d170-36a3-4bd9-92e7-9f9c30b4922c",
   "metadata": {},
   "outputs": [
    {
     "name": "stdout",
     "output_type": "stream",
     "text": [
      "Data distribution for [Facial Subtask] ...\n",
      "\n",
      "[Fold 1] Total: 96 subjects.\n",
      " -(Train) AD: 19 subjects, (Val) AD: 4 subjects, (Test) AD: 6\n",
      " -(Train) NC: 43 subjects, (Val) NC: 10 subjects, (Test) AD: 14\n",
      "[Fold 2] Total: 96 subjects.\n",
      " -(Train) AD: 19 subjects, (Val) AD: 4 subjects, (Test) AD: 6\n",
      " -(Train) NC: 44 subjects, (Val) NC: 10 subjects, (Test) AD: 13\n",
      "[Fold 3] Total: 96 subjects.\n",
      " -(Train) AD: 20 subjects, (Val) AD: 4 subjects, (Test) AD: 5\n",
      " -(Train) NC: 43 subjects, (Val) NC: 10 subjects, (Test) AD: 14\n",
      "[Fold 4] Total: 96 subjects.\n",
      " -(Train) AD: 18 subjects, (Val) AD: 5 subjects, (Test) AD: 6\n",
      " -(Train) NC: 45 subjects, (Val) NC: 10 subjects, (Test) AD: 12\n",
      "[Fold 5] Total: 96 subjects.\n",
      " -(Train) AD: 18 subjects, (Val) AD: 5 subjects, (Test) AD: 6\n",
      " -(Train) NC: 43 subjects, (Val) NC: 10 subjects, (Test) AD: 14\n"
     ]
    }
   ],
   "source": [
    "def show_data_distribution(train_5f, val_5f, test_5f):\n",
    "    print(f'Data distribution for [Facial Subtask] ...\\n')\n",
    "    \n",
    "    for i in range(n_FOLD):\n",
    "        tmp_train_1f, tmp_val_1f, tmp_test_1f = [], [], []\n",
    "        \n",
    "        tmp_train_1f = train_5f[i]\n",
    "        tmp_val_1f = val_5f[i]\n",
    "        tmp_test_1f = test_5f[i]\n",
    "        \n",
    "        n_AD_train, n_NC_train = 0, 0\n",
    "        n_AD_val, n_NC_val = 0, 0\n",
    "        n_AD_test, n_NC_test = 0, 0\n",
    "        \n",
    "        for j in range(len(tmp_train_1f)):\n",
    "            pid = tmp_train_1f[j]\n",
    "            label = Label_dict[int(pid)]\n",
    "            if label==0: n_NC_train += 1\n",
    "            if label==1: n_AD_train += 1\n",
    "        for j in range(len(tmp_val_1f)):\n",
    "            pid = tmp_val_1f[j]\n",
    "            label = Label_dict[int(pid)]\n",
    "            if label==0: n_NC_val += 1\n",
    "            if label==1: n_AD_val += 1\n",
    "        for j in range(len(tmp_test_1f)):\n",
    "            pid = tmp_test_1f[j]\n",
    "            label = Label_dict[int(pid)]\n",
    "            if label==0: n_NC_test += 1\n",
    "            if label==1: n_AD_test += 1\n",
    "            \n",
    "        print(f'[Fold {i+1}] Total: {n_AD_train+n_AD_val+n_AD_test+n_NC_train+n_NC_val+n_NC_test} subjects.')\n",
    "        print(f' -(Train) AD: {n_AD_train} subjects, (Val) AD: {n_AD_val} subjects, (Test) AD: {n_AD_test}')\n",
    "        print(f' -(Train) NC: {n_NC_train} subjects, (Val) NC: {n_NC_val} subjects, (Test) AD: {n_NC_test}')\n",
    "\n",
    "show_data_distribution(train_eyes_5f, val_eyes_5f, test_eyes_5f)"
   ]
  },
  {
   "cell_type": "markdown",
   "id": "e5402fa0-5017-4ca7-b6f7-8d99697d0b37",
   "metadata": {},
   "source": [
    "# Save into CSV file"
   ]
  },
  {
   "cell_type": "code",
   "execution_count": 26,
   "id": "c39fe528-40b7-4f46-9402-fcfba8bec370",
   "metadata": {},
   "outputs": [],
   "source": [
    "import csv\n",
    "\n",
    "def save_5fold_pid_into_csv_file(data, filename):\n",
    "    with open(filename, \"w\", newline=\"\") as f:\n",
    "        writer = csv.writer(f)\n",
    "        writer.writerows(data)\n"
   ]
  },
  {
   "cell_type": "code",
   "execution_count": null,
   "id": "6bd4c510-9004-4a6a-b3a1-ca661944c67b",
   "metadata": {},
   "outputs": [],
   "source": [
    "save_5fold_pid_into_csv_file(train_walk_5f, 'Training_Fix_5Fold/walk_train_5fold.csv')\n",
    "save_5fold_pid_into_csv_file(val_walk_5f, 'Training_Fix_5Fold/walk_val_5fold.csv')\n",
    "save_5fold_pid_into_csv_file(test_walk_5f, 'Training_Fix_5Fold/walk_test_5fold.csv')"
   ]
  },
  {
   "cell_type": "code",
   "execution_count": null,
   "id": "de27e491-c0d3-48f6-8f9c-050963407ae6",
   "metadata": {},
   "outputs": [],
   "source": [
    "save_5fold_pid_into_csv_file(train_sitstand_5f, 'Training_Fix_5Fold/sitstand_train_5fold.csv')\n",
    "save_5fold_pid_into_csv_file(val_sitstand_5f, 'Training_Fix_5Fold/sitstand_val_5fold.csv')\n",
    "save_5fold_pid_into_csv_file(test_sitstand_5f, 'Training_Fix_5Fold/sitstand_test_5fold.csv')"
   ]
  },
  {
   "cell_type": "code",
   "execution_count": null,
   "id": "a25bf97b-9e3a-4608-b5b1-a615369ff310",
   "metadata": {},
   "outputs": [],
   "source": [
    "save_5fold_pid_into_csv_file(train_turn_5f, 'Training_Fix_5Fold/turn_train_5fold.csv')\n",
    "save_5fold_pid_into_csv_file(val_turn_5f, 'Training_Fix_5Fold/turn_val_5fold.csv')\n",
    "save_5fold_pid_into_csv_file(test_turn_5f, 'Training_Fix_5Fold/turn_test_5fold.csv')"
   ]
  },
  {
   "cell_type": "code",
   "execution_count": 27,
   "id": "30b7806d-762f-45cf-9d57-6e692760427a",
   "metadata": {},
   "outputs": [],
   "source": [
    "save_5fold_pid_into_csv_file(train_eyes_5f, 'Training_Fix_5Fold/eyes_train_5fold.csv')\n",
    "save_5fold_pid_into_csv_file(val_eyes_5f, 'Training_Fix_5Fold/eyes_val_5fold.csv')\n",
    "save_5fold_pid_into_csv_file(test_eyes_5f, 'Training_Fix_5Fold/eyes_test_5fold.csv')"
   ]
  },
  {
   "cell_type": "code",
   "execution_count": null,
   "id": "6fb1f159-d254-46ca-81ef-15d82cec4fd6",
   "metadata": {},
   "outputs": [],
   "source": []
  },
  {
   "cell_type": "markdown",
   "id": "a430c7fa-5591-4f17-833e-6bca35f4caa8",
   "metadata": {
    "jp-MarkdownHeadingCollapsed": true,
    "tags": []
   },
   "source": [
    "# (x) Old version"
   ]
  },
  {
   "cell_type": "markdown",
   "id": "2daedc6f-d5b1-4f8e-ae25-0c1d45178f6f",
   "metadata": {
    "jp-MarkdownHeadingCollapsed": true,
    "tags": []
   },
   "source": [
    "## (x) Load ID"
   ]
  },
  {
   "cell_type": "code",
   "execution_count": 43,
   "id": "8b11cc4f-371c-4f36-a2e1-354271b4b0f5",
   "metadata": {},
   "outputs": [
    {
     "name": "stdout",
     "output_type": "stream",
     "text": [
      "[Info] mode Walk\n",
      "- number of subjects: 88\n",
      "[Info] mode Sit\n",
      "- number of subjects: 84\n",
      "[Info] mode Eyes\n",
      "- number of subjects: 89\n"
     ]
    }
   ],
   "source": [
    "def load_id(dataPath, removeList, mode):\n",
    "    tmp_list = []\n",
    "    \n",
    "    if mode==\"Walk\":\n",
    "        print(f'[Info] mode Walk')\n",
    "        for pid in list(os.listdir(dataPath)):\n",
    "            if (pid in removeList)==False:\n",
    "                tmp_list.append(pid)\n",
    "        print(f'- number of subjects: {len(tmp_list)}')\n",
    "    elif mode==\"Eyes\":\n",
    "        print(f'[Info] mode Eyes')\n",
    "        for pid in list(os.listdir(dataPath)):\n",
    "            if (pid in removeList)==False:\n",
    "                tmp_list.append(pid)\n",
    "        print(f'- number of subjects: {len(tmp_list)}')\n",
    "    elif mode==\"Sit\":\n",
    "        print(f'[Info] mode Sit')\n",
    "        for pid in list(os.listdir(dataPath)):\n",
    "            if (pid in removeList)==False:\n",
    "                tmp_list.append(pid)\n",
    "        print(f'- number of subjects: {len(tmp_list)}')\n",
    "    else:\n",
    "        print(f'[Info] Something wrong.')\n",
    "    return tmp_list\n",
    "\n",
    "\n",
    "walk_remove_list = [\"08\", \"14\", \"15\", \"23\", \"41\", \"42\", \"47\", \"50\", \"53\", \"54\", \"55\", \"56\"]\n",
    "sit_remove_list = [\"08\", \"14\", \"15\", \"23\", \"41\", \"42\", \"47\", \"50\", \"53\", \"54\", \"55\", \"56\", \"16\", \"26\", \"51\", \"59\"]\n",
    "eyes_remove_list = [\"10\", \"11\", \"41\", \"60\", \"61\", \"85\", \"96\", \"97\", \"98\", \"99\", \"100\"]\n",
    "    \n",
    "idList_walk = load_id(PIDROOT_WALK, walk_remove_list, \"Walk\")\n",
    "idList_sit = load_id(PIDROOT_SIT, sit_remove_list, \"Sit\")\n",
    "idList_eyes = load_id(PIDROOT_EYES, eyes_remove_list, \"Eyes\")"
   ]
  },
  {
   "cell_type": "markdown",
   "id": "61b2dbd9-db2b-405c-a67d-09760794495b",
   "metadata": {
    "tags": []
   },
   "source": [
    "## (x) Split id"
   ]
  },
  {
   "cell_type": "code",
   "execution_count": 44,
   "id": "0554dbe5-687f-4beb-8649-d8edc2003ba0",
   "metadata": {},
   "outputs": [],
   "source": [
    "def splitID_5Fold(dataPath, pidList, mode):\n",
    "    tmp_target = []\n",
    "    trainID_5f, testID_5f = [], []\n",
    "    \n",
    "    for pid in pidList:\n",
    "        # folder = pid_dict[pid]\n",
    "        # label = Label_dict[int(folder)]\n",
    "        label = Label_dict[int(pid)]\n",
    "        tmp_target.append(label)\n",
    "\n",
    "    kf = StratifiedKFold(n_splits=n_FOLD, shuffle=True, random_state=42)\n",
    "    \n",
    "    for train_index, test_index in kf.split(pidList, tmp_target):\n",
    "        realTrain_idx, realTest_idx = [], []\n",
    "        for idx in train_index:\n",
    "            realTrain_idx.append(pidList[idx])\n",
    "        for idx in test_index:\n",
    "            realTest_idx.append(pidList[idx])\n",
    "        \n",
    "        trainID_5f.append(realTrain_idx)\n",
    "        testID_5f.append(realTest_idx)\n",
    "        \n",
    "    return tmp_target, trainID_5f, testID_5f\n",
    "    \n",
    "\n",
    "target_walk, trainID_5f_walk, testID_5f_walk = splitID_5Fold(PIDROOT_WALK, idList_walk, \"Walk\")\n",
    "target_sit, trainID_5f_sit, testID_5f_sit = splitID_5Fold(PIDROOT_SIT, idList_sit, \"Sit\")\n",
    "target_eyes, trainID_5f_eyes, testID_5f_eyes = splitID_5Fold(PIDROOT_EYES, idList_eyes, \"Eyes\")"
   ]
  },
  {
   "cell_type": "code",
   "execution_count": 45,
   "id": "2c6b3568-8ef0-4518-b246-fa86dfe85d67",
   "metadata": {},
   "outputs": [
    {
     "name": "stdout",
     "output_type": "stream",
     "text": [
      "========== walk ==========\n",
      " -len(target_walk): 88\n",
      " -[Fold 1] len(trainID_5f_walk): 70, len(testID_5f_walk): 18\n",
      " -[Fold 2] len(trainID_5f_walk): 70, len(testID_5f_walk): 18\n",
      " -[Fold 3] len(trainID_5f_walk): 70, len(testID_5f_walk): 18\n",
      " -[Fold 4] len(trainID_5f_walk): 71, len(testID_5f_walk): 17\n",
      " -[Fold 5] len(trainID_5f_walk): 71, len(testID_5f_walk): 17\n",
      "======= sit & stand =======\n",
      " -len(target_sit): 84\n",
      " -[Fold 1] len(trainID_5f_sit): 67, len(testID_5f_sit): 17\n",
      " -[Fold 2] len(trainID_5f_sit): 67, len(testID_5f_sit): 17\n",
      " -[Fold 3] len(trainID_5f_sit): 67, len(testID_5f_sit): 17\n",
      " -[Fold 4] len(trainID_5f_sit): 67, len(testID_5f_sit): 17\n",
      " -[Fold 5] len(trainID_5f_sit): 68, len(testID_5f_sit): 16\n",
      "========== eyes ==========\n",
      " -len(target_eyes): 89\n",
      " -[Fold 1] len(trainID_5f_eyes): 71, len(testID_5f_eyes): 18\n",
      " -[Fold 2] len(trainID_5f_eyes): 71, len(testID_5f_eyes): 18\n",
      " -[Fold 3] len(trainID_5f_eyes): 71, len(testID_5f_eyes): 18\n",
      " -[Fold 4] len(trainID_5f_eyes): 71, len(testID_5f_eyes): 18\n",
      " -[Fold 5] len(trainID_5f_eyes): 72, len(testID_5f_eyes): 17\n"
     ]
    }
   ],
   "source": [
    "print(f'========== walk ==========')\n",
    "print(f' -len(target_walk): {len(target_walk)}')\n",
    "for i in range(n_FOLD):\n",
    "    print(f' -[Fold {i+1}] len(trainID_5f_walk): {len(trainID_5f_walk[i])}, len(testID_5f_walk): {len(testID_5f_walk[i])}')\n",
    "    \n",
    "print(f'======= sit & stand =======')\n",
    "print(f' -len(target_sit): {len(target_sit)}')\n",
    "for i in range(n_FOLD):\n",
    "    print(f' -[Fold {i+1}] len(trainID_5f_sit): {len(trainID_5f_sit[i])}, len(testID_5f_sit): {len(testID_5f_sit[i])}')\n",
    "\n",
    "print(f'========== eyes ==========')\n",
    "print(f' -len(target_eyes): {len(target_eyes)}')\n",
    "for i in range(n_FOLD):\n",
    "    print(f' -[Fold {i+1}] len(trainID_5f_eyes): {len(trainID_5f_eyes[i])}, len(testID_5f_eyes): {len(testID_5f_eyes[i])}')"
   ]
  },
  {
   "cell_type": "markdown",
   "id": "3491edb5-9543-46c7-a7ad-9dd15ee9f559",
   "metadata": {
    "tags": []
   },
   "source": [
    "## (x) Save to CSV"
   ]
  },
  {
   "cell_type": "code",
   "execution_count": 46,
   "id": "c998d2e8-1267-41d8-9f39-459ebd1c6e0b",
   "metadata": {},
   "outputs": [],
   "source": [
    "import csv\n",
    "\n",
    "def write_to_csv(targetList, trainList, testList, fileName1, fileName2, fileName3):\n",
    "    with open(fileName1, \"w\", newline=\"\") as f:\n",
    "        writer = csv.writer(f)\n",
    "        writer.writerow(targetList)\n",
    "    with open(fileName2, \"w\", newline=\"\") as f:\n",
    "        writer = csv.writer(f)\n",
    "        writer.writerows(trainList)\n",
    "    with open(fileName3, \"w\", newline=\"\") as f:\n",
    "        writer = csv.writer(f)\n",
    "        writer.writerows(testList)\n",
    "    \n",
    "    \n",
    "write_to_csv(target_walk, trainID_5f_walk, testID_5f_walk, \"walk_target.csv\", \"walk_train_5fold.csv\", \"walk_test_5fold.csv\")\n",
    "write_to_csv(target_sit, trainID_5f_sit, testID_5f_sit, \"sit_target.csv\", \"sit_train_5fold.csv\", \"sit_test_5fold.csv\")\n",
    "write_to_csv(target_eyes, trainID_5f_eyes, testID_5f_eyes, \"eyes_target.csv\", \"eyes_train_5fold.csv\", \"eyes_test_5fold.csv\")"
   ]
  },
  {
   "cell_type": "code",
   "execution_count": null,
   "id": "d65bcdda-a272-4ef2-9c8d-edde213166ed",
   "metadata": {},
   "outputs": [],
   "source": []
  }
 ],
 "metadata": {
  "kernelspec": {
   "display_name": "tf-gpu",
   "language": "python",
   "name": "tf-gpu"
  },
  "language_info": {
   "codemirror_mode": {
    "name": "ipython",
    "version": 3
   },
   "file_extension": ".py",
   "mimetype": "text/x-python",
   "name": "python",
   "nbconvert_exporter": "python",
   "pygments_lexer": "ipython3",
   "version": "3.7.16"
  }
 },
 "nbformat": 4,
 "nbformat_minor": 5
}
