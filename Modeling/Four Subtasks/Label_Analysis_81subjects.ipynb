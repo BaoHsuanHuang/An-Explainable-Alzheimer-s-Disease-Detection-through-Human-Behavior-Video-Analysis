{
 "cells": [
  {
   "cell_type": "markdown",
   "metadata": {},
   "source": [
    "# Import"
   ]
  },
  {
   "cell_type": "code",
   "execution_count": 1,
   "metadata": {},
   "outputs": [
    {
     "name": "stdout",
     "output_type": "stream",
     "text": [
      "numpy version = 1.21.5\n",
      "tensorflow version = 2.5.0\n"
     ]
    }
   ],
   "source": [
    "import numpy as np\n",
    "print(f'numpy version = {np.__version__}')\n",
    "\n",
    "import tensorflow as tf\n",
    "print(f'tensorflow version = {tf.__version__}')"
   ]
  },
  {
   "cell_type": "code",
   "execution_count": 2,
   "metadata": {},
   "outputs": [],
   "source": [
    "import os\n",
    "import cv2\n",
    "import csv\n",
    "import sys\n",
    "import math\n",
    "import operator\n",
    "import statistics\n",
    "import numpy as np\n",
    "import pandas as pd\n",
    "import seaborn as sns\n",
    "import mediapipe as mp\n",
    "import tensorflow as tf\n",
    "import matplotlib.pyplot as plt\n",
    "from tableone import TableOne\n",
    "from scipy import stats\n",
    "from sklearn.preprocessing import LabelEncoder\n",
    "from sklearn.metrics import f1_score, classification_report, confusion_matrix, ConfusionMatrixDisplay\n",
    "from sklearn.metrics import roc_curve, roc_auc_score, auc\n",
    "from mlxtend.plotting import plot_confusion_matrix"
   ]
  },
  {
   "cell_type": "markdown",
   "metadata": {},
   "source": [
    "# Global Variables"
   ]
  },
  {
   "cell_type": "code",
   "execution_count": 4,
   "metadata": {},
   "outputs": [],
   "source": [
    "n_FOLD = 5\n",
    "n_SUBTASK = 4\n",
    "\n",
    "# remove_dementia_pid_list = [22, 33, 57, 58, 64, 66, 67]\n",
    "# remove_dementia_pid_list_str = ['22', '33', '57', '58', '64', '66', '67']\n",
    "\n",
    "random_seed_list = [10, 20, 42, 64, 100, 123, 200, 456, 1001, 12321]\n",
    "\n",
    "w_result_randomseed_path = \"../Walking Subtask/LOG_FS/Walking_RandomSeed_FS/Results/\"\n",
    "s_result_randomseed_path = \"../Sit-Stand Subtask/LOG/Results/\"\n",
    "t_result_randomseed_path = \"../Turning Subtask/LOG/Results/\"\n",
    "f_result_randomseed_path = \"../Facial_Subtask_Zaxis/LOG_Zaxis_FS/Facial_RandomSeed/Results/\"\n"
   ]
  },
  {
   "cell_type": "markdown",
   "metadata": {},
   "source": [
    "# Subject ID"
   ]
  },
  {
   "cell_type": "code",
   "execution_count": 5,
   "metadata": {},
   "outputs": [
    {
     "name": "stdout",
     "output_type": "stream",
     "text": [
      "# of valid pid: 99 subjects.\n",
      "[1, 2, 3, 4, 5, 6, 7, 9, 10, 11, 12, 13, 16, 17, 18, 19, 20, 21, 22, 24, 25, 26, 27, 28, 29, 30, 31, 32, 33, 34, 35, 36, 37, 38, 39, 40, 43, 44, 45, 46, 48, 49, 51, 52, 57, 58, 59, 60, 61, 62, 63, 64, 65, 66, 67, 68, 69, 70, 71, 72, 73, 74, 75, 76, 77, 78, 79, 80, 81, 82, 83, 84, 85, 86, 87, 88, 89, 90, 91, 92, 93, 94, 95, 96, 97, 98, 99, 100, 8, 14, 15, 23, 42, 47, 50, 53, 54, 55, 56]\n",
      "\n",
      "# of valid pid (based): 81 subjects.\n",
      "[1, 2, 3, 5, 6, 10, 11, 12, 13, 16, 17, 18, 19, 20, 21, 22, 24, 25, 26, 27, 28, 29, 30, 31, 33, 34, 35, 36, 37, 38, 39, 40, 43, 44, 45, 46, 48, 49, 51, 52, 57, 58, 59, 62, 63, 64, 65, 66, 67, 68, 69, 70, 71, 72, 73, 74, 75, 76, 77, 78, 79, 80, 81, 82, 83, 84, 86, 87, 88, 89, 90, 91, 92, 93, 94, 95, 96, 97, 98, 99, 100]\n",
      "\n",
      "# of subjects in 【Walking】 Subtask: 88 subjects.\n",
      "[1, 2, 3, 4, 5, 6, 7, 9, 10, 11, 12, 13, 16, 17, 18, 19, 20, 21, 22, 24, 25, 26, 27, 28, 29, 30, 31, 32, 33, 34, 35, 36, 37, 38, 39, 40, 43, 44, 45, 46, 48, 49, 51, 52, 57, 58, 59, 60, 61, 62, 63, 64, 65, 66, 67, 68, 69, 70, 71, 72, 73, 74, 75, 76, 77, 78, 79, 80, 81, 82, 83, 84, 85, 86, 87, 88, 89, 90, 91, 92, 93, 94, 95, 96, 97, 98, 99, 100]\n",
      "\n",
      "# of subjects in 【SitStand】 Subtask: 88 subjects.\n",
      "[1, 2, 3, 4, 5, 6, 7, 9, 10, 11, 12, 13, 16, 17, 18, 19, 20, 21, 22, 24, 25, 26, 27, 28, 29, 30, 31, 32, 33, 34, 35, 36, 37, 38, 39, 40, 43, 44, 45, 46, 48, 49, 51, 52, 57, 58, 59, 60, 61, 62, 63, 64, 65, 66, 67, 68, 69, 70, 71, 72, 73, 74, 75, 76, 77, 78, 79, 80, 81, 82, 83, 84, 85, 86, 87, 88, 89, 90, 91, 92, 93, 94, 95, 96, 97, 98, 99, 100]\n",
      "\n",
      "# of subjects in 【Turning】 Subtask: 83 subjects.\n",
      "[1, 2, 3, 5, 6, 10, 11, 12, 13, 16, 17, 18, 19, 20, 21, 22, 24, 25, 26, 27, 28, 29, 30, 31, 33, 34, 35, 36, 37, 38, 39, 40, 43, 44, 45, 46, 48, 49, 51, 52, 57, 58, 59, 61, 62, 63, 64, 65, 66, 67, 68, 69, 70, 71, 72, 73, 74, 75, 76, 77, 78, 79, 80, 81, 82, 83, 84, 85, 86, 87, 88, 89, 90, 91, 92, 93, 94, 95, 96, 97, 98, 99, 100]\n",
      "\n",
      "# of subjects in 【Facial】 Subtask: 96 subjects.\n",
      "[1, 2, 3, 4, 5, 6, 7, 8, 9, 10, 11, 12, 13, 14, 15, 16, 17, 18, 19, 20, 21, 22, 23, 24, 25, 26, 27, 28, 29, 30, 31, 32, 33, 34, 35, 36, 37, 38, 39, 40, 42, 43, 44, 45, 46, 47, 48, 49, 50, 51, 52, 53, 54, 55, 56, 57, 58, 59, 62, 63, 64, 65, 66, 67, 68, 69, 70, 71, 72, 73, 74, 75, 76, 77, 78, 79, 80, 81, 82, 83, 84, 86, 87, 88, 89, 90, 91, 92, 93, 94, 95, 96, 97, 98, 99, 100]\n"
     ]
    }
   ],
   "source": [
    "all_pid_list = []\n",
    "all_pid_list_based = []\n",
    "walk_pid_list, sitstand_pid_list, turn_pid_list, facial_pid_list = [], [], [], []\n",
    "\n",
    "\n",
    "df_walk = pd.read_csv(\"../Walking Subtask/LOG_FS/Walking_RandomSeed_FS/Results/10_FS_weighted.csv\")\n",
    "df_sitstand = pd.read_csv(\"../Sit-Stand Subtask/LOG/Results/10_SitStand_combined.csv\")\n",
    "df_turn = pd.read_csv(\"../Turning Subtask/LOG/Results/10_Turning_Subtask.csv\")\n",
    "df_facial = pd.read_csv(\"../Facial_Subtask_Zaxis/LOG_Zaxis_FS/Facial_RandomSeed/Results/10_FS_weighted.csv\")\n",
    "\n",
    "\n",
    "def get_all_pid(walk, sitstand, facial, turn):\n",
    "    tmp_list = []\n",
    "    \n",
    "    for i in range(walk.shape[0]):\n",
    "        pid = walk.loc[i, 'pid']\n",
    "        tmp_list.append(pid)\n",
    "    for i in range(sitstand.shape[0]):\n",
    "        pid = sitstand.loc[i, 'pid']\n",
    "        if (pid in tmp_list) == False:\n",
    "            tmp_list.append(pid)\n",
    "            # print(f'[add pid: Sit&Stand] pid: {pid}')\n",
    "    for i in range(facial.shape[0]):\n",
    "        pid = facial.loc[i, 'pid']\n",
    "        if (pid in tmp_list) == False:\n",
    "            tmp_list.append(pid)\n",
    "            # print(f'[add pid: Facial] pid: {pid}')\n",
    "    for i in range(turn.shape[0]):\n",
    "        pid = turn.loc[i, 'pid']\n",
    "        if (pid in tmp_list) == False:\n",
    "            tmp_list.append(pid)\n",
    "            # print(f'[add pid: Turning] pid: {pid}')\n",
    "    return tmp_list\n",
    "\n",
    "def get_all_pid_based(walk, sitstand, facial, turn, pidList):\n",
    "    tmp_list = []\n",
    "    pid_walk, pid_sitstand, pid_turn, pid_facial = [], [], [], []\n",
    "    \n",
    "    for i in range(walk.shape[0]): pid_walk.append(walk.loc[i, 'pid'])\n",
    "    for i in range(sitstand.shape[0]): pid_sitstand.append(sitstand.loc[i, 'pid'])\n",
    "    for i in range(turn.shape[0]): pid_turn.append(turn.loc[i, 'pid'])\n",
    "    for i in range(facial.shape[0]): pid_facial.append(facial.loc[i, 'pid'])\n",
    "\n",
    "    for pid in pidList:\n",
    "        if (pid in pid_walk) and (pid in pid_sitstand) and (pid in pid_turn) and (pid in pid_facial):\n",
    "            tmp_list.append(pid)\n",
    "    return tmp_list, pid_walk, pid_sitstand, pid_turn, pid_facial\n",
    "\n",
    "\n",
    "all_pid_list = get_all_pid(df_walk, df_sitstand, df_facial, df_turn)\n",
    "all_pid_list_based, walk_pid_list, sitstand_pid_list, turn_pid_list, facial_pid_list = get_all_pid_based(df_walk, df_sitstand, df_facial, df_turn, all_pid_list)\n",
    "\n",
    "print(f'# of valid pid: {len(all_pid_list)} subjects.')\n",
    "print(all_pid_list)\n",
    "print(f'\\n# of valid pid (based): {len(all_pid_list_based)} subjects.')\n",
    "print(all_pid_list_based)\n",
    "\n",
    "print(f'\\n# of subjects in 【Walking】 Subtask: {len(walk_pid_list)} subjects.')\n",
    "print(walk_pid_list)\n",
    "print(f'\\n# of subjects in 【SitStand】 Subtask: {len(sitstand_pid_list)} subjects.')\n",
    "print(sitstand_pid_list)\n",
    "print(f'\\n# of subjects in 【Turning】 Subtask: {len(turn_pid_list)} subjects.')\n",
    "print(turn_pid_list)\n",
    "print(f'\\n# of subjects in 【Facial】 Subtask: {len(facial_pid_list)} subjects.')\n",
    "print(facial_pid_list)"
   ]
  },
  {
   "cell_type": "markdown",
   "metadata": {},
   "source": [
    "# Label & Age"
   ]
  },
  {
   "cell_type": "code",
   "execution_count": 6,
   "metadata": {},
   "outputs": [
    {
     "name": "stdout",
     "output_type": "stream",
     "text": [
      "{1: 0, 2: 0, 3: 0, 4: 1, 5: 0, 6: 0, 7: 0, 8: 0, 9: 1, 10: 1, 11: 1, 12: 1, 13: 0, 14: 0, 15: 0, 16: 1, 17: 1, 18: 1, 19: 0, 20: 1, 21: 0, 22: 0, 23: 1, 24: 1, 25: 1, 26: 1, 27: 1, 28: 1, 29: 0, 30: 0, 31: 1, 32: 1, 33: 0, 34: 0, 35: 1, 36: 1, 37: 1, 38: 1, 39: 1, 40: 1, 41: 0, 42: 0, 43: 0, 44: 0, 45: 1, 46: 1, 47: 0, 48: 1, 49: 0, 50: 0, 51: 0, 52: 0, 53: 0, 54: 0, 55: 0, 56: 0, 57: 0, 58: 0, 59: 1, 60: 1, 61: 1, 62: 1, 63: 0, 64: 0, 65: 1, 66: 0, 67: 0, 68: 0, 69: 0, 70: 0, 71: 0, 72: 0, 73: 0, 74: 0, 75: 0, 76: 0, 77: 0, 78: 0, 79: 0, 80: 0, 81: 0, 82: 0, 83: 0, 84: 0, 85: 0, 86: 0, 87: 0, 88: 0, 89: 0, 90: 0, 91: 0, 92: 0, 93: 0, 94: 0, 95: 0, 96: 0, 97: 0, 98: 0, 99: 0, 100: 0}\n"
     ]
    }
   ],
   "source": [
    "ADLabel_dict = {}\n",
    "excel_path = \"../Label_Data_Info.xlsx\" \n",
    "\n",
    "df_label = pd.read_excel(excel_path, usecols=['編號', 'Age', 'Gender', '_Label']) # [update] 2023/06/17\n",
    "df_label = df_label.fillna(0)\n",
    "df_label = df_label.astype({\"_Label\": int})\n",
    "\n",
    "Label_arr = np.array(df_label['_Label'])\n",
    "ADLabel_dict = dict(zip(df_label.編號, df_label._Label))\n",
    "\n",
    "print(ADLabel_dict)"
   ]
  },
  {
   "cell_type": "code",
   "execution_count": 7,
   "metadata": {},
   "outputs": [
    {
     "name": "stdout",
     "output_type": "stream",
     "text": [
      "{1: 40, 2: 28, 3: 29, 4: 71, 5: 75, 6: 80, 7: 40, 8: 58, 9: 87, 10: 74, 11: 74, 12: 74, 13: 75, 14: 47, 15: 54, 16: 78, 17: 86, 18: 86, 19: 75, 20: 76, 21: 74, 22: 52, 23: 88, 24: 78, 25: 78, 26: 77, 27: 79, 28: 84, 29: 60, 30: 67, 31: 85, 32: 76, 33: 67, 34: 69, 35: 80, 36: 87, 37: 86, 38: 67, 39: 73, 40: 74, 41: 0, 42: 60, 43: 72, 44: 96, 45: 89, 46: 87, 47: 66, 48: 87, 49: 78, 50: 59, 51: 70, 52: 75, 53: 49, 54: 58, 55: 28, 56: 38, 57: 66, 58: 73, 59: 89, 60: 89, 61: 80, 62: 75, 63: 66, 64: 68, 65: 72, 66: 63, 67: 69, 68: 72, 69: 49, 70: 48, 71: 35, 72: 60, 73: 57, 74: 33, 75: 23, 76: 62, 77: 68, 78: 69, 79: 68, 80: 65, 81: 69, 82: 65, 83: 73, 84: 68, 85: 70, 86: 69, 87: 73, 88: 80, 89: 58, 90: 43, 91: 28, 92: 60, 93: 36, 94: 23, 95: 62, 96: 69, 97: 64, 98: 72, 99: 65, 100: 68}\n"
     ]
    }
   ],
   "source": [
    "AgeLabel_dict = {}\n",
    "excel_path = \"../Label_Data_Info.xlsx\" \n",
    "\n",
    "df_label = pd.read_excel(excel_path, usecols=['編號', 'Age', 'Gender'])\n",
    "df_label = df_label.fillna(0)\n",
    "df_label = df_label.astype({\"Age\": int})\n",
    "\n",
    "Label_arr = np.array(df_label['Age'])\n",
    "AgeLabel_dict = dict(zip(df_label.編號, df_label.Age))\n",
    "\n",
    "print(AgeLabel_dict)"
   ]
  },
  {
   "cell_type": "markdown",
   "metadata": {},
   "source": [
    "# Fold Index Mapping"
   ]
  },
  {
   "cell_type": "code",
   "execution_count": 10,
   "metadata": {},
   "outputs": [],
   "source": [
    "testPid_walk_5f, testPid_sitstand_5f, testPid_turn_5f, testPid_facial_5f = [], [], [], []\n",
    "\n",
    "def get_subtask_5f_subjectId():\n",
    "    walk_test_csv = '../../5_Gait_and_Eye/Training_Fix_5Fold/walk_test_5fold.csv'\n",
    "    sitstand_test_csv = '../../5_Gait_and_Eye/Training_Fix_5Fold/sitstand_test_5fold.csv'\n",
    "    turn_test_csv = '../../5_Gait_and_Eye/Training_Fix_5Fold/turn_test_5fold.csv'\n",
    "    facial_test_csv = '../../5_Gait_and_Eye/Training_Fix_5Fold/eyes_test_5fold.csv'\n",
    "    \n",
    "    tmp_walk_testID_5f, tmp_sitstand_testID_5f, tmp_turn_testID_5f, tmp_facial_testID_5f = [], [], [], []\n",
    "    \n",
    "    walk_file = open(walk_test_csv, \"r\")\n",
    "    tmp_walk_testID_5f = list(csv.reader(walk_file, delimiter=\",\"))\n",
    "    walk_file.close()\n",
    "\n",
    "    sitstand_file = open(sitstand_test_csv, \"r\")\n",
    "    tmp_sitstand_testID_5f = list(csv.reader(sitstand_file, delimiter=\",\"))\n",
    "    sitstand_file.close()\n",
    "\n",
    "    turn_file = open(turn_test_csv, \"r\")\n",
    "    tmp_turn_testID_5f = list(csv.reader(turn_file, delimiter=\",\"))\n",
    "    turn_file.close()\n",
    "\n",
    "    facial_file = open(facial_test_csv, \"r\")\n",
    "    tmp_facial_testID_5f = list(csv.reader(facial_file, delimiter=\",\"))\n",
    "    facial_file.close()\n",
    "    return tmp_walk_testID_5f, tmp_sitstand_testID_5f, tmp_turn_testID_5f, tmp_facial_testID_5f\n",
    "\n",
    "\n",
    "testPid_walk_5f, testPid_sitstand_5f, testPid_turn_5f, testPid_facial_5f = get_subtask_5f_subjectId()"
   ]
  },
  {
   "cell_type": "code",
   "execution_count": 11,
   "metadata": {},
   "outputs": [
    {
     "name": "stdout",
     "output_type": "stream",
     "text": [
      "Walking Subtask: 88 subjects.\n",
      "SitStand Subtask: 88 subjects.\n",
      "Turn Subtask: 83 subjects.\n",
      "Facial Subtask: 96 subjects.\n"
     ]
    }
   ],
   "source": [
    "walk_subjects_foldIdx, sitstand_subjects_foldIdx, turn_subject_foldIdx, facial_subjects_foldIdx = {}, {}, {}, {}\n",
    "\n",
    "def get_each_subtask_subject():\n",
    "    tmp_walk, tmp_sitstand, tmp_turn, tmp_facial = {}, {}, {}, {}\n",
    "    for fold_idx in range(n_FOLD):\n",
    "        tmp_list = testPid_walk_5f[fold_idx]\n",
    "        for pid in tmp_list:\n",
    "            tmp_walk[int(pid)] = fold_idx\n",
    "\n",
    "        tmp_list = testPid_sitstand_5f[fold_idx]\n",
    "        for pid in tmp_list:\n",
    "            tmp_sitstand[int(pid)] = fold_idx\n",
    "\n",
    "        tmp_list = testPid_turn_5f[fold_idx]\n",
    "        for pid in tmp_list:\n",
    "            tmp_turn[int(pid)] = fold_idx\n",
    "\n",
    "        tmp_list = testPid_facial_5f[fold_idx]\n",
    "        for pid in tmp_list:\n",
    "            tmp_facial[int(pid)] = fold_idx\n",
    "    return tmp_walk, tmp_sitstand, tmp_turn, tmp_facial\n",
    "\n",
    "walk_subjects_foldIdx, sitstand_subjects_foldIdx, turn_subjects_foldIdx, facial_subjects_foldIdx = get_each_subtask_subject()\n",
    "\n",
    "print(f'Walking Subtask: {len(walk_subjects_foldIdx)} subjects.')\n",
    "print(f'SitStand Subtask: {len(sitstand_subjects_foldIdx)} subjects.')\n",
    "print(f'Turn Subtask: {len(turn_subjects_foldIdx)} subjects.')\n",
    "print(f'Facial Subtask: {len(facial_subjects_foldIdx)} subjects.')"
   ]
  },
  {
   "cell_type": "code",
   "execution_count": 12,
   "metadata": {},
   "outputs": [
    {
     "data": {
      "text/plain": [
       "0"
      ]
     },
     "execution_count": 12,
     "metadata": {},
     "output_type": "execute_result"
    }
   ],
   "source": [
    "walk_subjects_foldIdx[1]"
   ]
  },
  {
   "cell_type": "markdown",
   "metadata": {},
   "source": [
    "# Threshold"
   ]
  },
  {
   "cell_type": "code",
   "execution_count": 13,
   "metadata": {},
   "outputs": [
    {
     "data": {
      "text/plain": [
       "{10: [0.4, 0.4, 0.42, 0.4, 0.4],\n",
       " 20: [0.4, 0.4, 0.4, 0.445, 0.405],\n",
       " 42: [0.435, 0.4, 0.4, 0.425, 0.4],\n",
       " 64: [0.4, 0.4, 0.4, 0.42, 0.4],\n",
       " 100: [0.41, 0.4, 0.4, 0.4, 0.4],\n",
       " 123: [0.4, 0.4, 0.42, 0.4, 0.4],\n",
       " 200: [0.405, 0.4, 0.42, 0.4, 0.4],\n",
       " 456: [0.415, 0.405, 0.4, 0.425, 0.4],\n",
       " 1001: [0.415, 0.43, 0.445, 0.4, 0.4],\n",
       " 12321: [0.48, 0.4, 0.415, 0.4, 0.4]}"
      ]
     },
     "execution_count": 13,
     "metadata": {},
     "output_type": "execute_result"
    }
   ],
   "source": [
    "threshold_walk = {}\n",
    "threshold_sitstand = {}\n",
    "threshold_turn = {}\n",
    "threshold_facial = {}\n",
    "\n",
    "def read_threshold_from_CSV_file(folder):\n",
    "    tmp_dict = {}\n",
    "    for seed_value in random_seed_list:\n",
    "        filename = folder + str(seed_value) + \"/Parameters/threshold_5fold.csv\"\n",
    "\n",
    "        threshold_list = []\n",
    "        with open(filename, newline='') as csvfile:\n",
    "            rows = csv.reader(csvfile)\n",
    "            threshold_list_string = next(rows)\n",
    "        for num in threshold_list_string:\n",
    "            threshold_list.append(float(num))\n",
    "        tmp_dict[seed_value] = threshold_list\n",
    "    return tmp_dict\n",
    "\n",
    "\n",
    "threshold_walk = read_threshold_from_CSV_file(\"../Walking Subtask/LOG_FS/Walking_RandomSeed_FS/\")\n",
    "threshold_sitstand = read_threshold_from_CSV_file(\"../Sit-Stand Subtask/LOG/\")\n",
    "threshold_turn = read_threshold_from_CSV_file(\"../Turning Subtask/LOG/\")\n",
    "threshold_facial = read_threshold_from_CSV_file(\"../Facial_Subtask_Zaxis/LOG_Zaxis_FS/Facial_RandomSeed/\")\n",
    "threshold_sitstand"
   ]
  },
  {
   "cell_type": "markdown",
   "metadata": {},
   "source": [
    "# Global Function"
   ]
  },
  {
   "cell_type": "code",
   "execution_count": 14,
   "metadata": {},
   "outputs": [],
   "source": [
    "def create_walking_sitstand_facial_subtask_dictionary_RandomSeed(filename):\n",
    "    data = pd.read_csv(filename)\n",
    "    tmp_dict = {}\n",
    "    for i in range(data.shape[0]):\n",
    "        pid = data.loc[i, 'pid']\n",
    "        p_class1 = data.loc[i, 'avgProb'] ### probability for class 1 (AD)\n",
    "        prediction = data.loc[i, 'prediction']\n",
    "        actual = data.loc[i, 'actual']\n",
    "        \n",
    "        p_class0 = 1 - p_class1 ### probability for class 0 (NC)\n",
    "        \n",
    "        tmp_dict[pid] = {}\n",
    "        tmp_dict[pid]['prob_class0'] = p_class0\n",
    "        tmp_dict[pid]['prob_class1'] = p_class1\n",
    "        tmp_dict[pid]['prediction'] = prediction\n",
    "        tmp_dict[pid]['actual'] = actual\n",
    "    return tmp_dict\n",
    "\n",
    "def create_turning_subtask_dictionary_RandomSeed(filename):\n",
    "    data = pd.read_csv(filename)\n",
    "    tmp_dict = {}\n",
    "    for i in range(data.shape[0]):\n",
    "        pid = data.loc[i, 'pid']\n",
    "        p_class0 = data.loc[i, 'prob_NC']\n",
    "        p_class1 = data.loc[i, 'prob_AD']\n",
    "        prediction = data.loc[i, 'prediction']\n",
    "        actual = data.loc[i, 'actual']\n",
    "        \n",
    "        tmp_dict[pid] = {}\n",
    "        tmp_dict[pid]['prob_class0'] = p_class0\n",
    "        tmp_dict[pid]['prob_class1'] = p_class1\n",
    "        tmp_dict[pid]['prediction'] = prediction\n",
    "        tmp_dict[pid]['actual'] = actual\n",
    "    return tmp_dict"
   ]
  },
  {
   "cell_type": "code",
   "execution_count": 15,
   "metadata": {},
   "outputs": [],
   "source": [
    "def calculate_acc_sen_spe_pre_f1score(actual_list, pred_list):\n",
    "    actual_label_array = np.array(actual_list)\n",
    "    predict_label_array = np.array(pred_list)\n",
    "\n",
    "    ### Confusion Matrix\n",
    "    matrix = confusion_matrix(actual_label_array, predict_label_array)\n",
    "    TN, FP, FN, TP = matrix.ravel()\n",
    "\n",
    "    value_accuracy = round((TP+TN)/(TP+TN+FP+FN), 4)\n",
    "    value_sensitivity = round(TP/(TP+FN), 4)\n",
    "    value_specificity = round(TN/(TN+FP), 4)\n",
    "    value_precision = round(TP/(TP+FP), 4)\n",
    "    value_f1_score = round(2*value_precision*value_sensitivity/(value_precision+value_sensitivity), 2)\n",
    "\n",
    "    accuracy = round(value_accuracy*100, 2)\n",
    "    sensitivity = round(value_sensitivity*100, 2)\n",
    "    specificity = round(value_specificity*100, 2)\n",
    "    precision = round(value_precision*100, 2)\n",
    "\n",
    "    return accuracy, sensitivity, specificity, precision, value_f1_score"
   ]
  },
  {
   "cell_type": "code",
   "execution_count": 16,
   "metadata": {},
   "outputs": [],
   "source": [
    "def organize_subtask_importance_data_RandomSeed(seed_value, pidList, w_f1score, s_f1score, t_f1score, f_f1score, w_dict, s_dict, t_dict, f_dict):\n",
    "    lambda_walk = w_f1score\n",
    "    lambda_sitstand = s_f1score\n",
    "    lambda_turn = t_f1score\n",
    "    lambda_facial = f_f1score\n",
    "\n",
    "    tmp_dict = {}\n",
    "    for pid in pidList:\n",
    "        tmp_dict[pid] = {}\n",
    "        tmp_dict[pid]['Walk'] = {}\n",
    "        tmp_dict[pid]['SitStand'] = {}\n",
    "        tmp_dict[pid]['Turn'] = {}\n",
    "        tmp_dict[pid]['Facial'] = {}\n",
    "\n",
    "        if pid in walk_subjects_foldIdx:\n",
    "            tmp_dict[pid]['Walk']['Fold'] = walk_subjects_foldIdx[pid]\n",
    "            tmp_dict[pid]['Walk']['Threshold'] = threshold_walk[seed_value][walk_subjects_foldIdx[pid]]\n",
    "            tmp_dict[pid]['Walk']['probAD'] = w_dict[pid]['prob_class1']\n",
    "            tmp_dict[pid]['Walk']['conf'] = abs(threshold_walk[seed_value][walk_subjects_foldIdx[pid]]-w_dict[pid]['prob_class1'])\n",
    "            tmp_dict[pid]['Walk']['probAD_weighted'] = round(w_dict[pid]['prob_class1']*lambda_walk, 4)\n",
    "            \n",
    "        if pid in sitstand_subjects_foldIdx:\n",
    "            tmp_dict[pid]['SitStand']['Fold'] = sitstand_subjects_foldIdx[pid]\n",
    "            tmp_dict[pid]['SitStand']['Threshold'] = threshold_sitstand[seed_value][sitstand_subjects_foldIdx[pid]]\n",
    "            tmp_dict[pid]['SitStand']['probAD'] = s_dict[pid]['prob_class1']\n",
    "            tmp_dict[pid]['SitStand']['conf'] = abs(threshold_sitstand[seed_value][sitstand_subjects_foldIdx[pid]]-s_dict[pid]['prob_class1'])\n",
    "            tmp_dict[pid]['SitStand']['probAD_weighted'] = round(s_dict[pid]['prob_class1']*lambda_sitstand, 4)\n",
    "            \n",
    "        if pid in turn_subjects_foldIdx:\n",
    "            tmp_dict[pid]['Turn']['Fold'] = turn_subjects_foldIdx[pid]\n",
    "            tmp_dict[pid]['Turn']['Threshold'] = threshold_turn[seed_value][turn_subjects_foldIdx[pid]]\n",
    "            tmp_dict[pid]['Turn']['probAD'] = t_dict[pid]['prob_class1']\n",
    "            tmp_dict[pid]['Turn']['conf'] = abs(threshold_turn[seed_value][turn_subjects_foldIdx[pid]]-t_dict[pid]['prob_class1'])\n",
    "            tmp_dict[pid]['Turn']['probAD_weighted'] = round(t_dict[pid]['prob_class1']*lambda_turn, 4)\n",
    "            \n",
    "        if pid in facial_subjects_foldIdx:\n",
    "            tmp_dict[pid]['Facial']['Fold'] = facial_subjects_foldIdx[pid]\n",
    "            tmp_dict[pid]['Facial']['Threshold'] = threshold_facial[seed_value][facial_subjects_foldIdx[pid]]\n",
    "            tmp_dict[pid]['Facial']['probAD'] = f_dict[pid]['prob_class1']\n",
    "            tmp_dict[pid]['Facial']['conf'] = abs(threshold_facial[seed_value][facial_subjects_foldIdx[pid]]-f_dict[pid]['prob_class1'])\n",
    "            tmp_dict[pid]['Facial']['probAD_weighted'] = round(f_dict[pid]['prob_class1']*lambda_facial, 4)\n",
    "    return tmp_dict"
   ]
  },
  {
   "cell_type": "markdown",
   "metadata": {},
   "source": [
    "# 1 Subtask"
   ]
  },
  {
   "cell_type": "markdown",
   "metadata": {},
   "source": [
    "## Walking Subtask"
   ]
  },
  {
   "cell_type": "code",
   "execution_count": 17,
   "metadata": {},
   "outputs": [
    {
     "name": "stdout",
     "output_type": "stream",
     "text": [
      "seed: 10, number of subjects: 81\n",
      "seed: 20, number of subjects: 81\n",
      "seed: 42, number of subjects: 81\n",
      "seed: 64, number of subjects: 81\n",
      "seed: 100, number of subjects: 81\n",
      "seed: 123, number of subjects: 81\n",
      "seed: 200, number of subjects: 81\n",
      "seed: 456, number of subjects: 81\n",
      "seed: 1001, number of subjects: 81\n",
      "seed: 12321, number of subjects: 81\n"
     ]
    }
   ],
   "source": [
    "single_w_acc = []\n",
    "single_w_sen = []\n",
    "single_w_spe = []\n",
    "single_w_pre = []\n",
    "single_w_f1score = []\n",
    "\n",
    "\n",
    "def analyze_single_w_result(pidList, seed_value_list):\n",
    "    tmp_acc, tmp_sen, tmp_spe, tmp_pre, tmp_f1score = [], [], [], [], []\n",
    "    for idx, seed_value in enumerate(seed_value_list):\n",
    "        filename = w_result_randomseed_path + str(seed_value) + \"_FS_weighted.csv\"\n",
    "        w_result_dict = create_walking_sitstand_facial_subtask_dictionary_RandomSeed(filename)\n",
    "\n",
    "        pred_list = []\n",
    "        actual_list = []\n",
    "        for pid in w_result_dict:\n",
    "            if pid in pidList:\n",
    "                pred = w_result_dict[pid]['prediction']\n",
    "                actual = w_result_dict[pid]['actual']\n",
    "                pred_list.append(pred)\n",
    "                actual_list.append(actual)\n",
    "\n",
    "        acc, sen, spe, pre, f1score = calculate_acc_sen_spe_pre_f1score(actual_list, pred_list)\n",
    "        tmp_acc.append(acc)\n",
    "        tmp_sen.append(sen)\n",
    "        tmp_spe.append(spe)\n",
    "        tmp_pre.append(pre)\n",
    "        tmp_f1score.append(f1score)\n",
    "\n",
    "        print(f'seed: {seed_value}, number of subjects: {len(pred_list)}')\n",
    "\n",
    "    return tmp_acc, tmp_sen, tmp_spe, tmp_pre, tmp_f1score\n",
    "\n",
    "single_w_acc, single_w_sen, single_w_spe, single_w_pre, single_w_f1score = analyze_single_w_result(all_pid_list_based, random_seed_list)"
   ]
  },
  {
   "cell_type": "code",
   "execution_count": 18,
   "metadata": {},
   "outputs": [
    {
     "name": "stdout",
     "output_type": "stream",
     "text": [
      "Accuracy    (10), mean(90.49), std(1.75): [90.12, 92.59, 87.65, 90.12, 93.83, 91.36, 88.89, 90.12, 88.89, 91.36]\n",
      "Sensitivity (10), mean(97.2), std(2.56): [96.0, 100.0, 96.0, 100.0, 100.0, 96.0, 92.0, 100.0, 96.0, 96.0]\n",
      "Specificity (10), mean(87.5), std(2.11): [87.5, 89.29, 83.93, 85.71, 91.07, 89.29, 87.5, 85.71, 85.71, 89.29]\n",
      "Precision   (10), mean(77.73), std(3.03): [77.42, 80.65, 72.73, 75.76, 83.33, 80.0, 76.67, 75.76, 75.0, 80.0]\n",
      "F1-Score    (10), mean(0.86), std(0.02): [0.86, 0.89, 0.83, 0.86, 0.91, 0.87, 0.84, 0.86, 0.84, 0.87]\n"
     ]
    }
   ],
   "source": [
    "print(f'Accuracy    ({len(single_w_acc)}), mean({round(statistics.mean(single_w_acc), 2)}), std({round(statistics.pstdev(single_w_acc), 2)}): {single_w_acc}')\n",
    "print(f'Sensitivity ({len(single_w_sen)}), mean({round(statistics.mean(single_w_sen), 2)}), std({round(statistics.pstdev(single_w_sen), 2)}): {single_w_sen}')\n",
    "print(f'Specificity ({len(single_w_spe)}), mean({round(statistics.mean(single_w_spe), 2)}), std({round(statistics.pstdev(single_w_spe), 2)}): {single_w_spe}')\n",
    "print(f'Precision   ({len(single_w_pre)}), mean({round(statistics.mean(single_w_pre), 2)}), std({round(statistics.pstdev(single_w_pre), 2)}): {single_w_pre}')\n",
    "print(f'F1-Score    ({len(single_w_f1score)}), mean({round(statistics.mean(single_w_f1score), 2)}), std({round(statistics.pstdev(single_w_f1score), 2)}): {single_w_f1score}')"
   ]
  },
  {
   "cell_type": "markdown",
   "metadata": {},
   "source": [
    "## Sit-Stand Subtask"
   ]
  },
  {
   "cell_type": "code",
   "execution_count": 19,
   "metadata": {},
   "outputs": [
    {
     "name": "stdout",
     "output_type": "stream",
     "text": [
      "seed: 10, number of subjects: 81\n",
      "seed: 20, number of subjects: 81\n",
      "seed: 42, number of subjects: 81\n",
      "seed: 64, number of subjects: 81\n",
      "seed: 100, number of subjects: 81\n",
      "seed: 123, number of subjects: 81\n",
      "seed: 200, number of subjects: 81\n",
      "seed: 456, number of subjects: 81\n",
      "seed: 1001, number of subjects: 81\n",
      "seed: 12321, number of subjects: 81\n"
     ]
    }
   ],
   "source": [
    "single_s_acc = []\n",
    "single_s_sen = []\n",
    "single_s_spe = []\n",
    "single_s_pre = []\n",
    "single_s_f1score = []\n",
    "\n",
    "\n",
    "def analyze_single_s_result(pidList, seed_value_list):\n",
    "    tmp_acc, tmp_sen, tmp_spe, tmp_pre, tmp_f1score = [], [], [], [], []\n",
    "    for idx, seed_value in enumerate(seed_value_list):\n",
    "        filename = s_result_randomseed_path + str(seed_value) + \"_SitStand_combined.csv \"\n",
    "        s_result_dict = create_walking_sitstand_facial_subtask_dictionary_RandomSeed(filename)\n",
    "\n",
    "        pred_list = []\n",
    "        actual_list = []\n",
    "        for pid in s_result_dict:\n",
    "            if pid in pidList:\n",
    "                pred = s_result_dict[pid]['prediction']\n",
    "                actual = s_result_dict[pid]['actual']\n",
    "                pred_list.append(pred)\n",
    "                actual_list.append(actual)\n",
    "\n",
    "        acc, sen, spe, pre, f1score = calculate_acc_sen_spe_pre_f1score(actual_list, pred_list)\n",
    "        tmp_acc.append(acc)\n",
    "        tmp_sen.append(sen)\n",
    "        tmp_spe.append(spe)\n",
    "        tmp_pre.append(pre)\n",
    "        tmp_f1score.append(f1score)\n",
    "\n",
    "        print(f'seed: {seed_value}, number of subjects: {len(pred_list)}')\n",
    "\n",
    "    return tmp_acc, tmp_sen, tmp_spe, tmp_pre, tmp_f1score\n",
    "\n",
    "single_s_acc, single_s_sen, single_s_spe, single_s_pre, single_s_f1score = analyze_single_s_result(all_pid_list_based, random_seed_list)"
   ]
  },
  {
   "cell_type": "code",
   "execution_count": 20,
   "metadata": {},
   "outputs": [
    {
     "name": "stdout",
     "output_type": "stream",
     "text": [
      "Accuracy    (10), mean(66.05), std(3.46): [66.67, 64.2, 60.49, 70.37, 67.9, 71.6, 66.67, 62.96, 61.73, 67.9]\n",
      "Sensitivity (10), mean(33.6), std(11.89): [64.0, 36.0, 36.0, 36.0, 16.0, 36.0, 32.0, 28.0, 24.0, 28.0]\n",
      "Specificity (10), mean(80.54), std(6.93): [67.86, 76.79, 71.43, 85.71, 91.07, 87.5, 82.14, 78.57, 78.57, 85.71]\n",
      "Precision   (10), mean(43.89), std(6.97): [47.06, 40.91, 36.0, 52.94, 44.44, 56.25, 44.44, 36.84, 33.33, 46.67]\n",
      "F1-Score    (10), mean(0.37), std(0.08): [0.54, 0.38, 0.36, 0.43, 0.24, 0.44, 0.37, 0.32, 0.28, 0.35]\n"
     ]
    }
   ],
   "source": [
    "print(f'Accuracy    ({len(single_s_acc)}), mean({round(statistics.mean(single_s_acc), 2)}), std({round(statistics.pstdev(single_s_acc), 2)}): {single_s_acc}')\n",
    "print(f'Sensitivity ({len(single_s_sen)}), mean({round(statistics.mean(single_s_sen), 2)}), std({round(statistics.pstdev(single_s_sen), 2)}): {single_s_sen}')\n",
    "print(f'Specificity ({len(single_s_spe)}), mean({round(statistics.mean(single_s_spe), 2)}), std({round(statistics.pstdev(single_s_spe), 2)}): {single_s_spe}')\n",
    "print(f'Precision   ({len(single_s_pre)}), mean({round(statistics.mean(single_s_pre), 2)}), std({round(statistics.pstdev(single_s_pre), 2)}): {single_s_pre}')\n",
    "print(f'F1-Score    ({len(single_s_f1score)}), mean({round(statistics.mean(single_s_f1score), 2)}), std({round(statistics.pstdev(single_s_f1score), 2)}): {single_s_f1score}')"
   ]
  },
  {
   "cell_type": "markdown",
   "metadata": {},
   "source": [
    "## Turning Subtask"
   ]
  },
  {
   "cell_type": "code",
   "execution_count": 21,
   "metadata": {},
   "outputs": [
    {
     "name": "stdout",
     "output_type": "stream",
     "text": [
      "seed: 10, number of subjects: 81\n",
      "seed: 20, number of subjects: 81\n",
      "seed: 42, number of subjects: 81\n",
      "seed: 64, number of subjects: 81\n",
      "seed: 100, number of subjects: 81\n",
      "seed: 123, number of subjects: 81\n",
      "seed: 200, number of subjects: 81\n",
      "seed: 456, number of subjects: 81\n",
      "seed: 1001, number of subjects: 81\n",
      "seed: 12321, number of subjects: 81\n"
     ]
    }
   ],
   "source": [
    "single_t_acc = []\n",
    "single_t_sen = []\n",
    "single_t_spe = []\n",
    "single_t_pre = []\n",
    "single_t_f1score = []\n",
    "\n",
    "\n",
    "def analyze_single_t_result(pidList, seed_value_list):\n",
    "    tmp_acc, tmp_sen, tmp_spe, tmp_pre, tmp_f1score = [], [], [], [], []\n",
    "    for idx, seed_value in enumerate(seed_value_list):\n",
    "        filename = t_result_randomseed_path + str(seed_value) + \"_Turning_Subtask.csv \"\n",
    "        t_result_dict = create_turning_subtask_dictionary_RandomSeed(filename)\n",
    "\n",
    "        pred_list = []\n",
    "        actual_list = []\n",
    "        for pid in t_result_dict:\n",
    "            if pid in pidList:\n",
    "                pred = t_result_dict[pid]['prediction']\n",
    "                actual = t_result_dict[pid]['actual']\n",
    "                pred_list.append(pred)\n",
    "                actual_list.append(actual)\n",
    "\n",
    "        acc, sen, spe, pre, f1score = calculate_acc_sen_spe_pre_f1score(actual_list, pred_list)\n",
    "        tmp_acc.append(acc)\n",
    "        tmp_sen.append(sen)\n",
    "        tmp_spe.append(spe)\n",
    "        tmp_pre.append(pre)\n",
    "        tmp_f1score.append(f1score)\n",
    "        print(f'seed: {seed_value}, number of subjects: {len(pred_list)}')\n",
    "    return tmp_acc, tmp_sen, tmp_spe, tmp_pre, tmp_f1score\n",
    "\n",
    "single_t_acc, single_t_sen, single_t_spe, single_t_pre, single_t_f1score = analyze_single_t_result(all_pid_list_based, random_seed_list)"
   ]
  },
  {
   "cell_type": "code",
   "execution_count": 22,
   "metadata": {},
   "outputs": [
    {
     "name": "stdout",
     "output_type": "stream",
     "text": [
      "Accuracy    (10), mean(83.83), std(0.37): [83.95, 83.95, 83.95, 82.72, 83.95, 83.95, 83.95, 83.95, 83.95, 83.95]\n",
      "Sensitivity (10), mean(71.6), std(1.2): [72.0, 72.0, 72.0, 68.0, 72.0, 72.0, 72.0, 72.0, 72.0, 72.0]\n",
      "Specificity (10), mean(89.29), std(0.0): [89.29, 89.29, 89.29, 89.29, 89.29, 89.29, 89.29, 89.29, 89.29, 89.29]\n",
      "Precision   (10), mean(74.89), std(0.33): [75.0, 75.0, 75.0, 73.91, 75.0, 75.0, 75.0, 75.0, 75.0, 75.0]\n",
      "F1-Score    (10), mean(0.73), std(0.01): [0.73, 0.73, 0.73, 0.71, 0.73, 0.73, 0.73, 0.73, 0.73, 0.73]\n"
     ]
    }
   ],
   "source": [
    "print(f'Accuracy    ({len(single_t_acc)}), mean({round(statistics.mean(single_t_acc), 2)}), std({round(statistics.pstdev(single_t_acc), 2)}): {single_t_acc}')\n",
    "print(f'Sensitivity ({len(single_t_sen)}), mean({round(statistics.mean(single_t_sen), 2)}), std({round(statistics.pstdev(single_t_sen), 2)}): {single_t_sen}')\n",
    "print(f'Specificity ({len(single_t_spe)}), mean({round(statistics.mean(single_t_spe), 2)}), std({round(statistics.pstdev(single_t_spe), 2)}): {single_t_spe}')\n",
    "print(f'Precision   ({len(single_t_pre)}), mean({round(statistics.mean(single_t_pre), 2)}), std({round(statistics.pstdev(single_t_pre), 2)}): {single_t_pre}')\n",
    "print(f'F1-Score    ({len(single_t_f1score)}), mean({round(statistics.mean(single_t_f1score), 2)}), std({round(statistics.pstdev(single_t_f1score), 2)}): {single_t_f1score}')"
   ]
  },
  {
   "cell_type": "markdown",
   "metadata": {},
   "source": [
    "## Facial Subtask"
   ]
  },
  {
   "cell_type": "code",
   "execution_count": 23,
   "metadata": {},
   "outputs": [
    {
     "name": "stdout",
     "output_type": "stream",
     "text": [
      "seed: 10, number of subjects: 81\n",
      "seed: 20, number of subjects: 81\n",
      "seed: 42, number of subjects: 81\n",
      "seed: 64, number of subjects: 81\n",
      "seed: 100, number of subjects: 81\n",
      "seed: 123, number of subjects: 81\n",
      "seed: 200, number of subjects: 81\n",
      "seed: 456, number of subjects: 81\n",
      "seed: 1001, number of subjects: 81\n",
      "seed: 12321, number of subjects: 81\n"
     ]
    }
   ],
   "source": [
    "single_f_acc = []\n",
    "single_f_sen = []\n",
    "single_f_spe = []\n",
    "single_f_pre = []\n",
    "single_f_f1score = []\n",
    "\n",
    "def analyze_single_f_result(pidList, seed_value_list):\n",
    "    tmp_acc, tmp_sen, tmp_spe, tmp_pre, tmp_f1score = [], [], [], [], []\n",
    "    for idx, seed_value in enumerate(seed_value_list):\n",
    "        filename = f_result_randomseed_path + str(seed_value) + \"_FS_weighted.csv \"\n",
    "        f_result_dict = create_walking_sitstand_facial_subtask_dictionary_RandomSeed(filename)\n",
    "\n",
    "        pred_list = []\n",
    "        actual_list = []\n",
    "        for pid in f_result_dict:\n",
    "            if pid in pidList:\n",
    "                pred = f_result_dict[pid]['prediction']\n",
    "                actual = f_result_dict[pid]['actual']\n",
    "                pred_list.append(pred)\n",
    "                actual_list.append(actual)\n",
    "\n",
    "        acc, sen, spe, pre, f1score = calculate_acc_sen_spe_pre_f1score(actual_list, pred_list)\n",
    "        tmp_acc.append(acc)\n",
    "        tmp_sen.append(sen)\n",
    "        tmp_spe.append(spe)\n",
    "        tmp_pre.append(pre)\n",
    "        tmp_f1score.append(f1score)\n",
    "        print(f'seed: {seed_value}, number of subjects: {len(pred_list)}')\n",
    "    return tmp_acc, tmp_sen, tmp_spe, tmp_pre, tmp_f1score\n",
    "\n",
    "single_f_acc, single_f_sen, single_f_spe, single_f_pre, single_f_f1score = analyze_single_f_result(all_pid_list_based, random_seed_list)"
   ]
  },
  {
   "cell_type": "code",
   "execution_count": 24,
   "metadata": {},
   "outputs": [
    {
     "name": "stdout",
     "output_type": "stream",
     "text": [
      "Accuracy    (10), mean(83.83), std(3.29): [79.01, 82.72, 90.12, 87.65, 80.25, 85.19, 85.19, 83.95, 80.25, 83.95]\n",
      "Sensitivity (10), mean(56.8), std(10.24): [48.0, 52.0, 72.0, 64.0, 40.0, 64.0, 72.0, 52.0, 48.0, 56.0]\n",
      "Specificity (10), mean(95.89), std(2.4): [92.86, 96.43, 98.21, 98.21, 98.21, 94.64, 91.07, 98.21, 94.64, 96.43]\n",
      "Precision   (10), mean(86.43), std(6.59): [75.0, 86.67, 94.74, 94.12, 90.91, 84.21, 78.26, 92.86, 80.0, 87.5]\n",
      "F1-Score    (10), mean(0.68), std(0.08): [0.59, 0.65, 0.82, 0.76, 0.56, 0.73, 0.75, 0.67, 0.6, 0.68]\n"
     ]
    }
   ],
   "source": [
    "print(f'Accuracy    ({len(single_f_acc)}), mean({round(statistics.mean(single_f_acc), 2)}), std({round(statistics.pstdev(single_f_acc), 2)}): {single_f_acc}')\n",
    "print(f'Sensitivity ({len(single_f_sen)}), mean({round(statistics.mean(single_f_sen), 2)}), std({round(statistics.pstdev(single_f_sen), 2)}): {single_f_sen}')\n",
    "print(f'Specificity ({len(single_f_spe)}), mean({round(statistics.mean(single_f_spe), 2)}), std({round(statistics.pstdev(single_f_spe), 2)}): {single_f_spe}')\n",
    "print(f'Precision   ({len(single_f_pre)}), mean({round(statistics.mean(single_f_pre), 2)}), std({round(statistics.pstdev(single_f_pre), 2)}): {single_f_pre}')\n",
    "print(f'F1-Score    ({len(single_f_f1score)}), mean({round(statistics.mean(single_f_f1score), 2)}), std({round(statistics.pstdev(single_f_f1score), 2)}): {single_f_f1score}')"
   ]
  },
  {
   "cell_type": "markdown",
   "metadata": {},
   "source": [
    "# 2 Subtask"
   ]
  },
  {
   "cell_type": "code",
   "execution_count": 25,
   "metadata": {},
   "outputs": [
    {
     "name": "stdout",
     "output_type": "stream",
     "text": [
      "-------------- [Two Subtasks] --------------\n",
      "[['walk', 'sitstand'], ['walk', 'turn'], ['walk', 'facial'], ['sitstand', 'turn'], ['sitstand', 'facial'], ['turn', 'facial']]\n"
     ]
    }
   ],
   "source": [
    "def get_two_subtask_combination():\n",
    "    s1 = \"walk\"\n",
    "    s2 = \"sitstand\"\n",
    "    s3 = \"turn\"\n",
    "    s4 = \"facial\"\n",
    "\n",
    "    combination = []\n",
    "    combination.append([s1, s2])\n",
    "    combination.append([s1, s3])\n",
    "    combination.append([s1, s4])\n",
    "    combination.append([s2, s3])\n",
    "    combination.append([s2, s4])\n",
    "    combination.append([s3, s4])\n",
    "    return combination\n",
    "    \n",
    "two_subtask_combination = get_two_subtask_combination()\n",
    "\n",
    "print(f'-------------- [Two Subtasks] --------------')\n",
    "print(two_subtask_combination)"
   ]
  },
  {
   "cell_type": "code",
   "execution_count": 26,
   "metadata": {},
   "outputs": [
    {
     "name": "stdout",
     "output_type": "stream",
     "text": [
      "-> Seed_value=[10], Combined [walk, sitstand], Number of Subjects: 81\n",
      "-> Seed_value=[10], Combined [walk, turn], Number of Subjects: 81\n",
      "-> Seed_value=[10], Combined [walk, facial], Number of Subjects: 81\n",
      "-> Seed_value=[10], Combined [sitstand, turn], Number of Subjects: 81\n",
      "-> Seed_value=[10], Combined [sitstand, facial], Number of Subjects: 81\n",
      "-> Seed_value=[10], Combined [turn, facial], Number of Subjects: 81\n",
      "-> Seed_value=[20], Combined [walk, sitstand], Number of Subjects: 81\n",
      "-> Seed_value=[20], Combined [walk, turn], Number of Subjects: 81\n",
      "-> Seed_value=[20], Combined [walk, facial], Number of Subjects: 81\n",
      "-> Seed_value=[20], Combined [sitstand, turn], Number of Subjects: 81\n",
      "-> Seed_value=[20], Combined [sitstand, facial], Number of Subjects: 81\n",
      "-> Seed_value=[20], Combined [turn, facial], Number of Subjects: 81\n",
      "-> Seed_value=[42], Combined [walk, sitstand], Number of Subjects: 81\n",
      "-> Seed_value=[42], Combined [walk, turn], Number of Subjects: 81\n",
      "-> Seed_value=[42], Combined [walk, facial], Number of Subjects: 81\n",
      "-> Seed_value=[42], Combined [sitstand, turn], Number of Subjects: 81\n",
      "-> Seed_value=[42], Combined [sitstand, facial], Number of Subjects: 81\n",
      "-> Seed_value=[42], Combined [turn, facial], Number of Subjects: 81\n",
      "-> Seed_value=[64], Combined [walk, sitstand], Number of Subjects: 81\n",
      "-> Seed_value=[64], Combined [walk, turn], Number of Subjects: 81\n",
      "-> Seed_value=[64], Combined [walk, facial], Number of Subjects: 81\n",
      "-> Seed_value=[64], Combined [sitstand, turn], Number of Subjects: 81\n",
      "-> Seed_value=[64], Combined [sitstand, facial], Number of Subjects: 81\n",
      "-> Seed_value=[64], Combined [turn, facial], Number of Subjects: 81\n",
      "-> Seed_value=[100], Combined [walk, sitstand], Number of Subjects: 81\n",
      "-> Seed_value=[100], Combined [walk, turn], Number of Subjects: 81\n",
      "-> Seed_value=[100], Combined [walk, facial], Number of Subjects: 81\n",
      "-> Seed_value=[100], Combined [sitstand, turn], Number of Subjects: 81\n",
      "-> Seed_value=[100], Combined [sitstand, facial], Number of Subjects: 81\n",
      "-> Seed_value=[100], Combined [turn, facial], Number of Subjects: 81\n",
      "-> Seed_value=[123], Combined [walk, sitstand], Number of Subjects: 81\n",
      "-> Seed_value=[123], Combined [walk, turn], Number of Subjects: 81\n",
      "-> Seed_value=[123], Combined [walk, facial], Number of Subjects: 81\n",
      "-> Seed_value=[123], Combined [sitstand, turn], Number of Subjects: 81\n",
      "-> Seed_value=[123], Combined [sitstand, facial], Number of Subjects: 81\n",
      "-> Seed_value=[123], Combined [turn, facial], Number of Subjects: 81\n",
      "-> Seed_value=[200], Combined [walk, sitstand], Number of Subjects: 81\n",
      "-> Seed_value=[200], Combined [walk, turn], Number of Subjects: 81\n",
      "-> Seed_value=[200], Combined [walk, facial], Number of Subjects: 81\n",
      "-> Seed_value=[200], Combined [sitstand, turn], Number of Subjects: 81\n",
      "-> Seed_value=[200], Combined [sitstand, facial], Number of Subjects: 81\n",
      "-> Seed_value=[200], Combined [turn, facial], Number of Subjects: 81\n",
      "-> Seed_value=[456], Combined [walk, sitstand], Number of Subjects: 81\n",
      "-> Seed_value=[456], Combined [walk, turn], Number of Subjects: 81\n",
      "-> Seed_value=[456], Combined [walk, facial], Number of Subjects: 81\n",
      "-> Seed_value=[456], Combined [sitstand, turn], Number of Subjects: 81\n",
      "-> Seed_value=[456], Combined [sitstand, facial], Number of Subjects: 81\n",
      "-> Seed_value=[456], Combined [turn, facial], Number of Subjects: 81\n",
      "-> Seed_value=[1001], Combined [walk, sitstand], Number of Subjects: 81\n",
      "-> Seed_value=[1001], Combined [walk, turn], Number of Subjects: 81\n",
      "-> Seed_value=[1001], Combined [walk, facial], Number of Subjects: 81\n",
      "-> Seed_value=[1001], Combined [sitstand, turn], Number of Subjects: 81\n",
      "-> Seed_value=[1001], Combined [sitstand, facial], Number of Subjects: 81\n",
      "-> Seed_value=[1001], Combined [turn, facial], Number of Subjects: 81\n",
      "-> Seed_value=[12321], Combined [walk, sitstand], Number of Subjects: 81\n",
      "-> Seed_value=[12321], Combined [walk, turn], Number of Subjects: 81\n",
      "-> Seed_value=[12321], Combined [walk, facial], Number of Subjects: 81\n",
      "-> Seed_value=[12321], Combined [sitstand, turn], Number of Subjects: 81\n",
      "-> Seed_value=[12321], Combined [sitstand, facial], Number of Subjects: 81\n",
      "-> Seed_value=[12321], Combined [turn, facial], Number of Subjects: 81\n"
     ]
    }
   ],
   "source": [
    "WS_acc, WS_sen, WS_spe, WS_pre, WS_f1s = [], [], [], [], []\n",
    "WT_acc, WT_sen, WT_spe, WT_pre, WT_f1s = [], [], [], [], []\n",
    "WF_acc, WF_sen, WF_spe, WF_pre, WF_f1s = [], [], [], [], []\n",
    "ST_acc, ST_sen, ST_spe, ST_pre, ST_f1s = [], [], [], [], []\n",
    "SF_acc, SF_sen, SF_spe, SF_pre, SF_f1s = [], [], [], [], []\n",
    "TF_acc, TF_sen, TF_spe, TF_pre, TF_f1s = [], [], [], [], []\n",
    "\n",
    "\n",
    "def get_weighted_result_two_subtask_RandomSeed_based(pidList, task1, task2, score1, score2, result1, result2, subtask_importance):\n",
    "    lambda1 = score1\n",
    "    lambda2 = score2\n",
    "\n",
    "    tmp_result_dict = {}\n",
    "    tmp_pred_list, tmp_true_list = [], []\n",
    "\n",
    "    for pid in pidList:\n",
    "        task1_probNC, task1_probAD = 0, 0\n",
    "        task2_probNC, task2_probAD = 0, 0\n",
    "        conf1, conf2 = 0, 0\n",
    "\n",
    "        n_subtask = 0\n",
    "        if pid in result1:\n",
    "            n_subtask += 1\n",
    "            task1_probNC = result1[pid]['prob_class0']\n",
    "            task1_probAD = result1[pid]['prob_class1']\n",
    "            actual_label = result1[pid]['actual']\n",
    "            if task1==\"walk\": conf1 = subtask_importance[pid]['Walk']['conf']\n",
    "            if task1==\"sitstand\": conf1 = subtask_importance[pid]['SitStand']['conf']\n",
    "            if task1==\"turn\": conf1 = subtask_importance[pid]['Turn']['conf']\n",
    "            if task1==\"facial\": conf1 = subtask_importance[pid]['Facial']['conf']\n",
    "            \n",
    "        if pid in result2:\n",
    "            n_subtask += 1\n",
    "            task2_probNC = result2[pid]['prob_class0']\n",
    "            task2_probAD = result2[pid]['prob_class1']\n",
    "            actual_label = result2[pid]['actual']\n",
    "            if task2==\"walk\": conf2 = subtask_importance[pid]['Walk']['conf']\n",
    "            if task2==\"sitstand\": conf2 = subtask_importance[pid]['SitStand']['conf']\n",
    "            if task2==\"turn\": conf2 = subtask_importance[pid]['Turn']['conf']\n",
    "            if task2==\"facial\": conf2 = subtask_importance[pid]['Facial']['conf']\n",
    "\n",
    "        if n_subtask==0:\n",
    "            print(f'Combined [{task1}, {task2}] pid {pid} NOT exist.')\n",
    "        else:\n",
    "            probNC = (lambda1*conf1*task1_probNC + lambda2*conf2*task2_probNC)/n_subtask\n",
    "            probAD = (lambda1*conf1*task1_probAD + lambda2*conf2*task2_probAD)/n_subtask\n",
    "            \n",
    "            if probAD >= probNC: pred_label = 1\n",
    "            else: pred_label = 0\n",
    "    \n",
    "            tmp_result_dict[pid] = {}\n",
    "            tmp_result_dict[pid]['probNC'] = probNC\n",
    "            tmp_result_dict[pid]['probAD'] = probAD\n",
    "            tmp_result_dict[pid]['prediction'] = pred_label\n",
    "            tmp_result_dict[pid]['actual'] = actual_label\n",
    "            \n",
    "            tmp_pred_list.append(pred_label)\n",
    "            tmp_true_list.append(actual_label)\n",
    "    return tmp_pred_list, tmp_true_list, tmp_result_dict\n",
    "   \n",
    "\n",
    "\n",
    "def analyze_two_subtask_result(pidList, combination, seed_value_list):\n",
    "    for idx, seed_value in enumerate(seed_value_list):\n",
    "        w_f1score = single_w_f1score[idx]\n",
    "        s_f1score = single_s_f1score[idx]\n",
    "        t_f1score = single_t_f1score[idx]\n",
    "        f_f1score = single_f_f1score[idx]\n",
    "\n",
    "        w_filename = w_result_randomseed_path + str(seed_value) + \"_FS_weighted.csv\"\n",
    "        s_filename = s_result_randomseed_path + str(seed_value) + \"_SitStand_combined.csv\"\n",
    "        t_filename = t_result_randomseed_path + str(seed_value) + \"_Turning_Subtask.csv \"\n",
    "        f_filename = f_result_randomseed_path + str(seed_value) + \"_FS_weighted.csv \"\n",
    "\n",
    "        w_result_dict = create_walking_sitstand_facial_subtask_dictionary_RandomSeed(w_filename)\n",
    "        s_result_dict = create_walking_sitstand_facial_subtask_dictionary_RandomSeed(s_filename)\n",
    "        t_result_dict = create_turning_subtask_dictionary_RandomSeed(t_filename)\n",
    "        f_result_dict = create_walking_sitstand_facial_subtask_dictionary_RandomSeed(f_filename)\n",
    "\n",
    "        subtask_importance = {}\n",
    "        subtask_importance = organize_subtask_importance_data_RandomSeed(seed_value, pidList, w_f1score, s_f1score, t_f1score, f_f1score, w_result_dict, s_result_dict, t_result_dict, f_result_dict)\n",
    "        \n",
    "        for comb in combination:\n",
    "            task1, task2 = comb[0], comb[1]\n",
    "\n",
    "            if task1==\"walk\": score1 = w_f1score; result1 = w_result_dict\n",
    "            elif task1==\"sitstand\": score1 = s_f1score; result1 = s_result_dict\n",
    "            elif task1==\"turn\": score1 = t_f1score; result1 = t_result_dict\n",
    "            elif task1==\"facial\": score1 = f_f1score; result1 = f_result_dict\n",
    "                \n",
    "            if task2==\"walk\": score2 = w_f1score; result2 = w_result_dict\n",
    "            elif task2==\"sitstand\": score2 = s_f1score; result2 = s_result_dict\n",
    "            elif task2==\"turn\": score2 = t_f1score; result2 = t_result_dict\n",
    "            elif task2==\"facial\": score2 = f_f1score; result2 = f_result_dict\n",
    "\n",
    "            print(f'-> Seed_value=[{seed_value}], Combined [{task1}, {task2}], Number of Subjects: {len(pidList)}')\n",
    "            pred_list, true_list, weighted_result_dict = get_weighted_result_two_subtask_RandomSeed_based(pidList, task1, task2, score1, score2, result1, result2, subtask_importance)\n",
    "\n",
    "            acc, sen, spe, pre, f1score = calculate_acc_sen_spe_pre_f1score(true_list, pred_list)\n",
    "            if task1==\"walk\" and task2==\"sitstand\":\n",
    "                WS_acc.append(acc)\n",
    "                WS_sen.append(sen)\n",
    "                WS_spe.append(spe)\n",
    "                WS_pre.append(pre)\n",
    "                WS_f1s.append(f1score)\n",
    "            elif task1==\"walk\" and task2==\"turn\":\n",
    "                WT_acc.append(acc)\n",
    "                WT_sen.append(sen)\n",
    "                WT_spe.append(spe)\n",
    "                WT_pre.append(pre)\n",
    "                WT_f1s.append(f1score)\n",
    "            elif task1==\"walk\" and task2==\"facial\":\n",
    "                WF_acc.append(acc)\n",
    "                WF_sen.append(sen)\n",
    "                WF_spe.append(spe)\n",
    "                WF_pre.append(pre)\n",
    "                WF_f1s.append(f1score)\n",
    "            elif task1==\"sitstand\" and task2==\"turn\":\n",
    "                ST_acc.append(acc)\n",
    "                ST_sen.append(sen)\n",
    "                ST_spe.append(spe)\n",
    "                ST_pre.append(pre)\n",
    "                ST_f1s.append(f1score)\n",
    "            elif task1==\"sitstand\" and task2==\"facial\":\n",
    "                SF_acc.append(acc)\n",
    "                SF_sen.append(sen)\n",
    "                SF_spe.append(spe)\n",
    "                SF_pre.append(pre)\n",
    "                SF_f1s.append(f1score)\n",
    "            elif task1==\"turn\" and task2==\"facial\":\n",
    "                TF_acc.append(acc)\n",
    "                TF_sen.append(sen)\n",
    "                TF_spe.append(spe)\n",
    "                TF_pre.append(pre)\n",
    "                TF_f1s.append(f1score)\n",
    "\n",
    "analyze_two_subtask_result(all_pid_list_based, two_subtask_combination, random_seed_list)"
   ]
  },
  {
   "cell_type": "code",
   "execution_count": 27,
   "metadata": {},
   "outputs": [
    {
     "name": "stdout",
     "output_type": "stream",
     "text": [
      "Accuracy    (10), mean(92.1), std(2.08): [91.36, 92.59, 88.89, 93.83, 96.3, 92.59, 90.12, 91.36, 90.12, 93.83]\n",
      "Sensitivity (10), mean(97.2), std(2.56): [92.0, 100.0, 96.0, 100.0, 100.0, 96.0, 96.0, 100.0, 96.0, 96.0]\n",
      "Specificity (10), mean(89.82), std(2.65): [91.07, 89.29, 85.71, 91.07, 94.64, 91.07, 87.5, 87.5, 87.5, 92.86]\n",
      "Precision   (10), mean(81.18), std(4.13): [82.14, 80.65, 75.0, 83.33, 89.29, 82.76, 77.42, 78.12, 77.42, 85.71]\n",
      "F1-Score    (10), mean(0.88), std(0.03): [0.87, 0.89, 0.84, 0.91, 0.94, 0.89, 0.86, 0.88, 0.86, 0.91]\n"
     ]
    }
   ],
   "source": [
    "print(f'Accuracy    ({len(WS_acc)}), mean({round(statistics.mean(WS_acc), 2)}), std({round(statistics.pstdev(WS_acc), 2)}): {WS_acc}')\n",
    "print(f'Sensitivity ({len(WS_sen)}), mean({round(statistics.mean(WS_sen), 2)}), std({round(statistics.pstdev(WS_sen), 2)}): {WS_sen}')\n",
    "print(f'Specificity ({len(WS_spe)}), mean({round(statistics.mean(WS_spe), 2)}), std({round(statistics.pstdev(WS_spe), 2)}): {WS_spe}')\n",
    "print(f'Precision   ({len(WS_pre)}), mean({round(statistics.mean(WS_pre), 2)}), std({round(statistics.pstdev(WS_pre), 2)}): {WS_pre}')\n",
    "print(f'F1-Score    ({len(WS_f1s)}), mean({round(statistics.mean(WS_f1s), 2)}), std({round(statistics.pstdev(WS_f1s), 2)}): {WS_f1s}')"
   ]
  },
  {
   "cell_type": "code",
   "execution_count": 28,
   "metadata": {},
   "outputs": [
    {
     "name": "stdout",
     "output_type": "stream",
     "text": [
      "Accuracy    (10), mean(92.35), std(1.21): [91.36, 92.59, 93.83, 91.36, 93.83, 93.83, 90.12, 92.59, 91.36, 92.59]\n",
      "Sensitivity (10), mean(91.6), std(2.15): [88.0, 92.0, 92.0, 92.0, 92.0, 96.0, 92.0, 92.0, 92.0, 88.0]\n",
      "Specificity (10), mean(92.68), std(1.68): [92.86, 92.86, 94.64, 91.07, 94.64, 92.86, 89.29, 92.86, 91.07, 94.64]\n",
      "Precision   (10), mean(84.92), std(2.87): [84.62, 85.19, 88.46, 82.14, 88.46, 85.71, 79.31, 85.19, 82.14, 88.0]\n",
      "F1-Score    (10), mean(0.88), std(0.02): [0.86, 0.88, 0.9, 0.87, 0.9, 0.91, 0.85, 0.88, 0.87, 0.88]\n"
     ]
    }
   ],
   "source": [
    "print(f'Accuracy    ({len(WT_acc)}), mean({round(statistics.mean(WT_acc), 2)}), std({round(statistics.pstdev(WT_acc), 2)}): {WT_acc}')\n",
    "print(f'Sensitivity ({len(WT_sen)}), mean({round(statistics.mean(WT_sen), 2)}), std({round(statistics.pstdev(WT_sen), 2)}): {WT_sen}')\n",
    "print(f'Specificity ({len(WT_spe)}), mean({round(statistics.mean(WT_spe), 2)}), std({round(statistics.pstdev(WT_spe), 2)}): {WT_spe}')\n",
    "print(f'Precision   ({len(WT_pre)}), mean({round(statistics.mean(WT_pre), 2)}), std({round(statistics.pstdev(WT_pre), 2)}): {WT_pre}')\n",
    "print(f'F1-Score    ({len(WT_f1s)}), mean({round(statistics.mean(WT_f1s), 2)}), std({round(statistics.pstdev(WT_f1s), 2)}): {WT_f1s}')"
   ]
  },
  {
   "cell_type": "code",
   "execution_count": 29,
   "metadata": {},
   "outputs": [
    {
     "name": "stdout",
     "output_type": "stream",
     "text": [
      "Accuracy    (10), mean(93.95), std(2.31): [91.36, 95.06, 91.36, 96.3, 96.3, 93.83, 90.12, 97.53, 93.83, 93.83]\n",
      "Sensitivity (10), mean(94.4), std(3.67): [88.0, 96.0, 88.0, 100.0, 96.0, 96.0, 92.0, 96.0, 96.0, 96.0]\n",
      "Specificity (10), mean(93.75), std(2.29): [92.86, 94.64, 92.86, 94.64, 96.43, 92.86, 89.29, 98.21, 92.86, 92.86]\n",
      "Precision   (10), mean(87.22), std(4.39): [84.62, 88.89, 84.62, 89.29, 92.31, 85.71, 79.31, 96.0, 85.71, 85.71]\n",
      "F1-Score    (10), mean(0.91), std(0.04): [0.86, 0.92, 0.86, 0.94, 0.94, 0.91, 0.85, 0.96, 0.91, 0.91]\n"
     ]
    }
   ],
   "source": [
    "print(f'Accuracy    ({len(WF_acc)}), mean({round(statistics.mean(WF_acc), 2)}), std({round(statistics.pstdev(WF_acc), 2)}): {WF_acc}')\n",
    "print(f'Sensitivity ({len(WF_sen)}), mean({round(statistics.mean(WF_sen), 2)}), std({round(statistics.pstdev(WF_sen), 2)}): {WF_sen}')\n",
    "print(f'Specificity ({len(WF_spe)}), mean({round(statistics.mean(WF_spe), 2)}), std({round(statistics.pstdev(WF_spe), 2)}): {WF_spe}')\n",
    "print(f'Precision   ({len(WF_pre)}), mean({round(statistics.mean(WF_pre), 2)}), std({round(statistics.pstdev(WF_pre), 2)}): {WF_pre}')\n",
    "print(f'F1-Score    ({len(WF_f1s)}), mean({round(statistics.mean(WF_f1s), 2)}), std({round(statistics.pstdev(WF_f1s), 2)}): {WF_f1s}')"
   ]
  },
  {
   "cell_type": "code",
   "execution_count": 30,
   "metadata": {},
   "outputs": [
    {
     "name": "stdout",
     "output_type": "stream",
     "text": [
      "Accuracy    (10), mean(79.51), std(2.08): [81.48, 79.01, 79.01, 79.01, 76.54, 81.48, 81.48, 80.25, 81.48, 75.31]\n",
      "Sensitivity (10), mean(54.0), std(5.73): [64.0, 48.0, 56.0, 52.0, 48.0, 60.0, 56.0, 56.0, 56.0, 44.0]\n",
      "Specificity (10), mean(90.9), std(1.48): [89.29, 92.86, 89.29, 91.07, 89.29, 91.07, 92.86, 91.07, 92.86, 89.29]\n",
      "Precision   (10), mean(72.56), std(4.13): [72.73, 75.0, 70.0, 72.22, 66.67, 75.0, 77.78, 73.68, 77.78, 64.71]\n",
      "F1-Score    (10), mean(0.62), std(0.05): [0.68, 0.59, 0.62, 0.6, 0.56, 0.67, 0.65, 0.64, 0.65, 0.52]\n"
     ]
    }
   ],
   "source": [
    "print(f'Accuracy    ({len(ST_acc)}), mean({round(statistics.mean(ST_acc), 2)}), std({round(statistics.pstdev(ST_acc), 2)}): {ST_acc}')\n",
    "print(f'Sensitivity ({len(ST_sen)}), mean({round(statistics.mean(ST_sen), 2)}), std({round(statistics.pstdev(ST_sen), 2)}): {ST_sen}')\n",
    "print(f'Specificity ({len(ST_spe)}), mean({round(statistics.mean(ST_spe), 2)}), std({round(statistics.pstdev(ST_spe), 2)}): {ST_spe}')\n",
    "print(f'Precision   ({len(ST_pre)}), mean({round(statistics.mean(ST_pre), 2)}), std({round(statistics.pstdev(ST_pre), 2)}): {ST_pre}')\n",
    "print(f'F1-Score    ({len(ST_f1s)}), mean({round(statistics.mean(ST_f1s), 2)}), std({round(statistics.pstdev(ST_f1s), 2)}): {ST_f1s}')"
   ]
  },
  {
   "cell_type": "code",
   "execution_count": 31,
   "metadata": {},
   "outputs": [
    {
     "name": "stdout",
     "output_type": "stream",
     "text": [
      "Accuracy    (10), mean(77.28), std(2.77): [77.78, 79.01, 79.01, 80.25, 72.84, 80.25, 74.07, 79.01, 72.84, 77.78]\n",
      "Sensitivity (10), mean(29.6), std(7.84): [36.0, 32.0, 32.0, 36.0, 12.0, 36.0, 24.0, 36.0, 20.0, 32.0]\n",
      "Specificity (10), mean(98.57), std(1.56): [96.43, 100.0, 100.0, 100.0, 100.0, 100.0, 96.43, 98.21, 96.43, 98.21]\n",
      "Precision   (10), mean(90.71), std(10.64): [81.82, 100.0, 100.0, 100.0, 100.0, 100.0, 75.0, 90.0, 71.43, 88.89]\n",
      "F1-Score    (10), mean(0.44), std(0.1): [0.5, 0.48, 0.48, 0.53, 0.21, 0.53, 0.36, 0.51, 0.31, 0.47]\n"
     ]
    }
   ],
   "source": [
    "print(f'Accuracy    ({len(SF_acc)}), mean({round(statistics.mean(SF_acc), 2)}), std({round(statistics.pstdev(SF_acc), 2)}): {SF_acc}')\n",
    "print(f'Sensitivity ({len(SF_sen)}), mean({round(statistics.mean(SF_sen), 2)}), std({round(statistics.pstdev(SF_sen), 2)}): {SF_sen}')\n",
    "print(f'Specificity ({len(SF_spe)}), mean({round(statistics.mean(SF_spe), 2)}), std({round(statistics.pstdev(SF_spe), 2)}): {SF_spe}')\n",
    "print(f'Precision   ({len(SF_pre)}), mean({round(statistics.mean(SF_pre), 2)}), std({round(statistics.pstdev(SF_pre), 2)}): {SF_pre}')\n",
    "print(f'F1-Score    ({len(SF_f1s)}), mean({round(statistics.mean(SF_f1s), 2)}), std({round(statistics.pstdev(SF_f1s), 2)}): {SF_f1s}')"
   ]
  },
  {
   "cell_type": "code",
   "execution_count": 32,
   "metadata": {},
   "outputs": [
    {
     "name": "stdout",
     "output_type": "stream",
     "text": [
      "Accuracy    (10), mean(87.04), std(2.01): [86.42, 90.12, 86.42, 87.65, 82.72, 86.42, 88.89, 85.19, 87.65, 88.89]\n",
      "Sensitivity (10), mean(61.6), std(5.71): [60.0, 68.0, 56.0, 64.0, 48.0, 60.0, 64.0, 64.0, 64.0, 68.0]\n",
      "Specificity (10), mean(98.39), std(1.48): [98.21, 100.0, 100.0, 98.21, 98.21, 98.21, 100.0, 94.64, 98.21, 98.21]\n",
      "Precision   (10), mean(94.67), std(4.5): [93.75, 100.0, 100.0, 94.12, 92.31, 93.75, 100.0, 84.21, 94.12, 94.44]\n",
      "F1-Score    (10), mean(0.74), std(0.05): [0.73, 0.81, 0.72, 0.76, 0.63, 0.73, 0.78, 0.73, 0.76, 0.79]\n"
     ]
    }
   ],
   "source": [
    "print(f'Accuracy    ({len(TF_acc)}), mean({round(statistics.mean(TF_acc), 2)}), std({round(statistics.pstdev(TF_acc), 2)}): {TF_acc}')\n",
    "print(f'Sensitivity ({len(TF_sen)}), mean({round(statistics.mean(TF_sen), 2)}), std({round(statistics.pstdev(TF_sen), 2)}): {TF_sen}')\n",
    "print(f'Specificity ({len(TF_spe)}), mean({round(statistics.mean(TF_spe), 2)}), std({round(statistics.pstdev(TF_spe), 2)}): {TF_spe}')\n",
    "print(f'Precision   ({len(TF_pre)}), mean({round(statistics.mean(TF_pre), 2)}), std({round(statistics.pstdev(TF_pre), 2)}): {TF_pre}')\n",
    "print(f'F1-Score    ({len(TF_f1s)}), mean({round(statistics.mean(TF_f1s), 2)}), std({round(statistics.pstdev(TF_f1s), 2)}): {TF_f1s}')"
   ]
  },
  {
   "cell_type": "markdown",
   "metadata": {},
   "source": [
    "# 3 Subtask"
   ]
  },
  {
   "cell_type": "code",
   "execution_count": 33,
   "metadata": {},
   "outputs": [
    {
     "name": "stdout",
     "output_type": "stream",
     "text": [
      "-------------- [Three Subtasks] --------------\n",
      "[['walk', 'sitstand', 'turn'], ['walk', 'sitstand', 'facial'], ['walk', 'turn', 'facial'], ['sitstand', 'turn', 'facial']]\n"
     ]
    }
   ],
   "source": [
    "def get_three_subtask_combination():\n",
    "    s1 = \"walk\"\n",
    "    s2 = \"sitstand\"\n",
    "    s3 = \"turn\"\n",
    "    s4 = \"facial\"\n",
    "\n",
    "    combination = []\n",
    "    combination.append([s1, s2, s3])\n",
    "    combination.append([s1, s2, s4])\n",
    "    combination.append([s1, s3, s4])\n",
    "    combination.append([s2, s3, s4])\n",
    "    return combination\n",
    "    \n",
    "Three_subtask_combination = get_three_subtask_combination()\n",
    "\n",
    "print(f'-------------- [Three Subtasks] --------------')\n",
    "print(Three_subtask_combination)"
   ]
  },
  {
   "cell_type": "code",
   "execution_count": 34,
   "metadata": {},
   "outputs": [
    {
     "name": "stdout",
     "output_type": "stream",
     "text": [
      "-> Seed_value=[10], Combined [walk, sitstand], Number of Subjects: 81\n",
      "-> Seed_value=[10], Combined [walk, sitstand], Number of Subjects: 81\n",
      "-> Seed_value=[10], Combined [walk, turn], Number of Subjects: 81\n",
      "-> Seed_value=[10], Combined [sitstand, turn], Number of Subjects: 81\n",
      "-> Seed_value=[20], Combined [walk, sitstand], Number of Subjects: 81\n",
      "-> Seed_value=[20], Combined [walk, sitstand], Number of Subjects: 81\n",
      "-> Seed_value=[20], Combined [walk, turn], Number of Subjects: 81\n",
      "-> Seed_value=[20], Combined [sitstand, turn], Number of Subjects: 81\n",
      "-> Seed_value=[42], Combined [walk, sitstand], Number of Subjects: 81\n",
      "-> Seed_value=[42], Combined [walk, sitstand], Number of Subjects: 81\n",
      "-> Seed_value=[42], Combined [walk, turn], Number of Subjects: 81\n",
      "-> Seed_value=[42], Combined [sitstand, turn], Number of Subjects: 81\n",
      "-> Seed_value=[64], Combined [walk, sitstand], Number of Subjects: 81\n",
      "-> Seed_value=[64], Combined [walk, sitstand], Number of Subjects: 81\n",
      "-> Seed_value=[64], Combined [walk, turn], Number of Subjects: 81\n",
      "-> Seed_value=[64], Combined [sitstand, turn], Number of Subjects: 81\n",
      "-> Seed_value=[100], Combined [walk, sitstand], Number of Subjects: 81\n",
      "-> Seed_value=[100], Combined [walk, sitstand], Number of Subjects: 81\n",
      "-> Seed_value=[100], Combined [walk, turn], Number of Subjects: 81\n",
      "-> Seed_value=[100], Combined [sitstand, turn], Number of Subjects: 81\n",
      "-> Seed_value=[123], Combined [walk, sitstand], Number of Subjects: 81\n",
      "-> Seed_value=[123], Combined [walk, sitstand], Number of Subjects: 81\n",
      "-> Seed_value=[123], Combined [walk, turn], Number of Subjects: 81\n",
      "-> Seed_value=[123], Combined [sitstand, turn], Number of Subjects: 81\n",
      "-> Seed_value=[200], Combined [walk, sitstand], Number of Subjects: 81\n",
      "-> Seed_value=[200], Combined [walk, sitstand], Number of Subjects: 81\n",
      "-> Seed_value=[200], Combined [walk, turn], Number of Subjects: 81\n",
      "-> Seed_value=[200], Combined [sitstand, turn], Number of Subjects: 81\n",
      "-> Seed_value=[456], Combined [walk, sitstand], Number of Subjects: 81\n",
      "-> Seed_value=[456], Combined [walk, sitstand], Number of Subjects: 81\n",
      "-> Seed_value=[456], Combined [walk, turn], Number of Subjects: 81\n",
      "-> Seed_value=[456], Combined [sitstand, turn], Number of Subjects: 81\n",
      "-> Seed_value=[1001], Combined [walk, sitstand], Number of Subjects: 81\n",
      "-> Seed_value=[1001], Combined [walk, sitstand], Number of Subjects: 81\n",
      "-> Seed_value=[1001], Combined [walk, turn], Number of Subjects: 81\n",
      "-> Seed_value=[1001], Combined [sitstand, turn], Number of Subjects: 81\n",
      "-> Seed_value=[12321], Combined [walk, sitstand], Number of Subjects: 81\n",
      "-> Seed_value=[12321], Combined [walk, sitstand], Number of Subjects: 81\n",
      "-> Seed_value=[12321], Combined [walk, turn], Number of Subjects: 81\n",
      "-> Seed_value=[12321], Combined [sitstand, turn], Number of Subjects: 81\n"
     ]
    }
   ],
   "source": [
    "WST_acc, WST_sen, WST_spe, WST_pre, WST_f1s = [], [], [], [], []\n",
    "WSF_acc, WSF_sen, WSF_spe, WSF_pre, WSF_f1s = [], [], [], [], []\n",
    "WTF_acc, WTF_sen, WTF_spe, WTF_pre, WTF_f1s = [], [], [], [], []\n",
    "STF_acc, STF_sen, STF_spe, STF_pre, STF_f1s = [], [], [], [], []\n",
    "\n",
    "\n",
    "def get_weighted_result_three_subtask_RandomSeed_based(pidList, task1, task2, task3, score1, score2, score3, result1, result2, result3, subtask_importance):\n",
    "    lambda1 = score1\n",
    "    lambda2 = score2\n",
    "    lambda3 = score3\n",
    "\n",
    "    tmp_result_dict = {}\n",
    "    tmp_pred_list, tmp_true_list = [], []\n",
    "\n",
    "    for pid in pidList:\n",
    "        task1_probNC, task1_probAD = 0, 0\n",
    "        task2_probNC, task2_probAD = 0, 0\n",
    "        task3_probNC, task3_probAD = 0, 0\n",
    "        conf1, conf2, conf3 = 0, 0, 0\n",
    "\n",
    "        n_subtask = 0\n",
    "        if pid in result1:\n",
    "            n_subtask += 1\n",
    "            task1_probNC = result1[pid]['prob_class0']\n",
    "            task1_probAD = result1[pid]['prob_class1']\n",
    "            actual_label = result1[pid]['actual']\n",
    "            if task1==\"walk\": conf1 = subtask_importance[pid]['Walk']['conf']\n",
    "            if task1==\"sitstand\": conf1 = subtask_importance[pid]['SitStand']['conf']\n",
    "            if task1==\"turn\": conf1 = subtask_importance[pid]['Turn']['conf']\n",
    "            if task1==\"facial\": conf1 = subtask_importance[pid]['Facial']['conf']\n",
    "        if pid in result2:\n",
    "            n_subtask += 1\n",
    "            task2_probNC = result2[pid]['prob_class0']\n",
    "            task2_probAD = result2[pid]['prob_class1']\n",
    "            actual_label = result2[pid]['actual']\n",
    "            if task2==\"walk\": conf2 = subtask_importance[pid]['Walk']['conf']\n",
    "            if task2==\"sitstand\": conf2 = subtask_importance[pid]['SitStand']['conf']\n",
    "            if task2==\"turn\": conf2 = subtask_importance[pid]['Turn']['conf']\n",
    "            if task2==\"facial\": conf2 = subtask_importance[pid]['Facial']['conf']\n",
    "        if pid in result3:\n",
    "            n_subtask += 1\n",
    "            task3_probNC = result3[pid]['prob_class0']\n",
    "            task3_probAD = result3[pid]['prob_class1']\n",
    "            actual_label = result3[pid]['actual']\n",
    "            if task3==\"walk\": conf3 = subtask_importance[pid]['Walk']['conf']\n",
    "            if task3==\"sitstand\": conf3 = subtask_importance[pid]['SitStand']['conf']\n",
    "            if task3==\"turn\": conf3 = subtask_importance[pid]['Turn']['conf']\n",
    "            if task3==\"facial\": conf3 = subtask_importance[pid]['Facial']['conf']\n",
    "\n",
    "        if n_subtask==0:\n",
    "            print(f'Combined [{task1}, {task2}, {task3}] pid {pid} NOT exist.')\n",
    "        else:\n",
    "            probNC = (lambda1*conf1*task1_probNC + lambda2*conf2*task2_probNC + lambda3*conf3*task3_probNC)/n_subtask\n",
    "            probAD = (lambda1*conf1*task1_probAD + lambda2*conf2*task2_probAD + lambda3*conf3*task3_probAD)/n_subtask\n",
    "            \n",
    "            if probAD >= probNC: pred_label = 1\n",
    "            else: pred_label = 0\n",
    "    \n",
    "            tmp_result_dict[pid] = {}\n",
    "            tmp_result_dict[pid]['probNC'] = probNC\n",
    "            tmp_result_dict[pid]['probAD'] = probAD\n",
    "            tmp_result_dict[pid]['prediction'] = pred_label\n",
    "            tmp_result_dict[pid]['actual'] = actual_label\n",
    "            \n",
    "            tmp_pred_list.append(pred_label)\n",
    "            tmp_true_list.append(actual_label)\n",
    "    return tmp_pred_list, tmp_true_list, tmp_result_dict\n",
    "\n",
    "\n",
    "def analyze_three_subtask_result(pidList, combination, seed_value_list):\n",
    "    for idx, seed_value in enumerate(seed_value_list):\n",
    "        w_f1score = single_w_f1score[idx]\n",
    "        s_f1score = single_s_f1score[idx]\n",
    "        t_f1score = single_t_f1score[idx]\n",
    "        f_f1score = single_f_f1score[idx]\n",
    "\n",
    "        w_filename = w_result_randomseed_path + str(seed_value) + \"_FS_weighted.csv\"\n",
    "        s_filename = s_result_randomseed_path + str(seed_value) + \"_SitStand_combined.csv\"\n",
    "        t_filename = t_result_randomseed_path + str(seed_value) + \"_Turning_Subtask.csv \"\n",
    "        f_filename = f_result_randomseed_path + str(seed_value) + \"_FS_weighted.csv \"\n",
    "\n",
    "        w_result_dict = create_walking_sitstand_facial_subtask_dictionary_RandomSeed(w_filename)\n",
    "        s_result_dict = create_walking_sitstand_facial_subtask_dictionary_RandomSeed(s_filename)\n",
    "        t_result_dict = create_turning_subtask_dictionary_RandomSeed(t_filename)\n",
    "        f_result_dict = create_walking_sitstand_facial_subtask_dictionary_RandomSeed(f_filename)\n",
    "\n",
    "        subtask_importance = {}\n",
    "        subtask_importance = organize_subtask_importance_data_RandomSeed(seed_value, pidList, w_f1score, s_f1score, t_f1score, f_f1score, w_result_dict, s_result_dict, t_result_dict, f_result_dict)\n",
    "        \n",
    "        for comb in combination:\n",
    "            task1, task2, task3 = comb[0], comb[1], comb[2]\n",
    "\n",
    "            if task1==\"walk\": score1 = w_f1score; result1 = w_result_dict\n",
    "            elif task1==\"sitstand\": score1 = s_f1score; result1 = s_result_dict\n",
    "            elif task1==\"turn\": score1 = t_f1score; result1 = t_result_dict\n",
    "            elif task1==\"facial\": score1 = f_f1score; result1 = f_result_dict\n",
    "                \n",
    "            if task2==\"walk\": score2 = w_f1score; result2 = w_result_dict\n",
    "            elif task2==\"sitstand\": score2 = s_f1score; result2 = s_result_dict\n",
    "            elif task2==\"turn\": score2 = t_f1score; result2 = t_result_dict\n",
    "            elif task2==\"facial\": score2 = f_f1score; result2 = f_result_dict\n",
    "\n",
    "            if task3==\"walk\": score3 = w_f1score; result3 = w_result_dict\n",
    "            elif task3==\"sitstand\": score3 = s_f1score; result3 = s_result_dict\n",
    "            elif task3==\"turn\": score3 = t_f1score; result3 = t_result_dict\n",
    "            elif task3==\"facial\": score3 = f_f1score; result3 = f_result_dict\n",
    "\n",
    "            print(f'-> Seed_value=[{seed_value}], Combined [{task1}, {task2}], Number of Subjects: {len(pidList)}')\n",
    "            pred_list, true_list, weighted_result_dict = get_weighted_result_three_subtask_RandomSeed_based(pidList, task1, task2, task3, score1, score2, score3, result1, result2, result3, subtask_importance)\n",
    "\n",
    "            acc, sen, spe, pre, f1score = calculate_acc_sen_spe_pre_f1score(true_list, pred_list)\n",
    "            if task1==\"walk\" and task2==\"sitstand\" and task3==\"turn\":\n",
    "                WST_acc.append(acc)\n",
    "                WST_sen.append(sen)\n",
    "                WST_spe.append(spe)\n",
    "                WST_pre.append(pre)\n",
    "                WST_f1s.append(f1score)\n",
    "            elif task1==\"walk\" and task2==\"sitstand\" and task3==\"facial\":\n",
    "                WSF_acc.append(acc)\n",
    "                WSF_sen.append(sen)\n",
    "                WSF_spe.append(spe)\n",
    "                WSF_pre.append(pre)\n",
    "                WSF_f1s.append(f1score)\n",
    "            elif task1==\"walk\" and task2==\"turn\" and task3==\"facial\":\n",
    "                WTF_acc.append(acc)\n",
    "                WTF_sen.append(sen)\n",
    "                WTF_spe.append(spe)\n",
    "                WTF_pre.append(pre)\n",
    "                WTF_f1s.append(f1score)\n",
    "            elif task1==\"sitstand\" and task2==\"turn\" and task3==\"facial\":\n",
    "                STF_acc.append(acc)\n",
    "                STF_sen.append(sen)\n",
    "                STF_spe.append(spe)\n",
    "                STF_pre.append(pre)\n",
    "                STF_f1s.append(f1score)\n",
    "\n",
    "analyze_three_subtask_result(all_pid_list_based, Three_subtask_combination, random_seed_list)"
   ]
  },
  {
   "cell_type": "code",
   "execution_count": 35,
   "metadata": {},
   "outputs": [
    {
     "name": "stdout",
     "output_type": "stream",
     "text": [
      "Accuracy    (10), mean(91.85), std(1.58): [91.36, 93.83, 92.59, 90.12, 93.83, 92.59, 88.89, 92.59, 90.12, 92.59]\n",
      "Sensitivity (10), mean(90.0), std(2.0): [88.0, 92.0, 88.0, 92.0, 92.0, 92.0, 88.0, 92.0, 88.0, 88.0]\n",
      "Specificity (10), mean(92.68), std(2.03): [92.86, 94.64, 94.64, 89.29, 94.64, 92.86, 89.29, 92.86, 91.07, 94.64]\n",
      "Precision   (10), mean(84.73), std(3.57): [84.62, 88.46, 88.0, 79.31, 88.46, 85.19, 78.57, 85.19, 81.48, 88.0]\n",
      "F1-Score    (10), mean(0.87), std(0.02): [0.86, 0.9, 0.88, 0.85, 0.9, 0.88, 0.83, 0.88, 0.85, 0.88]\n"
     ]
    }
   ],
   "source": [
    "print(f'Accuracy    ({len(WST_acc)}), mean({round(statistics.mean(WST_acc), 2)}), std({round(statistics.pstdev(WST_acc), 2)}): {WST_acc}')\n",
    "print(f'Sensitivity ({len(WST_sen)}), mean({round(statistics.mean(WST_sen), 2)}), std({round(statistics.pstdev(WST_sen), 2)}): {WST_sen}')\n",
    "print(f'Specificity ({len(WST_spe)}), mean({round(statistics.mean(WST_spe), 2)}), std({round(statistics.pstdev(WST_spe), 2)}): {WST_spe}')\n",
    "print(f'Precision   ({len(WST_pre)}), mean({round(statistics.mean(WST_pre), 2)}), std({round(statistics.pstdev(WST_pre), 2)}): {WST_pre}')\n",
    "print(f'F1-Score    ({len(WST_f1s)}), mean({round(statistics.mean(WST_f1s), 2)}), std({round(statistics.pstdev(WST_f1s), 2)}): {WST_f1s}')"
   ]
  },
  {
   "cell_type": "code",
   "execution_count": 36,
   "metadata": {},
   "outputs": [
    {
     "name": "stdout",
     "output_type": "stream",
     "text": [
      "Accuracy    (10), mean(94.32), std(2.42): [91.36, 95.06, 92.59, 96.3, 96.3, 93.83, 90.12, 98.77, 95.06, 93.83]\n",
      "Sensitivity (10), mean(94.8), std(4.02): [88.0, 96.0, 88.0, 100.0, 96.0, 96.0, 92.0, 100.0, 96.0, 96.0]\n",
      "Specificity (10), mean(94.11), std(2.26): [92.86, 94.64, 94.64, 94.64, 96.43, 92.86, 89.29, 98.21, 94.64, 92.86]\n",
      "Precision   (10), mean(87.89), std(4.31): [84.62, 88.89, 88.0, 89.29, 92.31, 85.71, 79.31, 96.15, 88.89, 85.71]\n",
      "F1-Score    (10), mean(0.91), std(0.04): [0.86, 0.92, 0.88, 0.94, 0.94, 0.91, 0.85, 0.98, 0.92, 0.91]\n"
     ]
    }
   ],
   "source": [
    "print(f'Accuracy    ({len(WSF_acc)}), mean({round(statistics.mean(WSF_acc), 2)}), std({round(statistics.pstdev(WSF_acc), 2)}): {WSF_acc}')\n",
    "print(f'Sensitivity ({len(WSF_sen)}), mean({round(statistics.mean(WSF_sen), 2)}), std({round(statistics.pstdev(WSF_sen), 2)}): {WSF_sen}')\n",
    "print(f'Specificity ({len(WSF_spe)}), mean({round(statistics.mean(WSF_spe), 2)}), std({round(statistics.pstdev(WSF_spe), 2)}): {WSF_spe}')\n",
    "print(f'Precision   ({len(WSF_pre)}), mean({round(statistics.mean(WSF_pre), 2)}), std({round(statistics.pstdev(WSF_pre), 2)}): {WSF_pre}')\n",
    "print(f'F1-Score    ({len(WSF_f1s)}), mean({round(statistics.mean(WSF_f1s), 2)}), std({round(statistics.pstdev(WSF_f1s), 2)}): {WSF_f1s}')"
   ]
  },
  {
   "cell_type": "code",
   "execution_count": 37,
   "metadata": {},
   "outputs": [
    {
     "name": "stdout",
     "output_type": "stream",
     "text": [
      "Accuracy    (10), mean(93.33), std(2.48): [88.89, 93.83, 93.83, 97.53, 96.3, 92.59, 90.12, 95.06, 92.59, 92.59]\n",
      "Sensitivity (10), mean(88.0), std(3.1): [80.0, 88.0, 88.0, 92.0, 88.0, 88.0, 88.0, 88.0, 92.0, 88.0]\n",
      "Specificity (10), mean(95.71), std(2.9): [92.86, 96.43, 96.43, 100.0, 100.0, 94.64, 91.07, 98.21, 92.86, 94.64]\n",
      "Precision   (10), mean(90.5), std(6.19): [83.33, 91.67, 91.67, 100.0, 100.0, 88.0, 81.48, 95.65, 85.19, 88.0]\n",
      "F1-Score    (10), mean(0.89), std(0.04): [0.82, 0.9, 0.9, 0.96, 0.94, 0.88, 0.85, 0.92, 0.88, 0.88]\n"
     ]
    }
   ],
   "source": [
    "print(f'Accuracy    ({len(WTF_acc)}), mean({round(statistics.mean(WTF_acc), 2)}), std({round(statistics.pstdev(WTF_acc), 2)}): {WTF_acc}')\n",
    "print(f'Sensitivity ({len(WTF_sen)}), mean({round(statistics.mean(WTF_sen), 2)}), std({round(statistics.pstdev(WTF_sen), 2)}): {WTF_sen}')\n",
    "print(f'Specificity ({len(WTF_spe)}), mean({round(statistics.mean(WTF_spe), 2)}), std({round(statistics.pstdev(WTF_spe), 2)}): {WTF_spe}')\n",
    "print(f'Precision   ({len(WTF_pre)}), mean({round(statistics.mean(WTF_pre), 2)}), std({round(statistics.pstdev(WTF_pre), 2)}): {WTF_pre}')\n",
    "print(f'F1-Score    ({len(WTF_f1s)}), mean({round(statistics.mean(WTF_f1s), 2)}), std({round(statistics.pstdev(WTF_f1s), 2)}): {WTF_f1s}')"
   ]
  },
  {
   "cell_type": "code",
   "execution_count": 38,
   "metadata": {},
   "outputs": [
    {
     "name": "stdout",
     "output_type": "stream",
     "text": [
      "Accuracy    (10), mean(86.54), std(1.51): [86.42, 88.89, 86.42, 86.42, 83.95, 86.42, 88.89, 85.19, 87.65, 85.19]\n",
      "Sensitivity (10), mean(59.2), std(4.66): [60.0, 64.0, 56.0, 60.0, 48.0, 60.0, 64.0, 60.0, 64.0, 56.0]\n",
      "Specificity (10), mean(98.75), std(1.14): [98.21, 100.0, 100.0, 98.21, 100.0, 98.21, 100.0, 96.43, 98.21, 98.21]\n",
      "Precision   (10), mean(95.69), std(3.86): [93.75, 100.0, 100.0, 93.75, 100.0, 93.75, 100.0, 88.24, 94.12, 93.33]\n",
      "F1-Score    (10), mean(0.73), std(0.04): [0.73, 0.78, 0.72, 0.73, 0.65, 0.73, 0.78, 0.71, 0.76, 0.7]\n"
     ]
    }
   ],
   "source": [
    "print(f'Accuracy    ({len(STF_acc)}), mean({round(statistics.mean(STF_acc), 2)}), std({round(statistics.pstdev(STF_acc), 2)}): {STF_acc}')\n",
    "print(f'Sensitivity ({len(STF_sen)}), mean({round(statistics.mean(STF_sen), 2)}), std({round(statistics.pstdev(STF_sen), 2)}): {STF_sen}')\n",
    "print(f'Specificity ({len(STF_spe)}), mean({round(statistics.mean(STF_spe), 2)}), std({round(statistics.pstdev(STF_spe), 2)}): {STF_spe}')\n",
    "print(f'Precision   ({len(STF_pre)}), mean({round(statistics.mean(STF_pre), 2)}), std({round(statistics.pstdev(STF_pre), 2)}): {STF_pre}')\n",
    "print(f'F1-Score    ({len(STF_f1s)}), mean({round(statistics.mean(STF_f1s), 2)}), std({round(statistics.pstdev(STF_f1s), 2)}): {STF_f1s}')"
   ]
  },
  {
   "cell_type": "markdown",
   "metadata": {},
   "source": [
    "# 4 Subtask"
   ]
  },
  {
   "cell_type": "code",
   "execution_count": 39,
   "metadata": {},
   "outputs": [
    {
     "name": "stdout",
     "output_type": "stream",
     "text": [
      "-> Seed_value=10, Combined [W+S+T+F], Number of Subjects: 81 \n",
      "-> Seed_value=20, Combined [W+S+T+F], Number of Subjects: 81 \n",
      "-> Seed_value=42, Combined [W+S+T+F], Number of Subjects: 81 \n",
      "-> Seed_value=64, Combined [W+S+T+F], Number of Subjects: 81 \n",
      "-> Seed_value=100, Combined [W+S+T+F], Number of Subjects: 81 \n",
      "-> Seed_value=123, Combined [W+S+T+F], Number of Subjects: 81 \n",
      "-> Seed_value=200, Combined [W+S+T+F], Number of Subjects: 81 \n",
      "-> Seed_value=456, Combined [W+S+T+F], Number of Subjects: 81 \n",
      "-> Seed_value=1001, Combined [W+S+T+F], Number of Subjects: 81 \n",
      "-> Seed_value=12321, Combined [W+S+T+F], Number of Subjects: 81 \n"
     ]
    }
   ],
   "source": [
    "WSTF_acc, WSTF_sen, WSTF_spe, WSTF_pre, WSTF_f1s = [], [], [], [], []\n",
    "\n",
    "\n",
    "def get_weighted_result_four_subtask_RandomSeed_based(pidList, score1, score2, score3, score4, result1, result2, result3, result4, subtask_importance):\n",
    "    lambda1 = score1\n",
    "    lambda2 = score2\n",
    "    lambda3 = score3\n",
    "    lambda4 = score4\n",
    "\n",
    "    tmp_result_dict = {}\n",
    "    tmp_pred_list, tmp_true_list = [], []\n",
    "\n",
    "    for pid in pidList:\n",
    "        task1_probNC, task1_probAD = 0, 0\n",
    "        task2_probNC, task2_probAD = 0, 0\n",
    "        task3_probNC, task3_probAD = 0, 0\n",
    "        task4_probNC, task4_probAD = 0, 0\n",
    "        conf1, conf2, conf3, conf4 = 0, 0, 0, 0\n",
    "\n",
    "        n_subtask = 0\n",
    "        if pid in result1:\n",
    "            n_subtask += 1\n",
    "            task1_probNC = result1[pid]['prob_class0']\n",
    "            task1_probAD = result1[pid]['prob_class1']\n",
    "            actual_label = result1[pid]['actual']\n",
    "            conf1 = subtask_importance[pid]['Walk']['conf']\n",
    "        if pid in result2:\n",
    "            n_subtask += 1\n",
    "            task2_probNC = result2[pid]['prob_class0']\n",
    "            task2_probAD = result2[pid]['prob_class1']\n",
    "            actual_label = result2[pid]['actual']\n",
    "            conf2 = subtask_importance[pid]['SitStand']['conf']\n",
    "        if pid in result3:\n",
    "            n_subtask += 1\n",
    "            task3_probNC = result3[pid]['prob_class0']\n",
    "            task3_probAD = result3[pid]['prob_class1']\n",
    "            actual_label = result3[pid]['actual']\n",
    "            conf3 = subtask_importance[pid]['Turn']['conf']\n",
    "        if pid in result4:\n",
    "            n_subtask += 1\n",
    "            task4_probNC = result4[pid]['prob_class0']\n",
    "            task4_probAD = result4[pid]['prob_class1']\n",
    "            actual_label = result4[pid]['actual']\n",
    "            conf4 = subtask_importance[pid]['Facial']['conf']\n",
    "\n",
    "        if n_subtask==0:\n",
    "            print(f'Combined [4 subtasks] pid {pid} NOT exist.')\n",
    "        else:\n",
    "            probNC = (lambda1*conf1*task1_probNC + lambda2*conf2*task2_probNC + lambda3*conf3*task3_probNC + lambda4*conf4*task4_probNC)/n_subtask\n",
    "            probAD = (lambda1*conf1*task1_probAD + lambda2*conf2*task2_probAD + lambda3*conf3*task3_probAD + lambda4*conf4*task4_probAD)/n_subtask\n",
    "            \n",
    "            if probAD >= probNC: pred_label = 1\n",
    "            else: pred_label = 0\n",
    "    \n",
    "            tmp_result_dict[pid] = {}\n",
    "            tmp_result_dict[pid]['probNC'] = probNC\n",
    "            tmp_result_dict[pid]['probAD'] = probAD\n",
    "            tmp_result_dict[pid]['prediction'] = pred_label\n",
    "            tmp_result_dict[pid]['actual'] = actual_label\n",
    "            \n",
    "            tmp_pred_list.append(pred_label)\n",
    "            tmp_true_list.append(actual_label)\n",
    "    return tmp_pred_list, tmp_true_list, tmp_result_dict\n",
    "\n",
    "\n",
    "def analyze_four_subtask_result(pidList, seed_value_list):\n",
    "    for idx, seed_value in enumerate(seed_value_list):\n",
    "        w_f1score = single_w_f1score[idx]\n",
    "        s_f1score = single_s_f1score[idx]\n",
    "        t_f1score = single_t_f1score[idx]\n",
    "        f_f1score = single_f_f1score[idx]\n",
    "        \n",
    "        w_filename = w_result_randomseed_path + str(seed_value) + \"_FS_weighted.csv\"\n",
    "        s_filename = s_result_randomseed_path + str(seed_value) + \"_SitStand_combined.csv\"\n",
    "        t_filename = t_result_randomseed_path + str(seed_value) + \"_Turning_Subtask.csv \"\n",
    "        f_filename = f_result_randomseed_path + str(seed_value) + \"_FS_weighted.csv \"\n",
    "\n",
    "        w_result_dict = create_walking_sitstand_facial_subtask_dictionary_RandomSeed(w_filename)\n",
    "        s_result_dict = create_walking_sitstand_facial_subtask_dictionary_RandomSeed(s_filename)\n",
    "        t_result_dict = create_turning_subtask_dictionary_RandomSeed(t_filename)\n",
    "        f_result_dict = create_walking_sitstand_facial_subtask_dictionary_RandomSeed(f_filename)\n",
    "        \n",
    "        subtask_importance = {}\n",
    "        subtask_importance = organize_subtask_importance_data_RandomSeed(seed_value, pidList, w_f1score, s_f1score, t_f1score, f_f1score, w_result_dict, s_result_dict, t_result_dict, f_result_dict)\n",
    "            \n",
    "        print(f'-> Seed_value={seed_value}, Combined [W+S+T+F], Number of Subjects: {len(pidList)} ')\n",
    "        pred_list, true_list, weighted_result_dict = get_weighted_result_four_subtask_RandomSeed_based(pidList, w_f1score, s_f1score, t_f1score, f_f1score, w_result_dict, s_result_dict, t_result_dict, f_result_dict, subtask_importance)\n",
    "\n",
    "        acc, sen, spe, pre, f1score = calculate_acc_sen_spe_pre_f1score(true_list, pred_list)\n",
    "        WSTF_acc.append(acc)\n",
    "        WSTF_sen.append(sen)\n",
    "        WSTF_spe.append(spe)\n",
    "        WSTF_pre.append(pre)\n",
    "        WSTF_f1s.append(f1score)\n",
    "\n",
    "analyze_four_subtask_result(all_pid_list_based, random_seed_list)"
   ]
  },
  {
   "cell_type": "code",
   "execution_count": 40,
   "metadata": {},
   "outputs": [
    {
     "name": "stdout",
     "output_type": "stream",
     "text": [
      "Accuracy    (10), mean(93.21), std(2.16): [90.12, 93.83, 92.59, 96.3, 96.3, 93.83, 90.12, 95.06, 91.36, 92.59]\n",
      "Sensitivity (10), mean(87.2), std(1.6): [84.0, 88.0, 84.0, 88.0, 88.0, 88.0, 88.0, 88.0, 88.0, 88.0]\n",
      "Specificity (10), mean(95.89), std(2.88): [92.86, 96.43, 96.43, 100.0, 100.0, 96.43, 91.07, 98.21, 92.86, 94.64]\n",
      "Precision   (10), mean(90.84), std(6.11): [84.0, 91.67, 91.3, 100.0, 100.0, 91.67, 81.48, 95.65, 84.62, 88.0]\n",
      "F1-Score    (10), mean(0.89), std(0.03): [0.84, 0.9, 0.87, 0.94, 0.94, 0.9, 0.85, 0.92, 0.86, 0.88]\n"
     ]
    }
   ],
   "source": [
    "print(f'Accuracy    ({len(WSTF_acc)}), mean({round(statistics.mean(WSTF_acc), 2)}), std({round(statistics.pstdev(WSTF_acc), 2)}): {WSTF_acc}')\n",
    "print(f'Sensitivity ({len(WSTF_sen)}), mean({round(statistics.mean(WSTF_sen), 2)}), std({round(statistics.pstdev(WSTF_sen), 2)}): {WSTF_sen}')\n",
    "print(f'Specificity ({len(WSTF_spe)}), mean({round(statistics.mean(WSTF_spe), 2)}), std({round(statistics.pstdev(WSTF_spe), 2)}): {WSTF_spe}')\n",
    "print(f'Precision   ({len(WSTF_pre)}), mean({round(statistics.mean(WSTF_pre), 2)}), std({round(statistics.pstdev(WSTF_pre), 2)}): {WSTF_pre}')\n",
    "print(f'F1-Score    ({len(WSTF_f1s)}), mean({round(statistics.mean(WSTF_f1s), 2)}), std({round(statistics.pstdev(WSTF_f1s), 2)}): {WSTF_f1s}')"
   ]
  },
  {
   "cell_type": "code",
   "execution_count": null,
   "metadata": {},
   "outputs": [],
   "source": []
  },
  {
   "cell_type": "code",
   "execution_count": null,
   "metadata": {},
   "outputs": [],
   "source": []
  },
  {
   "cell_type": "code",
   "execution_count": null,
   "metadata": {},
   "outputs": [],
   "source": []
  },
  {
   "cell_type": "code",
   "execution_count": null,
   "metadata": {},
   "outputs": [],
   "source": []
  },
  {
   "cell_type": "code",
   "execution_count": null,
   "metadata": {},
   "outputs": [],
   "source": []
  },
  {
   "cell_type": "code",
   "execution_count": null,
   "metadata": {},
   "outputs": [],
   "source": []
  },
  {
   "cell_type": "code",
   "execution_count": null,
   "metadata": {},
   "outputs": [],
   "source": []
  }
 ],
 "metadata": {
  "kernelspec": {
   "display_name": "tf-gpu",
   "language": "python",
   "name": "python3"
  },
  "language_info": {
   "codemirror_mode": {
    "name": "ipython",
    "version": 3
   },
   "file_extension": ".py",
   "mimetype": "text/x-python",
   "name": "python",
   "nbconvert_exporter": "python",
   "pygments_lexer": "ipython3",
   "version": "3.7.16"
  }
 },
 "nbformat": 4,
 "nbformat_minor": 2
}
