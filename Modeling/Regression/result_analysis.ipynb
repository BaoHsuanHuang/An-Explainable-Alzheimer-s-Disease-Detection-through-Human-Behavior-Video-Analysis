{
 "cells": [
  {
   "cell_type": "markdown",
   "id": "08fc0c3d-0be1-4cea-bc27-7f2e15d76c8e",
   "metadata": {},
   "source": [
    "# Import"
   ]
  },
  {
   "cell_type": "code",
   "execution_count": 1,
   "id": "8ce6e1b6-1f1c-4628-9b58-129aa8480725",
   "metadata": {},
   "outputs": [
    {
     "name": "stdout",
     "output_type": "stream",
     "text": [
      "numpy version = 1.22.4\n",
      "tensorflow version = 2.6.0\n"
     ]
    }
   ],
   "source": [
    "import numpy as np\n",
    "print(f'numpy version = {np.__version__}')\n",
    "\n",
    "import tensorflow as tf\n",
    "print(f'tensorflow version = {tf.__version__}')"
   ]
  },
  {
   "cell_type": "code",
   "execution_count": 2,
   "id": "521b6917-7b7f-4752-815d-1be5a267551d",
   "metadata": {},
   "outputs": [],
   "source": [
    "import os\n",
    "import cv2\n",
    "import csv\n",
    "import sys\n",
    "import math\n",
    "import statistics\n",
    "import numpy as np\n",
    "import pandas as pd\n",
    "import seaborn as sns\n",
    "import tensorflow as tf\n",
    "import matplotlib.pyplot as plt"
   ]
  },
  {
   "cell_type": "code",
   "execution_count": 3,
   "id": "28bb54d3-2615-44d0-85cf-71ff4dcd043f",
   "metadata": {},
   "outputs": [],
   "source": [
    "from sklearn.preprocessing import LabelEncoder\n",
    "\n",
    "from sklearn.metrics import f1_score, classification_report\n",
    "from sklearn.metrics import confusion_matrix\n",
    "\n",
    "from mlxtend.plotting import plot_confusion_matrix\n",
    "from sklearn.metrics import f1_score, classification_report\n",
    "from sklearn.metrics import roc_curve, roc_auc_score, auc\n",
    "from sklearn.metrics import confusion_matrix, ConfusionMatrixDisplay\n",
    "\n",
    "from scipy import stats"
   ]
  },
  {
   "cell_type": "markdown",
   "id": "a3cd52a1-b1a5-4521-9a1d-4f3248888de9",
   "metadata": {},
   "source": [
    "# Global Variables"
   ]
  },
  {
   "cell_type": "code",
   "execution_count": 4,
   "id": "bdd80ae4-5f7e-422b-b57a-caeeb7646ba1",
   "metadata": {},
   "outputs": [],
   "source": [
    "n_FOLD = 5\n",
    "n_SUBTASK = 4\n",
    "\n",
    "# remove_dementia_pid_list = [22, 33, 57, 58, 64, 66, 67]\n",
    "# remove_dementia_pid_list_str = ['22', '33', '57', '58', '64', '66', '67']"
   ]
  },
  {
   "cell_type": "markdown",
   "id": "35d8fd59-d9b4-4602-91a1-e968c3750076",
   "metadata": {},
   "source": [
    "# Subjects ID"
   ]
  },
  {
   "cell_type": "code",
   "execution_count": 21,
   "id": "8527b80c",
   "metadata": {},
   "outputs": [],
   "source": [
    "### MMSE\n",
    "# df_walk = pd.read_csv(\"Results/Walking_PreTrained_MMSE.csv\")\n",
    "# df_sitstand = pd.read_csv(\"Results/SitStand_PreTrained_MMSE.csv\")\n",
    "# df_turn = pd.read_csv(\"Results/Turning_MMSE.csv\")\n",
    "# df_facial = pd.read_csv(\"Results/Facial_PreTrained_MMSE.csv\")\n",
    "\n",
    "### CDR\n",
    "# df_walk = pd.read_csv(\"Results/Walking_PreTrained_CDR.csv\")\n",
    "# df_sitstand = pd.read_csv(\"Results/SitStand_PreTrained_CDR.csv\")\n",
    "# df_turn = pd.read_csv(\"Results/Turning_CDR.csv\")\n",
    "# df_facial = pd.read_csv(\"Results/Facial_PreTrained_CDR.csv\")\n",
    "\n",
    "### CDR-SOB\n",
    "df_walk = pd.read_csv(\"Results/Walking_PreTrained_CDRSOB.csv\")\n",
    "df_sitstand = pd.read_csv(\"Results/SitStand_PreTrained_CDRSOB.csv\")\n",
    "df_turn = pd.read_csv(\"Results/Turning_CDRSOB.csv\")\n",
    "df_facial = pd.read_csv(\"Results/Facial_PreTrained_CDRSOB.csv\")\n",
    "\n",
    "\n",
    "# df_walk = pd.read_csv(\"Results/Walking_MMSE.csv\")\n",
    "# df_sitstand = pd.read_csv(\"Results/SitStand_MMSE.csv\")\n",
    "# df_turn = pd.read_csv(\"Results/Turning_MMSE.csv\")\n",
    "# df_facial = pd.read_csv(\"Results/Facial_MMSE.csv\")\n",
    "\n",
    "# df_walk = pd.read_csv(\"Results/Walking_CDR.csv\")\n",
    "# df_sitstand = pd.read_csv(\"Results/SitStand_CDR.csv\")\n",
    "# df_turn = pd.read_csv(\"Results/Turning_CDR.csv\")\n",
    "# df_facial = pd.read_csv(\"Results/Facial_CDR.csv\")\n",
    "\n",
    "# df_walk = pd.read_csv(\"Results/Walking_CDRSOB.csv\")\n",
    "# df_sitstand = pd.read_csv(\"Results/SitStand_CDRSOB.csv\")\n",
    "# df_turn = pd.read_csv(\"Results/Turning_CDRSOB.csv\")\n",
    "# df_facial = pd.read_csv(\"Results/Facial_CDRSOB.csv\")\n",
    "\n",
    "# df_walk = pd.read_csv(\"Results/Walking_PreTrained_CDRSOB.csv\")\n",
    "# df_sitstand = pd.read_csv(\"Results/SitStand_PreTrained_CDRSOB.csv\")\n",
    "# df_turn = pd.read_csv(\"Results/Turning_CDR.csv\")\n",
    "# df_facial = pd.read_csv(\"Results/Facial_PreTrained_CDRSOB.csv\")"
   ]
  },
  {
   "cell_type": "code",
   "execution_count": 22,
   "id": "e88ce264-88f6-40d0-9cde-ce410070d409",
   "metadata": {},
   "outputs": [],
   "source": [
    "all_pid_list = []\n",
    "all_pid_list_based = []\n",
    "walk_pid_list, sitstand_pid_list, turn_pid_list, facial_pid_list = [], [], [], []\n",
    "\n",
    "\n",
    "def get_all_pid(walk, sitstand, facial, turn):\n",
    "    tmp_list = []\n",
    "    \n",
    "    for i in range(walk.shape[0]):\n",
    "        pid = walk.loc[i, 'Pid']\n",
    "        tmp_list.append(pid)\n",
    "    for i in range(sitstand.shape[0]):\n",
    "        pid = sitstand.loc[i, 'Pid']\n",
    "        if (pid in tmp_list) == False:\n",
    "            tmp_list.append(pid)\n",
    "            # print(f'[add pid: Sit&Stand] pid: {pid}')\n",
    "    for i in range(facial.shape[0]):\n",
    "        pid = facial.loc[i, 'Pid']\n",
    "        if (pid in tmp_list) == False:\n",
    "            tmp_list.append(pid)\n",
    "            # print(f'[add pid: Facial] pid: {pid}')\n",
    "    for i in range(turn.shape[0]):\n",
    "        pid = turn.loc[i, 'Pid']\n",
    "        if (pid in tmp_list) == False:\n",
    "            tmp_list.append(pid)\n",
    "            # print(f'[add pid: Turning] pid: {pid}')\n",
    "    return tmp_list\n",
    "\n",
    "def get_all_pid_based(walk, sitstand, facial, turn, pidList):\n",
    "    tmp_list = []\n",
    "    pid_walk, pid_sitstand, pid_turn, pid_facial = [], [], [], []\n",
    "    \n",
    "    for i in range(walk.shape[0]): pid_walk.append(walk.loc[i, 'Pid'])\n",
    "    for i in range(sitstand.shape[0]): pid_sitstand.append(sitstand.loc[i, 'Pid'])\n",
    "    for i in range(turn.shape[0]): pid_turn.append(turn.loc[i, 'Pid'])\n",
    "    for i in range(facial.shape[0]): pid_facial.append(facial.loc[i, 'Pid'])\n",
    "\n",
    "    for pid in pidList:\n",
    "        if (pid in pid_walk) and (pid in pid_sitstand) and (pid in pid_turn) and (pid in pid_facial):\n",
    "            tmp_list.append(pid)\n",
    "    return tmp_list, pid_walk, pid_sitstand, pid_turn, pid_facial\n",
    "\n",
    "\n",
    "all_pid_list = get_all_pid(df_walk, df_sitstand, df_facial, df_turn)\n",
    "all_pid_list_based, walk_pid_list, sitstand_pid_list, turn_pid_list, facial_pid_list = get_all_pid_based(df_walk, df_sitstand, df_facial, df_turn, all_pid_list)"
   ]
  },
  {
   "cell_type": "code",
   "execution_count": 23,
   "id": "09f7abe6-7c0a-4916-844a-7f20d9a87a94",
   "metadata": {},
   "outputs": [
    {
     "name": "stdout",
     "output_type": "stream",
     "text": [
      "# of valid pid: 99 subjects.\n",
      "[1, 2, 3, 4, 5, 6, 7, 9, 10, 11, 12, 13, 16, 17, 18, 19, 20, 21, 22, 24, 25, 26, 27, 28, 29, 30, 31, 32, 33, 34, 35, 36, 37, 38, 39, 40, 43, 44, 45, 46, 48, 49, 51, 52, 57, 58, 59, 60, 61, 62, 63, 64, 65, 66, 67, 68, 69, 70, 71, 72, 73, 74, 75, 76, 77, 78, 79, 80, 81, 82, 83, 84, 85, 86, 87, 88, 89, 90, 91, 92, 93, 94, 95, 96, 97, 98, 99, 100, 8, 14, 15, 23, 42, 47, 50, 53, 54, 55, 56]\n",
      "\n",
      "# of valid pid (based): 81 subjects.\n",
      "[1, 2, 3, 5, 6, 10, 11, 12, 13, 16, 17, 18, 19, 20, 21, 22, 24, 25, 26, 27, 28, 29, 30, 31, 33, 34, 35, 36, 37, 38, 39, 40, 43, 44, 45, 46, 48, 49, 51, 52, 57, 58, 59, 62, 63, 64, 65, 66, 67, 68, 69, 70, 71, 72, 73, 74, 75, 76, 77, 78, 79, 80, 81, 82, 83, 84, 86, 87, 88, 89, 90, 91, 92, 93, 94, 95, 96, 97, 98, 99, 100]\n",
      "\n",
      "# of subjects in 【Walking】 Subtask: 88 subjects.\n",
      "[1, 2, 3, 4, 5, 6, 7, 9, 10, 11, 12, 13, 16, 17, 18, 19, 20, 21, 22, 24, 25, 26, 27, 28, 29, 30, 31, 32, 33, 34, 35, 36, 37, 38, 39, 40, 43, 44, 45, 46, 48, 49, 51, 52, 57, 58, 59, 60, 61, 62, 63, 64, 65, 66, 67, 68, 69, 70, 71, 72, 73, 74, 75, 76, 77, 78, 79, 80, 81, 82, 83, 84, 85, 86, 87, 88, 89, 90, 91, 92, 93, 94, 95, 96, 97, 98, 99, 100]\n",
      "\n",
      "# of subjects in 【SitStand】 Subtask: 88 subjects.\n",
      "[1, 2, 3, 4, 5, 6, 7, 9, 10, 11, 12, 13, 16, 17, 18, 19, 20, 21, 22, 24, 25, 26, 27, 28, 29, 30, 31, 32, 33, 34, 35, 36, 37, 38, 39, 40, 43, 44, 45, 46, 48, 49, 51, 52, 57, 58, 59, 60, 61, 62, 63, 64, 65, 66, 67, 68, 69, 70, 71, 72, 73, 74, 75, 76, 77, 78, 79, 80, 81, 82, 83, 84, 85, 86, 87, 88, 89, 90, 91, 92, 93, 94, 95, 96, 97, 98, 99, 100]\n",
      "\n",
      "# of subjects in 【Turning】 Subtask: 83 subjects.\n",
      "[1, 2, 3, 5, 6, 10, 11, 12, 13, 16, 17, 18, 19, 20, 21, 22, 24, 25, 26, 27, 28, 29, 30, 31, 33, 34, 35, 36, 37, 38, 39, 40, 43, 44, 45, 46, 48, 49, 51, 52, 57, 58, 59, 61, 62, 63, 64, 65, 66, 67, 68, 69, 70, 71, 72, 73, 74, 75, 76, 77, 78, 79, 80, 81, 82, 83, 84, 85, 86, 87, 88, 89, 90, 91, 92, 93, 94, 95, 96, 97, 98, 99, 100]\n",
      "\n",
      "# of subjects in 【Facial】 Subtask: 96 subjects.\n",
      "[1, 2, 3, 4, 5, 6, 7, 8, 9, 10, 11, 12, 13, 14, 15, 16, 17, 18, 19, 20, 21, 22, 23, 24, 25, 26, 27, 28, 29, 30, 31, 32, 33, 34, 35, 36, 37, 38, 39, 40, 42, 43, 44, 45, 46, 47, 48, 49, 50, 51, 52, 53, 54, 55, 56, 57, 58, 59, 62, 63, 64, 65, 66, 67, 68, 69, 70, 71, 72, 73, 74, 75, 76, 77, 78, 79, 80, 81, 82, 83, 84, 86, 87, 88, 89, 90, 91, 92, 93, 94, 95, 96, 97, 98, 99, 100]\n"
     ]
    }
   ],
   "source": [
    "print(f'# of valid pid: {len(all_pid_list)} subjects.')\n",
    "print(all_pid_list)\n",
    "print(f'\\n# of valid pid (based): {len(all_pid_list_based)} subjects.')\n",
    "print(all_pid_list_based)\n",
    "\n",
    "print(f'\\n# of subjects in 【Walking】 Subtask: {len(walk_pid_list)} subjects.')\n",
    "print(walk_pid_list)\n",
    "print(f'\\n# of subjects in 【SitStand】 Subtask: {len(sitstand_pid_list)} subjects.')\n",
    "print(sitstand_pid_list)\n",
    "print(f'\\n# of subjects in 【Turning】 Subtask: {len(turn_pid_list)} subjects.')\n",
    "print(turn_pid_list)\n",
    "print(f'\\n# of subjects in 【Facial】 Subtask: {len(facial_pid_list)} subjects.')\n",
    "print(facial_pid_list)"
   ]
  },
  {
   "cell_type": "markdown",
   "id": "3a406066",
   "metadata": {},
   "source": [
    "# CSV to Dict"
   ]
  },
  {
   "cell_type": "code",
   "execution_count": 24,
   "id": "0a4ea501",
   "metadata": {},
   "outputs": [
    {
     "data": {
      "text/plain": [
       "{'prediction': 0.78959316, 'ground_truth': 0.0, 'label': 0}"
      ]
     },
     "execution_count": 24,
     "metadata": {},
     "output_type": "execute_result"
    }
   ],
   "source": [
    "walk_dict = {}\n",
    "sitstand_dict = {}\n",
    "turn_dict = {}\n",
    "facial_dict = {}\n",
    "\n",
    "def creat_prediction_result_dict(df):\n",
    "    tmp_dict = {}\n",
    "    for row_idx in range(df.shape[0]):\n",
    "        pid = df.loc[row_idx, \"Pid\"]\n",
    "        pred = df.loc[row_idx, \"Prediction\"]\n",
    "        truth = df.loc[row_idx, \"Ground_Truth\"]\n",
    "        label = df.loc[row_idx, \"Label\"]\n",
    "        tmp_dict[pid] = {}\n",
    "        tmp_dict[pid]['prediction'] = pred\n",
    "        tmp_dict[pid]['ground_truth'] = truth\n",
    "        tmp_dict[pid]['label'] = label\n",
    "    return tmp_dict\n",
    "\n",
    "walk_dict = creat_prediction_result_dict(df_walk)\n",
    "sitstand_dict = creat_prediction_result_dict(df_sitstand)\n",
    "turn_dict = creat_prediction_result_dict(df_turn)\n",
    "facial_dict = creat_prediction_result_dict(df_facial)\n",
    "\n",
    "walk_dict[1]"
   ]
  },
  {
   "cell_type": "code",
   "execution_count": null,
   "id": "048a753f",
   "metadata": {},
   "outputs": [],
   "source": []
  },
  {
   "cell_type": "markdown",
   "id": "d250f9c9",
   "metadata": {},
   "source": [
    "# Prediction Score (MMSE)"
   ]
  },
  {
   "cell_type": "code",
   "execution_count": 9,
   "id": "77c3c38c",
   "metadata": {},
   "outputs": [
    {
     "data": {
      "text/plain": [
       "{'prediction': 22.52, 'ground_truth': 30, 'label': 0}"
      ]
     },
     "execution_count": 9,
     "metadata": {},
     "output_type": "execute_result"
    }
   ],
   "source": [
    "MMSE_combined_prediction_dict = {}\n",
    "\n",
    "MMSE_combined_label = []\n",
    "MMSE_combined_prediction = []\n",
    "MMSE_combined_truth = []\n",
    "\n",
    "def get_MMSE_combined_prediction_result(pidList, walk, sitstand, turn, facial):\n",
    "    tmp_result = {}\n",
    "    for pid in pidList:\n",
    "        score = 0\n",
    "        n_subtask = 0\n",
    "        \n",
    "        if pid in walk:\n",
    "            n_subtask += 1\n",
    "            score += walk[pid]['prediction']\n",
    "            label = walk[pid]['label']\n",
    "            ground_truth = walk[pid]['ground_truth']\n",
    "        if pid in sitstand:\n",
    "            n_subtask += 1\n",
    "            score += sitstand[pid]['prediction']\n",
    "            label = sitstand[pid]['label']\n",
    "            ground_truth = sitstand[pid]['ground_truth']\n",
    "        if pid in turn:\n",
    "            n_subtask += 1\n",
    "            score += turn[pid]['prediction']\n",
    "            label = turn[pid]['label']\n",
    "            ground_truth = turn[pid]['ground_truth']\n",
    "        if pid in facial:\n",
    "            n_subtask += 1\n",
    "            score += facial[pid]['prediction']\n",
    "            label = facial[pid]['label']\n",
    "            ground_truth = facial[pid]['ground_truth']\n",
    "\n",
    "        combined_score = round(score/n_subtask, 2)\n",
    "        tmp_result[pid] = {}\n",
    "        tmp_result[pid]['prediction'] = combined_score\n",
    "        tmp_result[pid]['ground_truth'] = ground_truth\n",
    "        tmp_result[pid]['label'] = label\n",
    "\n",
    "        MMSE_combined_label.append(\"AD\" if label==1 else \"Non-AD\")\n",
    "        MMSE_combined_prediction.append(combined_score)\n",
    "        MMSE_combined_truth.append(ground_truth)\n",
    "    return tmp_result\n",
    "\n",
    "MMSE_combined_prediction_dict = get_MMSE_combined_prediction_result(all_pid_list, walk_dict, sitstand_dict, turn_dict, facial_dict)\n",
    "MMSE_combined_prediction_dict[1]"
   ]
  },
  {
   "cell_type": "code",
   "execution_count": 10,
   "id": "2956b86d",
   "metadata": {},
   "outputs": [
    {
     "data": {
      "text/plain": [
       "<matplotlib.legend.Legend at 0x1b7a1130f70>"
      ]
     },
     "execution_count": 10,
     "metadata": {},
     "output_type": "execute_result"
    },
    {
     "data": {
      "image/png": "[encoded data removed]",
      "text/plain": [
       "<Figure size 500x500 with 1 Axes>"
      ]
     },
     "metadata": {},
     "output_type": "display_data"
    }
   ],
   "source": [
    "result_df = pd.DataFrame()\n",
    "result_df['Label'] = MMSE_combined_label\n",
    "result_df['Truth MMSE'] = MMSE_combined_truth\n",
    "result_df['Predicted MMSE'] = MMSE_combined_prediction\n",
    "\n",
    "slope, intercept, r_value, p_value, std_err = stats.linregress(result_df['Truth MMSE'], result_df['Predicted MMSE'])\n",
    "\n",
    "hue_order = ['AD', 'Non-AD']\n",
    "sns.lmplot(data=result_df, x=\"Truth MMSE\", y=\"Predicted MMSE\", hue=\"Label\", hue_order=hue_order, fit_reg=False, legend=False, palette=\"Set1\")\n",
    "ax = sns.regplot(data=result_df, x=\"Truth MMSE\", y=\"Predicted MMSE\", scatter_kws={\"zorder\":-1, \"color\": \"white\"}, line_kws={\"color\": \"gray\"})\n",
    "ax.set_xticks([0, 5, 10, 15, 20, 25, 30])\n",
    "ax.set_yticks([0, 5, 10, 15, 20, 25, 30])\n",
    "ax.legend()"
   ]
  },
  {
   "cell_type": "markdown",
   "id": "b09b2b75",
   "metadata": {},
   "source": [
    "# Prediction Score (CDR)"
   ]
  },
  {
   "cell_type": "code",
   "execution_count": 19,
   "id": "b5bb754b",
   "metadata": {},
   "outputs": [
    {
     "data": {
      "text/plain": [
       "{'prediction': 0.24, 'ground_truth': 0.0, 'label': 0}"
      ]
     },
     "execution_count": 19,
     "metadata": {},
     "output_type": "execute_result"
    }
   ],
   "source": [
    "CDR_combined_prediction_dict = {}\n",
    "\n",
    "CDR_combined_label = []\n",
    "CDR_combined_prediction = []\n",
    "CDR_combined_truth = []\n",
    "\n",
    "def get_CDR_combined_prediction_result(pidList, walk, sitstand, turn, facial):\n",
    "    tmp_result = {}\n",
    "    for pid in pidList:\n",
    "        score = 0\n",
    "        n_subtask = 0\n",
    "        \n",
    "        if pid in walk:\n",
    "            n_subtask += 1\n",
    "            score += walk[pid]['prediction']\n",
    "            label = walk[pid]['label']\n",
    "            ground_truth = walk[pid]['ground_truth']\n",
    "        if pid in sitstand:\n",
    "            n_subtask += 1\n",
    "            score += sitstand[pid]['prediction']\n",
    "            label = sitstand[pid]['label']\n",
    "            ground_truth = sitstand[pid]['ground_truth']\n",
    "        if pid in turn:\n",
    "            n_subtask += 1\n",
    "            score += turn[pid]['prediction']\n",
    "            label = turn[pid]['label']\n",
    "            ground_truth = turn[pid]['ground_truth']\n",
    "        if pid in facial:\n",
    "            n_subtask += 1\n",
    "            score += facial[pid]['prediction']\n",
    "            label = facial[pid]['label']\n",
    "            ground_truth = facial[pid]['ground_truth']\n",
    "\n",
    "        combined_score = round(score/n_subtask, 2)\n",
    "        tmp_result[pid] = {}\n",
    "        tmp_result[pid]['prediction'] = combined_score\n",
    "        tmp_result[pid]['ground_truth'] = ground_truth\n",
    "        tmp_result[pid]['label'] = label\n",
    "\n",
    "        CDR_combined_label.append(\"AD\" if label==1 else \"Non-AD\")\n",
    "        CDR_combined_prediction.append(combined_score)\n",
    "        CDR_combined_truth.append(ground_truth)\n",
    "    return tmp_result\n",
    "\n",
    "\n",
    "CDR_combined_prediction_dict = get_CDR_combined_prediction_result(all_pid_list, walk_dict, sitstand_dict, turn_dict, facial_dict)\n",
    "CDR_combined_prediction_dict[1]"
   ]
  },
  {
   "cell_type": "code",
   "execution_count": 20,
   "id": "72ac6713",
   "metadata": {},
   "outputs": [
    {
     "data": {
      "text/plain": [
       "<matplotlib.legend.Legend at 0x1b7a72c0820>"
      ]
     },
     "execution_count": 20,
     "metadata": {},
     "output_type": "execute_result"
    },
    {
     "data": {
      "image/png": "[encoded data removed]",
      "text/plain": [
       "<Figure size 500x500 with 1 Axes>"
      ]
     },
     "metadata": {},
     "output_type": "display_data"
    }
   ],
   "source": [
    "result_df = pd.DataFrame()\n",
    "result_df['Label'] = CDR_combined_label\n",
    "result_df['Truth CDR'] = CDR_combined_truth\n",
    "result_df['Predicted CDR'] = CDR_combined_prediction\n",
    "\n",
    "slope, intercept, r_value, p_value, std_err = stats.linregress(result_df['Truth CDR'], result_df['Predicted CDR'])\n",
    "\n",
    "hue_order = ['AD', 'Non-AD']\n",
    "sns.lmplot(data=result_df, x=\"Truth CDR\", y=\"Predicted CDR\", hue=\"Label\", hue_order=hue_order, fit_reg=False, legend=False, palette=\"Set1\")\n",
    "ax = sns.regplot(data=result_df, x=\"Truth CDR\", y=\"Predicted CDR\", scatter_kws={\"zorder\":-1, \"color\": \"white\"}, line_kws={\"color\": \"gray\"})\n",
    "# ax.set_xticks([0.0, 0.5, 1.0, 1.5, 2.0])\n",
    "# ax.set_yticks([0.0, 0.5, 1.0, 1.5, 2.0])\n",
    "ax.legend()"
   ]
  },
  {
   "cell_type": "markdown",
   "id": "8a455535",
   "metadata": {},
   "source": [
    "# Prediction Score (CDRSOB)"
   ]
  },
  {
   "cell_type": "code",
   "execution_count": 25,
   "id": "c387ad2c",
   "metadata": {},
   "outputs": [
    {
     "name": "stdout",
     "output_type": "stream",
     "text": [
      "[Outliner?] pid=2, value=0.909883023767272\n",
      "[Outliner?] pid=5, value=0.8496482614450722\n",
      "[Outliner?] pid=11, value=0.9111491684612113\n",
      "[Outliner?] pid=13, value=0.8887711620754736\n",
      "[Outliner?] pid=16, value=0.8156914302353193\n",
      "[Outliner?] pid=18, value=0.8842054792213748\n",
      "[Outliner?] pid=25, value=0.8637297111009488\n",
      "[Outliner?] pid=26, value=0.8181743184262888\n",
      "[Outliner?] pid=27, value=0.8406416227680236\n",
      "[Outliner?] pid=28, value=0.9681671518577697\n",
      "[Outliner?] pid=33, value=0.9673890906920778\n",
      "[Outliner?] pid=36, value=1.0657314297743528\n",
      "[Outliner?] pid=39, value=0.811461817666874\n",
      "[Outliner?] pid=45, value=0.8127861770685283\n",
      "[Outliner?] pid=48, value=0.9521235576025205\n",
      "[Outliner?] pid=49, value=0.885652118438496\n",
      "[Outliner?] pid=51, value=0.9589563772006502\n",
      "[Outliner?] pid=52, value=0.9984130046461044\n",
      "[Outliner?] pid=59, value=0.8161022683330135\n",
      "[Outliner?] pid=60, value=0.8455120026580047\n",
      "[Outliner?] pid=68, value=1.5221281041777641\n",
      "[Outliner?] pid=69, value=0.8174508426102605\n",
      "[Outliner?] pid=76, value=0.933363420675114\n",
      "[Outliner?] pid=79, value=1.0414506007969293\n",
      "[Outliner?] pid=81, value=0.8602811375929619\n",
      "[Outliner?] pid=96, value=0.9253046525923421\n",
      "[Outliner?] pid=97, value=1.1490705076576488\n",
      "[Outliner?] pid=8, value=1.1348687\n",
      "[Outliner?] pid=15, value=1.0492016\n",
      "[Outliner?] pid=23, value=1.3409535\n",
      "[Outliner?] pid=47, value=3.651061\n",
      "[Outliner?] pid=50, value=1.2592685\n",
      "[Outliner?] pid=53, value=1.0435668\n",
      "[Outliner?] pid=55, value=1.7727665\n",
      "[Outliner?] pid=56, value=0.84710866\n"
     ]
    },
    {
     "data": {
      "text/plain": [
       "{'prediction': 0.7658941863770654, 'ground_truth': 0.0, 'label': 0}"
      ]
     },
     "execution_count": 25,
     "metadata": {},
     "output_type": "execute_result"
    }
   ],
   "source": [
    "CDRSOB_combined_prediction_dict = {}\n",
    "\n",
    "CDRSOB_combined_label = []\n",
    "CDRSOB_combined_prediction = []\n",
    "CDRSOB_combined_truth = []\n",
    "\n",
    "def get_CDRSOB_combined_prediction_result(pidList, walk, sitstand, turn, facial):\n",
    "    tmp_result = {}\n",
    "    for pid in pidList:\n",
    "        score = 0\n",
    "        n_subtask = 0\n",
    "        \n",
    "        if pid in walk:\n",
    "            n_subtask += 1\n",
    "            score += walk[pid]['prediction']\n",
    "            label = walk[pid]['label']\n",
    "            ground_truth = walk[pid]['ground_truth']\n",
    "        if pid in sitstand:\n",
    "            n_subtask += 1\n",
    "            score += sitstand[pid]['prediction']\n",
    "            label = sitstand[pid]['label']\n",
    "            ground_truth = sitstand[pid]['ground_truth']\n",
    "        if pid in turn:\n",
    "            n_subtask += 1\n",
    "            score += turn[pid]['prediction']\n",
    "            label = turn[pid]['label']\n",
    "            ground_truth = turn[pid]['ground_truth']\n",
    "        if pid in facial:\n",
    "            n_subtask += 1\n",
    "            score += facial[pid]['prediction']\n",
    "            label = facial[pid]['label']\n",
    "            ground_truth = facial[pid]['ground_truth']\n",
    "\n",
    "        combined_score = score/n_subtask\n",
    "        tmp_result[pid] = {}\n",
    "        tmp_result[pid]['prediction'] = combined_score\n",
    "        tmp_result[pid]['ground_truth'] = ground_truth\n",
    "        tmp_result[pid]['label'] = label\n",
    "\n",
    "        if combined_score>0.8: print(f'[Outliner?] pid={pid}, value={combined_score}')\n",
    "\n",
    "        CDRSOB_combined_label.append(\"AD\" if label==1 else \"Non-AD\")\n",
    "        CDRSOB_combined_prediction.append(combined_score)\n",
    "        CDRSOB_combined_truth.append(ground_truth)\n",
    "    return tmp_result\n",
    "\n",
    "\n",
    "CDRSOB_combined_prediction_dict = get_CDRSOB_combined_prediction_result(all_pid_list, walk_dict, sitstand_dict, turn_dict, facial_dict)\n",
    "CDRSOB_combined_prediction_dict[1]"
   ]
  },
  {
   "cell_type": "code",
   "execution_count": 26,
   "id": "f176256f",
   "metadata": {},
   "outputs": [
    {
     "data": {
      "text/plain": [
       "<matplotlib.legend.Legend at 0x1b7a4093d30>"
      ]
     },
     "execution_count": 26,
     "metadata": {},
     "output_type": "execute_result"
    },
    {
     "data": {
      "image/png": "[encoded data removed]",
      "text/plain": [
       "<Figure size 500x500 with 1 Axes>"
      ]
     },
     "metadata": {},
     "output_type": "display_data"
    }
   ],
   "source": [
    "result_df = pd.DataFrame()\n",
    "result_df['Label'] = CDRSOB_combined_label\n",
    "result_df['Truth CDR-SOB'] = CDRSOB_combined_truth\n",
    "result_df['Predicted CDR-SOB'] = CDRSOB_combined_prediction\n",
    "\n",
    "slope, intercept, r_value, p_value, std_err = stats.linregress(result_df['Truth CDR-SOB'], result_df['Predicted CDR-SOB'])\n",
    "\n",
    "hue_order = ['AD', 'Non-AD']\n",
    "sns.lmplot(data=result_df, x=\"Truth CDR-SOB\", y=\"Predicted CDR-SOB\", hue=\"Label\", hue_order=hue_order, fit_reg=False, legend=False, palette=\"Set1\")\n",
    "ax = sns.regplot(data=result_df, x=\"Truth CDR-SOB\", y=\"Predicted CDR-SOB\", scatter_kws={\"zorder\":-1, \"color\": \"white\"}, line_kws={\"color\": \"gray\"})\n",
    "# ax.set_xticks([0, 2, 4, 6, 8])\n",
    "# ax.set_yticks([0, 2, 4, 6, 8]) \n",
    "ax.legend()"
   ]
  },
  {
   "cell_type": "code",
   "execution_count": null,
   "id": "98e1760a",
   "metadata": {},
   "outputs": [],
   "source": []
  },
  {
   "cell_type": "code",
   "execution_count": null,
   "id": "7f0f0f02",
   "metadata": {},
   "outputs": [],
   "source": []
  }
 ],
 "metadata": {
  "kernelspec": {
   "display_name": "tf-gpu-2024",
   "language": "python",
   "name": "python3"
  },
  "language_info": {
   "codemirror_mode": {
    "name": "ipython",
    "version": 3
   },
   "file_extension": ".py",
   "mimetype": "text/x-python",
   "name": "python",
   "nbconvert_exporter": "python",
   "pygments_lexer": "ipython3",
   "version": "3.9.18"
  }
 },
 "nbformat": 4,
 "nbformat_minor": 5
}
